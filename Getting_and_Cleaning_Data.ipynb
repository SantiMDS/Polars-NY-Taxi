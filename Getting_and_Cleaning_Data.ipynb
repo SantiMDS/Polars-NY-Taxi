{
 "cells": [
  {
   "cell_type": "markdown",
   "id": "b92196d8",
   "metadata": {},
   "source": [
    "# About the data"
   ]
  },
  {
   "cell_type": "markdown",
   "id": "1ac01e36",
   "metadata": {},
   "source": [
    "Download Data from this Page: https://www.nyc.gov/site/tlc/about/tlc-trip-record-data.page<br>\n",
    "Data Dictionary: https://www.nyc.gov/assets/tlc/downloads/pdf/data_dictionary_trip_records_yellow.pdf"
   ]
  },
  {
   "cell_type": "markdown",
   "id": "08255e86",
   "metadata": {},
   "source": [
    "# Imports"
   ]
  },
  {
   "cell_type": "code",
   "execution_count": 1,
   "id": "60699863",
   "metadata": {},
   "outputs": [],
   "source": [
    "import os\n",
    "import urllib\n",
    "\n",
    "import multiprocessing as mp\n",
    "\n",
    "import pandas as pd\n",
    "import polars as pl"
   ]
  },
  {
   "cell_type": "markdown",
   "id": "ba5d4239",
   "metadata": {},
   "source": [
    "# GLOBAL_VARS"
   ]
  },
  {
   "cell_type": "code",
   "execution_count": 2,
   "id": "88005cef",
   "metadata": {},
   "outputs": [],
   "source": [
    "CWD = os.getcwd()\n",
    "PATH_INPUT_FOLDER = os.path.join(CWD, \"input\")"
   ]
  },
  {
   "cell_type": "code",
   "execution_count": 3,
   "id": "6963dbef",
   "metadata": {},
   "outputs": [],
   "source": [
    "FILES_TO_DOWNLOAD = [\n",
    "    \n",
    "    \"https://d37ci6vzurychx.cloudfront.net/trip-data/yellow_tripdata_2024-01.parquet\",\n",
    "    \"https://d37ci6vzurychx.cloudfront.net/trip-data/yellow_tripdata_2024-02.parquet\",\n",
    "    \n",
    "    \"https://d37ci6vzurychx.cloudfront.net/trip-data/yellow_tripdata_2023-01.parquet\",\n",
    "    \"https://d37ci6vzurychx.cloudfront.net/trip-data/yellow_tripdata_2023-02.parquet\",\n",
    "    \"https://d37ci6vzurychx.cloudfront.net/trip-data/yellow_tripdata_2023-03.parquet\",\n",
    "    \"https://d37ci6vzurychx.cloudfront.net/trip-data/yellow_tripdata_2023-04.parquet\",\n",
    "    \"https://d37ci6vzurychx.cloudfront.net/trip-data/yellow_tripdata_2023-05.parquet\",\n",
    "    \"https://d37ci6vzurychx.cloudfront.net/trip-data/yellow_tripdata_2023-06.parquet\",\n",
    "    \"https://d37ci6vzurychx.cloudfront.net/trip-data/yellow_tripdata_2023-07.parquet\",\n",
    "    \"https://d37ci6vzurychx.cloudfront.net/trip-data/yellow_tripdata_2023-08.parquet\",\n",
    "    \"https://d37ci6vzurychx.cloudfront.net/trip-data/yellow_tripdata_2023-09.parquet\",\n",
    "    \"https://d37ci6vzurychx.cloudfront.net/trip-data/yellow_tripdata_2023-10.parquet\",\n",
    "    \"https://d37ci6vzurychx.cloudfront.net/trip-data/yellow_tripdata_2023-11.parquet\",\n",
    "    \"https://d37ci6vzurychx.cloudfront.net/trip-data/yellow_tripdata_2023-12.parquet\",\n",
    "    \n",
    "    \"https://d37ci6vzurychx.cloudfront.net/trip-data/yellow_tripdata_2022-01.parquet\",\n",
    "    \"https://d37ci6vzurychx.cloudfront.net/trip-data/yellow_tripdata_2022-02.parquet\",\n",
    "    \"https://d37ci6vzurychx.cloudfront.net/trip-data/yellow_tripdata_2022-03.parquet\",\n",
    "    \"https://d37ci6vzurychx.cloudfront.net/trip-data/yellow_tripdata_2022-04.parquet\",\n",
    "    \"https://d37ci6vzurychx.cloudfront.net/trip-data/yellow_tripdata_2022-05.parquet\",\n",
    "    \"https://d37ci6vzurychx.cloudfront.net/trip-data/yellow_tripdata_2022-06.parquet\",\n",
    "    \"https://d37ci6vzurychx.cloudfront.net/trip-data/yellow_tripdata_2022-07.parquet\",\n",
    "    \"https://d37ci6vzurychx.cloudfront.net/trip-data/yellow_tripdata_2022-08.parquet\",\n",
    "    \"https://d37ci6vzurychx.cloudfront.net/trip-data/yellow_tripdata_2022-09.parquet\",\n",
    "    \"https://d37ci6vzurychx.cloudfront.net/trip-data/yellow_tripdata_2022-10.parquet\",\n",
    "    \"https://d37ci6vzurychx.cloudfront.net/trip-data/yellow_tripdata_2022-11.parquet\",\n",
    "    \"https://d37ci6vzurychx.cloudfront.net/trip-data/yellow_tripdata_2022-12.parquet\",\n",
    "    \n",
    "    \"https://d37ci6vzurychx.cloudfront.net/trip-data/yellow_tripdata_2021-01.parquet\",\n",
    "    \"https://d37ci6vzurychx.cloudfront.net/trip-data/yellow_tripdata_2021-02.parquet\",\n",
    "    \"https://d37ci6vzurychx.cloudfront.net/trip-data/yellow_tripdata_2021-03.parquet\",\n",
    "    \"https://d37ci6vzurychx.cloudfront.net/trip-data/yellow_tripdata_2021-04.parquet\",\n",
    "    \"https://d37ci6vzurychx.cloudfront.net/trip-data/yellow_tripdata_2021-05.parquet\",\n",
    "    \"https://d37ci6vzurychx.cloudfront.net/trip-data/yellow_tripdata_2021-06.parquet\",\n",
    "    \"https://d37ci6vzurychx.cloudfront.net/trip-data/yellow_tripdata_2021-07.parquet\",\n",
    "    \"https://d37ci6vzurychx.cloudfront.net/trip-data/yellow_tripdata_2021-08.parquet\",\n",
    "    \"https://d37ci6vzurychx.cloudfront.net/trip-data/yellow_tripdata_2021-09.parquet\",\n",
    "    \"https://d37ci6vzurychx.cloudfront.net/trip-data/yellow_tripdata_2021-10.parquet\",\n",
    "    \"https://d37ci6vzurychx.cloudfront.net/trip-data/yellow_tripdata_2021-11.parquet\",\n",
    "    \"https://d37ci6vzurychx.cloudfront.net/trip-data/yellow_tripdata_2021-12.parquet\",\n",
    "    \n",
    "]"
   ]
  },
  {
   "cell_type": "markdown",
   "id": "aa70bc4b",
   "metadata": {},
   "source": [
    "# Data Downloading"
   ]
  },
  {
   "cell_type": "code",
   "execution_count": 4,
   "id": "11c38638",
   "metadata": {},
   "outputs": [],
   "source": [
    "def make_input_folder(folder_path):\n",
    "    \n",
    "    if not os.path.isdir(folder_path):\n",
    "        os.makedirs(folder_path)"
   ]
  },
  {
   "cell_type": "code",
   "execution_count": 5,
   "id": "3b4814f4",
   "metadata": {},
   "outputs": [],
   "source": [
    "def extract_basename(url):\n",
    "    \n",
    "    return os.path.basename(url)"
   ]
  },
  {
   "cell_type": "code",
   "execution_count": 6,
   "id": "1f487335",
   "metadata": {},
   "outputs": [],
   "source": [
    "def download_file(t):\n",
    "    \n",
    "    folder_path, url = t\n",
    "    basename = os.path.join(folder_path, extract_basename(url = url))\n",
    "    \n",
    "    urllib.request.urlretrieve(url = url, filename = basename)"
   ]
  },
  {
   "cell_type": "code",
   "execution_count": 7,
   "id": "0f3fec1b",
   "metadata": {},
   "outputs": [],
   "source": [
    "iterable = list(zip([PATH_INPUT_FOLDER for i in range(len(FILES_TO_DOWNLOAD))], FILES_TO_DOWNLOAD))\n",
    "cpu_cores = mp.cpu_count() - 2"
   ]
  },
  {
   "cell_type": "code",
   "execution_count": 8,
   "id": "033b2b0e",
   "metadata": {},
   "outputs": [],
   "source": [
    "make_input_folder(folder_path = PATH_INPUT_FOLDER)"
   ]
  },
  {
   "cell_type": "code",
   "execution_count": 9,
   "id": "d6f1cfde",
   "metadata": {},
   "outputs": [],
   "source": [
    "pool = mp.get_context(method=\"fork\").Pool(processes = cpu_cores)\n",
    "pool.map(func = download_file, iterable = iterable)\n",
    "pool.close()"
   ]
  },
  {
   "cell_type": "markdown",
   "id": "6aab4a71",
   "metadata": {},
   "source": [
    "# Fixing Data Types"
   ]
  },
  {
   "cell_type": "code",
   "execution_count": 10,
   "id": "4c881e02",
   "metadata": {},
   "outputs": [],
   "source": [
    "def get_file_types(input_folder):\n",
    "\n",
    "    file_schemas = []\n",
    "\n",
    "    for file_name in os.listdir(input_folder):\n",
    "\n",
    "        file_path = os.path.join(input_folder, file_name)\n",
    "\n",
    "        try:\n",
    "            pldf_ = pl.read_parquet(file_path)\n",
    "            schema_ = pldf_.schema\n",
    "\n",
    "            columns = list(schema_.keys())\n",
    "            types = list(schema_.values())\n",
    "            file_names = [file_name for i in range(len(columns))]\n",
    "            \n",
    "            for c, t, f in zip(columns, types, file_names):\n",
    "                file_schemas.append((c, t, f))\n",
    "\n",
    "        except:\n",
    "            print(file_path)\n",
    "\n",
    "    return file_schemas"
   ]
  },
  {
   "cell_type": "code",
   "execution_count": 11,
   "id": "56527752",
   "metadata": {},
   "outputs": [],
   "source": [
    "df = pd.DataFrame(\n",
    "    data = get_file_types(input_folder=PATH_INPUT_FOLDER),\n",
    "    columns = [\"Col\", \"Type\", \"File\"]\n",
    ")"
   ]
  },
  {
   "cell_type": "code",
   "execution_count": 12,
   "id": "4e6d195e",
   "metadata": {},
   "outputs": [
    {
     "data": {
      "text/html": [
       "<div>\n",
       "<style scoped>\n",
       "    .dataframe tbody tr th:only-of-type {\n",
       "        vertical-align: middle;\n",
       "    }\n",
       "\n",
       "    .dataframe tbody tr th {\n",
       "        vertical-align: top;\n",
       "    }\n",
       "\n",
       "    .dataframe thead th {\n",
       "        text-align: right;\n",
       "    }\n",
       "</style>\n",
       "<table border=\"1\" class=\"dataframe\">\n",
       "  <thead>\n",
       "    <tr style=\"text-align: right;\">\n",
       "      <th></th>\n",
       "      <th>Col</th>\n",
       "      <th>Type</th>\n",
       "      <th>File</th>\n",
       "    </tr>\n",
       "  </thead>\n",
       "  <tbody>\n",
       "    <tr>\n",
       "      <th>0</th>\n",
       "      <td>VendorID</td>\n",
       "      <td>Int64</td>\n",
       "      <td>yellow_tripdata_2020-03.parquet</td>\n",
       "    </tr>\n",
       "    <tr>\n",
       "      <th>1</th>\n",
       "      <td>tpep_pickup_datetime</td>\n",
       "      <td>Datetime(time_unit='ns', time_zone=None)</td>\n",
       "      <td>yellow_tripdata_2020-03.parquet</td>\n",
       "    </tr>\n",
       "    <tr>\n",
       "      <th>2</th>\n",
       "      <td>tpep_dropoff_datetime</td>\n",
       "      <td>Datetime(time_unit='ns', time_zone=None)</td>\n",
       "      <td>yellow_tripdata_2020-03.parquet</td>\n",
       "    </tr>\n",
       "    <tr>\n",
       "      <th>3</th>\n",
       "      <td>passenger_count</td>\n",
       "      <td>Float64</td>\n",
       "      <td>yellow_tripdata_2020-03.parquet</td>\n",
       "    </tr>\n",
       "    <tr>\n",
       "      <th>4</th>\n",
       "      <td>trip_distance</td>\n",
       "      <td>Float64</td>\n",
       "      <td>yellow_tripdata_2020-03.parquet</td>\n",
       "    </tr>\n",
       "  </tbody>\n",
       "</table>\n",
       "</div>"
      ],
      "text/plain": [
       "                     Col                                      Type  \\\n",
       "0               VendorID                                     Int64   \n",
       "1   tpep_pickup_datetime  Datetime(time_unit='ns', time_zone=None)   \n",
       "2  tpep_dropoff_datetime  Datetime(time_unit='ns', time_zone=None)   \n",
       "3        passenger_count                                   Float64   \n",
       "4          trip_distance                                   Float64   \n",
       "\n",
       "                              File  \n",
       "0  yellow_tripdata_2020-03.parquet  \n",
       "1  yellow_tripdata_2020-03.parquet  \n",
       "2  yellow_tripdata_2020-03.parquet  \n",
       "3  yellow_tripdata_2020-03.parquet  \n",
       "4  yellow_tripdata_2020-03.parquet  "
      ]
     },
     "execution_count": 12,
     "metadata": {},
     "output_type": "execute_result"
    }
   ],
   "source": [
    "df.head()"
   ]
  },
  {
   "cell_type": "code",
   "execution_count": 13,
   "id": "3eed8b72",
   "metadata": {},
   "outputs": [
    {
     "data": {
      "text/plain": [
       "Col\n",
       "VendorID                 24\n",
       "fare_amount              24\n",
       "congestion_surcharge     24\n",
       "total_amount             24\n",
       "improvement_surcharge    24\n",
       "tolls_amount             24\n",
       "tip_amount               24\n",
       "mta_tax                  24\n",
       "extra                    24\n",
       "payment_type             24\n",
       "tpep_pickup_datetime     24\n",
       "DOLocationID             24\n",
       "PULocationID             24\n",
       "store_and_fwd_flag       24\n",
       "RatecodeID               24\n",
       "trip_distance            24\n",
       "passenger_count          24\n",
       "tpep_dropoff_datetime    24\n",
       "airport_fee              24\n",
       "Name: count, dtype: int64"
      ]
     },
     "execution_count": 13,
     "metadata": {},
     "output_type": "execute_result"
    }
   ],
   "source": [
    "(\n",
    "    df[\"Col\"].value_counts()\n",
    ")"
   ]
  },
  {
   "cell_type": "code",
   "execution_count": 14,
   "id": "23a9adb3",
   "metadata": {},
   "outputs": [
    {
     "data": {
      "text/plain": [
       "19"
      ]
     },
     "execution_count": 14,
     "metadata": {},
     "output_type": "execute_result"
    }
   ],
   "source": [
    "df[\"Col\"].nunique()"
   ]
  },
  {
   "cell_type": "code",
   "execution_count": 15,
   "id": "b58eb517",
   "metadata": {},
   "outputs": [
    {
     "data": {
      "text/plain": [
       "File\n",
       "yellow_tripdata_2020-03.parquet    19\n",
       "yellow_tripdata_2019-06.parquet    19\n",
       "yellow_tripdata_2020-06.parquet    19\n",
       "yellow_tripdata_2020-07.parquet    19\n",
       "yellow_tripdata_2019-12.parquet    19\n",
       "yellow_tripdata_2019-02.parquet    19\n",
       "yellow_tripdata_2020-05.parquet    19\n",
       "yellow_tripdata_2019-10.parquet    19\n",
       "yellow_tripdata_2019-09.parquet    19\n",
       "yellow_tripdata_2019-08.parquet    19\n",
       "yellow_tripdata_2019-11.parquet    19\n",
       "yellow_tripdata_2019-01.parquet    19\n",
       "yellow_tripdata_2020-04.parquet    19\n",
       "yellow_tripdata_2019-04.parquet    19\n",
       "yellow_tripdata_2020-01.parquet    19\n",
       "yellow_tripdata_2020-11.parquet    19\n",
       "yellow_tripdata_2020-08.parquet    19\n",
       "yellow_tripdata_2020-09.parquet    19\n",
       "yellow_tripdata_2020-10.parquet    19\n",
       "yellow_tripdata_2019-05.parquet    19\n",
       "yellow_tripdata_2020-02.parquet    19\n",
       "yellow_tripdata_2020-12.parquet    19\n",
       "yellow_tripdata_2019-07.parquet    19\n",
       "yellow_tripdata_2019-03.parquet    19\n",
       "Name: count, dtype: int64"
      ]
     },
     "execution_count": 15,
     "metadata": {},
     "output_type": "execute_result"
    }
   ],
   "source": [
    "(\n",
    "    df[\"File\"].value_counts()\n",
    ")"
   ]
  },
  {
   "cell_type": "code",
   "execution_count": 16,
   "id": "23aa7356",
   "metadata": {},
   "outputs": [
    {
     "data": {
      "text/html": [
       "<div>\n",
       "<style scoped>\n",
       "    .dataframe tbody tr th:only-of-type {\n",
       "        vertical-align: middle;\n",
       "    }\n",
       "\n",
       "    .dataframe tbody tr th {\n",
       "        vertical-align: top;\n",
       "    }\n",
       "\n",
       "    .dataframe thead th {\n",
       "        text-align: right;\n",
       "    }\n",
       "</style>\n",
       "<table border=\"1\" class=\"dataframe\">\n",
       "  <thead>\n",
       "    <tr style=\"text-align: right;\">\n",
       "      <th></th>\n",
       "      <th>nr_unique_types</th>\n",
       "      <th>unique_types</th>\n",
       "    </tr>\n",
       "    <tr>\n",
       "      <th>Col</th>\n",
       "      <th></th>\n",
       "      <th></th>\n",
       "    </tr>\n",
       "  </thead>\n",
       "  <tbody>\n",
       "    <tr>\n",
       "      <th>airport_fee</th>\n",
       "      <td>2</td>\n",
       "      <td>{Float64, Null}</td>\n",
       "    </tr>\n",
       "  </tbody>\n",
       "</table>\n",
       "</div>"
      ],
      "text/plain": [
       "             nr_unique_types     unique_types\n",
       "Col                                          \n",
       "airport_fee                2  {Float64, Null}"
      ]
     },
     "execution_count": 16,
     "metadata": {},
     "output_type": "execute_result"
    }
   ],
   "source": [
    "(\n",
    "    df\n",
    "    .groupby([\"Col\"])\n",
    "    .agg(\n",
    "        nr_unique_types = (\"Type\", lambda series: len(set(series))),\n",
    "        unique_types = (\"Type\", lambda series: set(series))\n",
    "    )\n",
    "    .pipe(\n",
    "        lambda df: df[df[\"nr_unique_types\"] != 1]\n",
    "    )\n",
    ")"
   ]
  },
  {
   "cell_type": "code",
   "execution_count": null,
   "id": "85ecae5a",
   "metadata": {},
   "outputs": [],
   "source": [
    "def get_default_rename_dict():\n",
    "    \n",
    "    rename_dict = {\n",
    "        \n",
    "        \"VendorID\":\"VendorID\",\n",
    "        \"tpep_pickup_datetime\":\"TpepPickupDatetime\",\n",
    "        \"congestion_surcharge\":\"CongestionSurcharge\",\n",
    "        \"total_amount\":\"TotalAmount\",\n",
    "        \"improvement_surcharge\":\"ImprovementSurcharge\",\n",
    "        \"tolls_amount\":\"TollsAmount\",\n",
    "        \"tip_amount\":\"TipAmount\",\n",
    "        \"mta_tax\":\"MtaTax\",\n",
    "        \"extra\":\"Extra\",\n",
    "        \"fare_amount\":\"FareAmount\",\n",
    "        \"payment_type\":\"PaymentType\",\n",
    "        \"DOLocationID\":\"DOLocationID\",\n",
    "        \"PULocationID\":\"PULocationID\",\n",
    "        \"store_and_fwd_flag\":\"StoreAndFwdFlag\",\n",
    "        \"RatecodeID\":\"RatecodeID\",\n",
    "        \"trip_distance\":\"TripDistance\",\n",
    "        \"passenger_count\":\"PassengerCount\",\n",
    "        \"tpep_dropoff_datetime\":\"TpepDropoffDatetime\",\n",
    "        \"Airport_fee\":\"AirportFee\"\n",
    "    }\n",
    "    \n",
    "    return rename_dict"
   ]
  },
  {
   "cell_type": "code",
   "execution_count": null,
   "id": "2e738699",
   "metadata": {},
   "outputs": [],
   "source": [
    "def standarize_files(input_folder):\n",
    "    \n",
    "    for file_name in os.listdir(input_folder):\n",
    "        \n",
    "        if file_name != \".ipynb_checkpoints\":\n",
    "\n",
    "            file_path = os.path.join(input_folder, file_name)\n",
    "\n",
    "            rename_dict = get_default_rename_dict()\n",
    "            pldf = pl.read_parquet(file_path)\n",
    "            columns = pldf.columns\n",
    "\n",
    "            if \"airport_fee\" in columns:\n",
    "                _ = rename_dict.pop(\"Airport_fee\")\n",
    "                rename_dict[\"airport_fee\"] = \"AirportFee\"\n",
    "\n",
    "            pldf = (\n",
    "                pldf\n",
    "                .rename(rename_dict)\n",
    "                .with_columns(\n",
    "                    pl.col(\"VendorID\").cast(pl.Int64),\n",
    "                    pl.col(\"DOLocationID\").cast(pl.Int64),\n",
    "                    pl.col(\"PULocationID\").cast(pl.Int64),\n",
    "                    pl.col(\"RatecodeID\").cast(pl.Float64),\n",
    "                    pl.col(\"PassengerCount\").cast(pl.Float64)\n",
    "                )\n",
    "            )\n",
    "\n",
    "            pldf.write_parquet(file = os.path.join(input_folder, file_name))"
   ]
  },
  {
   "cell_type": "code",
   "execution_count": null,
   "id": "6c6d7f8e",
   "metadata": {},
   "outputs": [],
   "source": [
    "standarize_files(input_folder=PATH_INPUT_FOLDER)"
   ]
  },
  {
   "cell_type": "markdown",
   "id": "754e1647",
   "metadata": {},
   "source": [
    "# Final Test"
   ]
  },
  {
   "cell_type": "code",
   "execution_count": null,
   "id": "32993714",
   "metadata": {},
   "outputs": [],
   "source": [
    "plldf = pl.scan_parquet(source = os.path.join(PATH_INPUT_FOLDER, \"yellow_*.parquet\"))"
   ]
  },
  {
   "cell_type": "code",
   "execution_count": null,
   "id": "07616b7a",
   "metadata": {},
   "outputs": [],
   "source": [
    "(\n",
    "    plldf.describe()\n",
    ")"
   ]
  }
 ],
 "metadata": {
  "kernelspec": {
   "display_name": "env_polars",
   "language": "python",
   "name": "env_polars"
  },
  "language_info": {
   "codemirror_mode": {
    "name": "ipython",
    "version": 3
   },
   "file_extension": ".py",
   "mimetype": "text/x-python",
   "name": "python",
   "nbconvert_exporter": "python",
   "pygments_lexer": "ipython3",
   "version": "3.10.14"
  }
 },
 "nbformat": 4,
 "nbformat_minor": 5
}
