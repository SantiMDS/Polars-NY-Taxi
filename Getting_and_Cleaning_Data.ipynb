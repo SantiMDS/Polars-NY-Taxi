{
 "cells": [
  {
   "cell_type": "markdown",
   "id": "b92196d8",
   "metadata": {},
   "source": [
    "# About the data"
   ]
  },
  {
   "cell_type": "markdown",
   "id": "1ac01e36",
   "metadata": {},
   "source": [
    "Download Data from this Page: https://www.nyc.gov/site/tlc/about/tlc-trip-record-data.page<br>\n",
    "Data Dictionary: https://www.nyc.gov/assets/tlc/downloads/pdf/data_dictionary_trip_records_yellow.pdf"
   ]
  },
  {
   "cell_type": "markdown",
   "id": "08255e86",
   "metadata": {},
   "source": [
    "# Imports"
   ]
  },
  {
   "cell_type": "code",
   "execution_count": 1,
   "id": "60699863",
   "metadata": {},
   "outputs": [],
   "source": [
    "import os\n",
    "import urllib\n",
    "\n",
    "import multiprocessing as mp\n",
    "\n",
    "import pandas as pd\n",
    "import polars as pl"
   ]
  },
  {
   "cell_type": "code",
   "execution_count": 2,
   "id": "9931490e",
   "metadata": {},
   "outputs": [],
   "source": [
    "# GIL: global interpter lock --> 16 cores --> 1 core --> Python Interpret\n",
    "# Multiprocessing.           --> 16 cores --> 16 Interpreters X16 velocidad "
   ]
  },
  {
   "cell_type": "markdown",
   "id": "ba5d4239",
   "metadata": {},
   "source": [
    "# GLOBAL_VARS"
   ]
  },
  {
   "cell_type": "code",
   "execution_count": 3,
   "id": "88005cef",
   "metadata": {},
   "outputs": [],
   "source": [
    "CWD = os.getcwd()\n",
    "PATH_INPUT_FOLDER = os.path.join(CWD, \"input2\")"
   ]
  },
  {
   "cell_type": "code",
   "execution_count": 4,
   "id": "6963dbef",
   "metadata": {},
   "outputs": [],
   "source": [
    "FILES_TO_DOWNLOAD = [\n",
    "    \n",
    "    \"https://d37ci6vzurychx.cloudfront.net/trip-data/yellow_tripdata_2024-01.parquet\",\n",
    "    \"https://d37ci6vzurychx.cloudfront.net/trip-data/yellow_tripdata_2024-02.parquet\",\n",
    "    \n",
    "    \"https://d37ci6vzurychx.cloudfront.net/trip-data/yellow_tripdata_2023-01.parquet\",\n",
    "    \"https://d37ci6vzurychx.cloudfront.net/trip-data/yellow_tripdata_2023-02.parquet\",\n",
    "    \"https://d37ci6vzurychx.cloudfront.net/trip-data/yellow_tripdata_2023-03.parquet\",\n",
    "    \"https://d37ci6vzurychx.cloudfront.net/trip-data/yellow_tripdata_2023-04.parquet\",\n",
    "    \"https://d37ci6vzurychx.cloudfront.net/trip-data/yellow_tripdata_2023-05.parquet\",\n",
    "    \"https://d37ci6vzurychx.cloudfront.net/trip-data/yellow_tripdata_2023-06.parquet\",\n",
    "    \"https://d37ci6vzurychx.cloudfront.net/trip-data/yellow_tripdata_2023-07.parquet\",\n",
    "    \"https://d37ci6vzurychx.cloudfront.net/trip-data/yellow_tripdata_2023-08.parquet\",\n",
    "    \"https://d37ci6vzurychx.cloudfront.net/trip-data/yellow_tripdata_2023-09.parquet\",\n",
    "    \"https://d37ci6vzurychx.cloudfront.net/trip-data/yellow_tripdata_2023-10.parquet\",\n",
    "    \"https://d37ci6vzurychx.cloudfront.net/trip-data/yellow_tripdata_2023-11.parquet\",\n",
    "    \"https://d37ci6vzurychx.cloudfront.net/trip-data/yellow_tripdata_2023-12.parquet\",\n",
    "    \n",
    "    \"https://d37ci6vzurychx.cloudfront.net/trip-data/yellow_tripdata_2022-01.parquet\",\n",
    "    \"https://d37ci6vzurychx.cloudfront.net/trip-data/yellow_tripdata_2022-02.parquet\",\n",
    "    \"https://d37ci6vzurychx.cloudfront.net/trip-data/yellow_tripdata_2022-03.parquet\",\n",
    "    \"https://d37ci6vzurychx.cloudfront.net/trip-data/yellow_tripdata_2022-04.parquet\",\n",
    "    \"https://d37ci6vzurychx.cloudfront.net/trip-data/yellow_tripdata_2022-05.parquet\",\n",
    "    \"https://d37ci6vzurychx.cloudfront.net/trip-data/yellow_tripdata_2022-06.parquet\",\n",
    "    \"https://d37ci6vzurychx.cloudfront.net/trip-data/yellow_tripdata_2022-07.parquet\",\n",
    "    \"https://d37ci6vzurychx.cloudfront.net/trip-data/yellow_tripdata_2022-08.parquet\",\n",
    "    \"https://d37ci6vzurychx.cloudfront.net/trip-data/yellow_tripdata_2022-09.parquet\",\n",
    "    \"https://d37ci6vzurychx.cloudfront.net/trip-data/yellow_tripdata_2022-10.parquet\",\n",
    "    \"https://d37ci6vzurychx.cloudfront.net/trip-data/yellow_tripdata_2022-11.parquet\",\n",
    "    \"https://d37ci6vzurychx.cloudfront.net/trip-data/yellow_tripdata_2022-12.parquet\",\n",
    "    \n",
    "    \"https://d37ci6vzurychx.cloudfront.net/trip-data/yellow_tripdata_2021-01.parquet\",\n",
    "    \"https://d37ci6vzurychx.cloudfront.net/trip-data/yellow_tripdata_2021-02.parquet\",\n",
    "    \"https://d37ci6vzurychx.cloudfront.net/trip-data/yellow_tripdata_2021-03.parquet\",\n",
    "    \"https://d37ci6vzurychx.cloudfront.net/trip-data/yellow_tripdata_2021-04.parquet\",\n",
    "    \"https://d37ci6vzurychx.cloudfront.net/trip-data/yellow_tripdata_2021-05.parquet\",\n",
    "    \"https://d37ci6vzurychx.cloudfront.net/trip-data/yellow_tripdata_2021-06.parquet\",\n",
    "    \"https://d37ci6vzurychx.cloudfront.net/trip-data/yellow_tripdata_2021-07.parquet\",\n",
    "    \"https://d37ci6vzurychx.cloudfront.net/trip-data/yellow_tripdata_2021-08.parquet\",\n",
    "    \"https://d37ci6vzurychx.cloudfront.net/trip-data/yellow_tripdata_2021-09.parquet\",\n",
    "    \"https://d37ci6vzurychx.cloudfront.net/trip-data/yellow_tripdata_2021-10.parquet\",\n",
    "    \"https://d37ci6vzurychx.cloudfront.net/trip-data/yellow_tripdata_2021-11.parquet\",\n",
    "    \"https://d37ci6vzurychx.cloudfront.net/trip-data/yellow_tripdata_2021-12.parquet\",\n",
    "    \n",
    "]"
   ]
  },
  {
   "cell_type": "markdown",
   "id": "aa70bc4b",
   "metadata": {},
   "source": [
    "# Data Downloading"
   ]
  },
  {
   "cell_type": "code",
   "execution_count": 5,
   "id": "11c38638",
   "metadata": {},
   "outputs": [],
   "source": [
    "def make_input_folder(folder_path):\n",
    "    \n",
    "    if not os.path.isdir(folder_path):\n",
    "        os.makedirs(folder_path)\n",
    "\n",
    "def extract_basename(url):\n",
    "    \n",
    "    return os.path.basename(url)\n",
    "\n",
    "def download_file(t):\n",
    "    \n",
    "    folder_path, url = t\n",
    "    basename = os.path.join(folder_path, extract_basename(url = url))\n",
    "    \n",
    "    urllib.request.urlretrieve(url = url, filename = basename)"
   ]
  },
  {
   "cell_type": "code",
   "execution_count": 18,
   "id": "6ea78407",
   "metadata": {},
   "outputs": [],
   "source": [
    "iterable = list(zip([PATH_INPUT_FOLDER for i in range(len(FILES_TO_DOWNLOAD))], FILES_TO_DOWNLOAD))\n",
    "cpu_cores = mp.cpu_count() - 2\n",
    "\n",
    "make_input_folder(folder_path = PATH_INPUT_FOLDER)"
   ]
  },
  {
   "cell_type": "code",
   "execution_count": 23,
   "id": "0f3fec1b",
   "metadata": {},
   "outputs": [],
   "source": [
    "pool = mp.get_context(method=\"fork\").Pool(processes = cpu_cores)\n",
    "pool.map(func = download_file, iterable = iterable)\n",
    "pool.close()"
   ]
  },
  {
   "cell_type": "markdown",
   "id": "6aab4a71",
   "metadata": {},
   "source": [
    "# Fixing Data Types"
   ]
  },
  {
   "cell_type": "code",
   "execution_count": 24,
   "id": "4c881e02",
   "metadata": {},
   "outputs": [],
   "source": [
    "def get_file_types(input_folder):\n",
    "\n",
    "    file_schemas = []\n",
    "\n",
    "    for file_name in os.listdir(input_folder):\n",
    "\n",
    "        file_path = os.path.join(input_folder, file_name)\n",
    "\n",
    "        try:\n",
    "            pldf_ = pl.read_parquet(file_path)\n",
    "            schema_ = pldf_.schema\n",
    "\n",
    "            columns = list(schema_.keys())\n",
    "            types = list(schema_.values())\n",
    "            file_names = [file_name for i in range(len(columns))]\n",
    "            \n",
    "            for c, t, f in zip(columns, types, file_names):\n",
    "                file_schemas.append((c, t, f))\n",
    "\n",
    "        except:\n",
    "            print(file_path)\n",
    "\n",
    "    return file_schemas"
   ]
  },
  {
   "cell_type": "code",
   "execution_count": 25,
   "id": "56527752",
   "metadata": {},
   "outputs": [],
   "source": [
    "df = pd.DataFrame(\n",
    "    data = get_file_types(input_folder=PATH_INPUT_FOLDER),\n",
    "    columns = [\"Col\", \"Type\", \"File\"]\n",
    ")"
   ]
  },
  {
   "cell_type": "code",
   "execution_count": 26,
   "id": "4e6d195e",
   "metadata": {},
   "outputs": [
    {
     "data": {
      "text/html": [
       "<div>\n",
       "<style scoped>\n",
       "    .dataframe tbody tr th:only-of-type {\n",
       "        vertical-align: middle;\n",
       "    }\n",
       "\n",
       "    .dataframe tbody tr th {\n",
       "        vertical-align: top;\n",
       "    }\n",
       "\n",
       "    .dataframe thead th {\n",
       "        text-align: right;\n",
       "    }\n",
       "</style>\n",
       "<table border=\"1\" class=\"dataframe\">\n",
       "  <thead>\n",
       "    <tr style=\"text-align: right;\">\n",
       "      <th></th>\n",
       "      <th>Col</th>\n",
       "      <th>Type</th>\n",
       "      <th>File</th>\n",
       "    </tr>\n",
       "  </thead>\n",
       "  <tbody>\n",
       "    <tr>\n",
       "      <th>0</th>\n",
       "      <td>VendorID</td>\n",
       "      <td>Int32</td>\n",
       "      <td>yellow_tripdata_2023-06.parquet</td>\n",
       "    </tr>\n",
       "    <tr>\n",
       "      <th>1</th>\n",
       "      <td>tpep_pickup_datetime</td>\n",
       "      <td>Datetime(time_unit='ns', time_zone=None)</td>\n",
       "      <td>yellow_tripdata_2023-06.parquet</td>\n",
       "    </tr>\n",
       "    <tr>\n",
       "      <th>2</th>\n",
       "      <td>tpep_dropoff_datetime</td>\n",
       "      <td>Datetime(time_unit='ns', time_zone=None)</td>\n",
       "      <td>yellow_tripdata_2023-06.parquet</td>\n",
       "    </tr>\n",
       "    <tr>\n",
       "      <th>3</th>\n",
       "      <td>passenger_count</td>\n",
       "      <td>Int64</td>\n",
       "      <td>yellow_tripdata_2023-06.parquet</td>\n",
       "    </tr>\n",
       "    <tr>\n",
       "      <th>4</th>\n",
       "      <td>trip_distance</td>\n",
       "      <td>Float64</td>\n",
       "      <td>yellow_tripdata_2023-06.parquet</td>\n",
       "    </tr>\n",
       "  </tbody>\n",
       "</table>\n",
       "</div>"
      ],
      "text/plain": [
       "                     Col                                      Type  \\\n",
       "0               VendorID                                     Int32   \n",
       "1   tpep_pickup_datetime  Datetime(time_unit='ns', time_zone=None)   \n",
       "2  tpep_dropoff_datetime  Datetime(time_unit='ns', time_zone=None)   \n",
       "3        passenger_count                                     Int64   \n",
       "4          trip_distance                                   Float64   \n",
       "\n",
       "                              File  \n",
       "0  yellow_tripdata_2023-06.parquet  \n",
       "1  yellow_tripdata_2023-06.parquet  \n",
       "2  yellow_tripdata_2023-06.parquet  \n",
       "3  yellow_tripdata_2023-06.parquet  \n",
       "4  yellow_tripdata_2023-06.parquet  "
      ]
     },
     "execution_count": 26,
     "metadata": {},
     "output_type": "execute_result"
    }
   ],
   "source": [
    "df.head()"
   ]
  },
  {
   "cell_type": "code",
   "execution_count": 27,
   "id": "3eed8b72",
   "metadata": {},
   "outputs": [
    {
     "data": {
      "text/plain": [
       "Col\n",
       "VendorID                 38\n",
       "tpep_pickup_datetime     38\n",
       "congestion_surcharge     38\n",
       "total_amount             38\n",
       "improvement_surcharge    38\n",
       "tolls_amount             38\n",
       "tip_amount               38\n",
       "mta_tax                  38\n",
       "extra                    38\n",
       "fare_amount              38\n",
       "payment_type             38\n",
       "DOLocationID             38\n",
       "PULocationID             38\n",
       "store_and_fwd_flag       38\n",
       "RatecodeID               38\n",
       "trip_distance            38\n",
       "passenger_count          38\n",
       "tpep_dropoff_datetime    38\n",
       "airport_fee              25\n",
       "Airport_fee              13\n",
       "Name: count, dtype: int64"
      ]
     },
     "execution_count": 27,
     "metadata": {},
     "output_type": "execute_result"
    }
   ],
   "source": [
    "(\n",
    "    df[\"Col\"].value_counts()\n",
    ")"
   ]
  },
  {
   "cell_type": "code",
   "execution_count": 28,
   "id": "23a9adb3",
   "metadata": {},
   "outputs": [
    {
     "data": {
      "text/plain": [
       "20"
      ]
     },
     "execution_count": 28,
     "metadata": {},
     "output_type": "execute_result"
    }
   ],
   "source": [
    "df[\"Col\"].nunique()"
   ]
  },
  {
   "cell_type": "code",
   "execution_count": 29,
   "id": "b58eb517",
   "metadata": {},
   "outputs": [
    {
     "data": {
      "text/plain": [
       "File\n",
       "yellow_tripdata_2023-06.parquet    19\n",
       "yellow_tripdata_2021-08.parquet    19\n",
       "yellow_tripdata_2023-01.parquet    19\n",
       "yellow_tripdata_2022-06.parquet    19\n",
       "yellow_tripdata_2023-10.parquet    19\n",
       "yellow_tripdata_2024-02.parquet    19\n",
       "yellow_tripdata_2021-03.parquet    19\n",
       "yellow_tripdata_2023-09.parquet    19\n",
       "yellow_tripdata_2022-04.parquet    19\n",
       "yellow_tripdata_2023-12.parquet    19\n",
       "yellow_tripdata_2022-10.parquet    19\n",
       "yellow_tripdata_2023-02.parquet    19\n",
       "yellow_tripdata_2021-01.parquet    19\n",
       "yellow_tripdata_2021-11.parquet    19\n",
       "yellow_tripdata_2021-10.parquet    19\n",
       "yellow_tripdata_2024-01.parquet    19\n",
       "yellow_tripdata_2022-05.parquet    19\n",
       "yellow_tripdata_2021-09.parquet    19\n",
       "yellow_tripdata_2023-11.parquet    19\n",
       "yellow_tripdata_2022-07.parquet    19\n",
       "yellow_tripdata_2023-08.parquet    19\n",
       "yellow_tripdata_2021-12.parquet    19\n",
       "yellow_tripdata_2021-05.parquet    19\n",
       "yellow_tripdata_2022-09.parquet    19\n",
       "yellow_tripdata_2021-04.parquet    19\n",
       "yellow_tripdata_2022-08.parquet    19\n",
       "yellow_tripdata_2023-07.parquet    19\n",
       "yellow_tripdata_2022-01.parquet    19\n",
       "yellow_tripdata_2022-11.parquet    19\n",
       "yellow_tripdata_2021-06.parquet    19\n",
       "yellow_tripdata_2023-05.parquet    19\n",
       "yellow_tripdata_2022-03.parquet    19\n",
       "yellow_tripdata_2023-04.parquet    19\n",
       "yellow_tripdata_2022-02.parquet    19\n",
       "yellow_tripdata_2022-12.parquet    19\n",
       "yellow_tripdata_2021-07.parquet    19\n",
       "yellow_tripdata_2021-02.parquet    19\n",
       "yellow_tripdata_2023-03.parquet    19\n",
       "Name: count, dtype: int64"
      ]
     },
     "execution_count": 29,
     "metadata": {},
     "output_type": "execute_result"
    }
   ],
   "source": [
    "(\n",
    "    df[\"File\"].value_counts()\n",
    ")"
   ]
  },
  {
   "cell_type": "code",
   "execution_count": 30,
   "id": "23aa7356",
   "metadata": {},
   "outputs": [
    {
     "data": {
      "text/html": [
       "<div>\n",
       "<style scoped>\n",
       "    .dataframe tbody tr th:only-of-type {\n",
       "        vertical-align: middle;\n",
       "    }\n",
       "\n",
       "    .dataframe tbody tr th {\n",
       "        vertical-align: top;\n",
       "    }\n",
       "\n",
       "    .dataframe thead th {\n",
       "        text-align: right;\n",
       "    }\n",
       "</style>\n",
       "<table border=\"1\" class=\"dataframe\">\n",
       "  <thead>\n",
       "    <tr style=\"text-align: right;\">\n",
       "      <th></th>\n",
       "      <th>nr_unique_types</th>\n",
       "      <th>unique_types</th>\n",
       "    </tr>\n",
       "    <tr>\n",
       "      <th>Col</th>\n",
       "      <th></th>\n",
       "      <th></th>\n",
       "    </tr>\n",
       "  </thead>\n",
       "  <tbody>\n",
       "    <tr>\n",
       "      <th>DOLocationID</th>\n",
       "      <td>2</td>\n",
       "      <td>{Int32, Int64}</td>\n",
       "    </tr>\n",
       "    <tr>\n",
       "      <th>PULocationID</th>\n",
       "      <td>2</td>\n",
       "      <td>{Int32, Int64}</td>\n",
       "    </tr>\n",
       "    <tr>\n",
       "      <th>RatecodeID</th>\n",
       "      <td>2</td>\n",
       "      <td>{Int64, Float64}</td>\n",
       "    </tr>\n",
       "    <tr>\n",
       "      <th>VendorID</th>\n",
       "      <td>2</td>\n",
       "      <td>{Int32, Int64}</td>\n",
       "    </tr>\n",
       "    <tr>\n",
       "      <th>passenger_count</th>\n",
       "      <td>2</td>\n",
       "      <td>{Int64, Float64}</td>\n",
       "    </tr>\n",
       "  </tbody>\n",
       "</table>\n",
       "</div>"
      ],
      "text/plain": [
       "                 nr_unique_types      unique_types\n",
       "Col                                               \n",
       "DOLocationID                   2    {Int32, Int64}\n",
       "PULocationID                   2    {Int32, Int64}\n",
       "RatecodeID                     2  {Int64, Float64}\n",
       "VendorID                       2    {Int32, Int64}\n",
       "passenger_count                2  {Int64, Float64}"
      ]
     },
     "execution_count": 30,
     "metadata": {},
     "output_type": "execute_result"
    }
   ],
   "source": [
    "(\n",
    "    df\n",
    "    .groupby([\"Col\"])\n",
    "    .agg(\n",
    "        nr_unique_types = (\"Type\", lambda series: len(set(series))),\n",
    "        unique_types = (\"Type\", lambda series: set(series))\n",
    "    )\n",
    "    .pipe(\n",
    "        lambda df: df[df[\"nr_unique_types\"] != 1]\n",
    "    )\n",
    ")"
   ]
  },
  {
   "cell_type": "code",
   "execution_count": 31,
   "id": "85ecae5a",
   "metadata": {},
   "outputs": [],
   "source": [
    "def get_default_rename_dict():\n",
    "    \n",
    "    rename_dict = {\n",
    "        \n",
    "        \"VendorID\":\"VendorID\",\n",
    "        \"tpep_pickup_datetime\":\"TpepPickupDatetime\",\n",
    "        \"congestion_surcharge\":\"CongestionSurcharge\",\n",
    "        \"total_amount\":\"TotalAmount\",\n",
    "        \"improvement_surcharge\":\"ImprovementSurcharge\",\n",
    "        \"tolls_amount\":\"TollsAmount\",\n",
    "        \"tip_amount\":\"TipAmount\",\n",
    "        \"mta_tax\":\"MtaTax\",\n",
    "        \"extra\":\"Extra\",\n",
    "        \"fare_amount\":\"FareAmount\",\n",
    "        \"payment_type\":\"PaymentType\",\n",
    "        \"DOLocationID\":\"DOLocationID\",\n",
    "        \"PULocationID\":\"PULocationID\",\n",
    "        \"store_and_fwd_flag\":\"StoreAndFwdFlag\",\n",
    "        \"RatecodeID\":\"RatecodeID\",\n",
    "        \"trip_distance\":\"TripDistance\",\n",
    "        \"passenger_count\":\"PassengerCount\",\n",
    "        \"tpep_dropoff_datetime\":\"TpepDropoffDatetime\",\n",
    "        \"Airport_fee\":\"AirportFee\"\n",
    "    }\n",
    "    \n",
    "    return rename_dict"
   ]
  },
  {
   "cell_type": "code",
   "execution_count": 32,
   "id": "2e738699",
   "metadata": {},
   "outputs": [],
   "source": [
    "def standarize_files(input_folder):\n",
    "    \n",
    "    for file_name in os.listdir(input_folder):\n",
    "        \n",
    "        if file_name != \".ipynb_checkpoints\":\n",
    "\n",
    "            file_path = os.path.join(input_folder, file_name)\n",
    "\n",
    "            rename_dict = get_default_rename_dict()\n",
    "            pldf = pl.read_parquet(file_path)\n",
    "            columns = pldf.columns\n",
    "\n",
    "            if \"airport_fee\" in columns:\n",
    "                _ = rename_dict.pop(\"Airport_fee\")\n",
    "                rename_dict[\"airport_fee\"] = \"AirportFee\"\n",
    "\n",
    "            pldf = (\n",
    "                pldf\n",
    "                .rename(rename_dict)\n",
    "                .with_columns(\n",
    "                    pl.col(\"VendorID\").cast(pl.Int64),\n",
    "                    pl.col(\"DOLocationID\").cast(pl.Int64),\n",
    "                    pl.col(\"PULocationID\").cast(pl.Int64),\n",
    "                    pl.col(\"RatecodeID\").cast(pl.Float64),\n",
    "                    pl.col(\"PassengerCount\").cast(pl.Float64)\n",
    "                )\n",
    "            )\n",
    "\n",
    "            pldf.write_parquet(file = os.path.join(input_folder, file_name))"
   ]
  },
  {
   "cell_type": "code",
   "execution_count": 33,
   "id": "6c6d7f8e",
   "metadata": {},
   "outputs": [],
   "source": [
    "standarize_files(input_folder=PATH_INPUT_FOLDER)"
   ]
  },
  {
   "cell_type": "markdown",
   "id": "754e1647",
   "metadata": {},
   "source": [
    "# Final Test"
   ]
  },
  {
   "cell_type": "code",
   "execution_count": 34,
   "id": "32993714",
   "metadata": {},
   "outputs": [],
   "source": [
    "plldf = pl.scan_parquet(source = os.path.join(PATH_INPUT_FOLDER, \"yellow_*.parquet\"))"
   ]
  },
  {
   "cell_type": "code",
   "execution_count": 35,
   "id": "07616b7a",
   "metadata": {},
   "outputs": [
    {
     "data": {
      "text/html": [
       "<div><style>\n",
       ".dataframe > thead > tr,\n",
       ".dataframe > tbody > tr {\n",
       "  text-align: right;\n",
       "  white-space: pre-wrap;\n",
       "}\n",
       "</style>\n",
       "<small>shape: (9, 20)</small><table border=\"1\" class=\"dataframe\"><thead><tr><th>statistic</th><th>VendorID</th><th>TpepPickupDatetime</th><th>TpepDropoffDatetime</th><th>PassengerCount</th><th>TripDistance</th><th>RatecodeID</th><th>StoreAndFwdFlag</th><th>PULocationID</th><th>DOLocationID</th><th>PaymentType</th><th>FareAmount</th><th>Extra</th><th>MtaTax</th><th>TipAmount</th><th>TollsAmount</th><th>ImprovementSurcharge</th><th>TotalAmount</th><th>CongestionSurcharge</th><th>AirportFee</th></tr><tr><td>str</td><td>f64</td><td>str</td><td>str</td><td>f64</td><td>f64</td><td>f64</td><td>str</td><td>f64</td><td>f64</td><td>f64</td><td>f64</td><td>f64</td><td>f64</td><td>f64</td><td>f64</td><td>f64</td><td>f64</td><td>f64</td><td>f64</td></tr></thead><tbody><tr><td>&quot;count&quot;</td><td>1.14842782e8</td><td>&quot;114842782&quot;</td><td>&quot;114842782&quot;</td><td>1.10360656e8</td><td>1.14842782e8</td><td>1.10360656e8</td><td>&quot;110360656&quot;</td><td>1.14842782e8</td><td>1.14842782e8</td><td>1.14842782e8</td><td>1.14842782e8</td><td>1.14842782e8</td><td>1.14842782e8</td><td>1.14842782e8</td><td>1.14842782e8</td><td>1.14842782e8</td><td>1.14842782e8</td><td>1.10360656e8</td><td>1.06197933e8</td></tr><tr><td>&quot;null_count&quot;</td><td>0.0</td><td>&quot;0&quot;</td><td>&quot;0&quot;</td><td>4.482126e6</td><td>0.0</td><td>4.482126e6</td><td>&quot;4482126&quot;</td><td>0.0</td><td>0.0</td><td>0.0</td><td>0.0</td><td>0.0</td><td>0.0</td><td>0.0</td><td>0.0</td><td>0.0</td><td>0.0</td><td>4.482126e6</td><td>8.644849e6</td></tr><tr><td>&quot;mean&quot;</td><td>1.72713</td><td>&quot;2022-09-02 05:52:17.837102&quot;</td><td>&quot;2022-09-02 06:21:37.871418&quot;</td><td>1.394359</td><td>5.480142</td><td>1.441886</td><td>null</td><td>165.035442</td><td>163.087605</td><td>1.185801</td><td>14.670636</td><td>1.224257</td><td>0.488394</td><td>4.475876</td><td>0.513991</td><td>0.56659</td><td>23.667243</td><td>2.276808</td><td>0.108185</td></tr><tr><td>&quot;std&quot;</td><td>0.4816</td><td>null</td><td>null</td><td>0.954163</td><td>526.928116</td><td>6.025593</td><td>null</td><td>65.093578</td><td>70.219594</td><td>0.538807</td><td>13121.156354</td><td>1.791555</td><td>0.097004</td><td>13120.627542</td><td>2.043843</td><td>0.358734</td><td>117.789259</td><td>0.764936</td><td>0.388731</td></tr><tr><td>&quot;min&quot;</td><td>1.0</td><td>&quot;2001-01-01 00:03:14&quot;</td><td>&quot;1970-01-20 10:16:32&quot;</td><td>0.0</td><td>0.0</td><td>1.0</td><td>&quot;N&quot;</td><td>1.0</td><td>1.0</td><td>0.0</td><td>-1.3339e8</td><td>-39.17</td><td>-0.55</td><td>-411.0</td><td>-99.99</td><td>-1.0</td><td>-2567.8</td><td>-2.5</td><td>-1.75</td></tr><tr><td>&quot;25%&quot;</td><td>1.0</td><td>&quot;2021-12-09 08:58:29&quot;</td><td>&quot;2021-12-09 09:17:37&quot;</td><td>1.0</td><td>1.08</td><td>1.0</td><td>null</td><td>132.0</td><td>113.0</td><td>1.0</td><td>7.5</td><td>0.0</td><td>0.5</td><td>0.02</td><td>0.0</td><td>0.3</td><td>12.98</td><td>2.5</td><td>0.0</td></tr><tr><td>&quot;50%&quot;</td><td>2.0</td><td>&quot;2022-09-04 18:41:45&quot;</td><td>&quot;2022-09-04 18:58:51&quot;</td><td>1.0</td><td>1.81</td><td>1.0</td><td>null</td><td>162.0</td><td>162.0</td><td>1.0</td><td>11.4</td><td>0.5</td><td>0.5</td><td>2.26</td><td>0.0</td><td>0.3</td><td>17.6</td><td>2.5</td><td>0.0</td></tr><tr><td>&quot;75%&quot;</td><td>2.0</td><td>&quot;2023-05-25 17:30:13&quot;</td><td>&quot;2023-05-25 17:51:57&quot;</td><td>1.0</td><td>3.4</td><td>1.0</td><td>null</td><td>234.0</td><td>234.0</td><td>1.0</td><td>18.4</td><td>2.5</td><td>0.5</td><td>3.7</td><td>0.0</td><td>1.0</td><td>25.68</td><td>2.5</td><td>0.0</td></tr><tr><td>&quot;max&quot;</td><td>6.0</td><td>&quot;2098-09-11 02:23:31&quot;</td><td>&quot;2098-09-11 02:52:04&quot;</td><td>112.0</td><td>389678.46</td><td>99.0</td><td>&quot;Y&quot;</td><td>265.0</td><td>265.0</td><td>5.0</td><td>818283.44</td><td>10002.5</td><td>53.16</td><td>1.3339e8</td><td>956.55</td><td>1.0</td><td>818286.74</td><td>3.0</td><td>1.75</td></tr></tbody></table></div>"
      ],
      "text/plain": [
       "shape: (9, 20)\n",
       "┌───────────┬───────────┬───────────┬───────────┬───┬───────────┬───────────┬───────────┬──────────┐\n",
       "│ statistic ┆ VendorID  ┆ TpepPicku ┆ TpepDropo ┆ … ┆ Improveme ┆ TotalAmou ┆ Congestio ┆ AirportF │\n",
       "│ ---       ┆ ---       ┆ pDatetime ┆ ffDatetim ┆   ┆ ntSurchar ┆ nt        ┆ nSurcharg ┆ ee       │\n",
       "│ str       ┆ f64       ┆ ---       ┆ e         ┆   ┆ ge        ┆ ---       ┆ e         ┆ ---      │\n",
       "│           ┆           ┆ str       ┆ ---       ┆   ┆ ---       ┆ f64       ┆ ---       ┆ f64      │\n",
       "│           ┆           ┆           ┆ str       ┆   ┆ f64       ┆           ┆ f64       ┆          │\n",
       "╞═══════════╪═══════════╪═══════════╪═══════════╪═══╪═══════════╪═══════════╪═══════════╪══════════╡\n",
       "│ count     ┆ 1.1484278 ┆ 114842782 ┆ 114842782 ┆ … ┆ 1.1484278 ┆ 1.1484278 ┆ 1.1036065 ┆ 1.061979 │\n",
       "│           ┆ 2e8       ┆           ┆           ┆   ┆ 2e8       ┆ 2e8       ┆ 6e8       ┆ 33e8     │\n",
       "│ null_coun ┆ 0.0       ┆ 0         ┆ 0         ┆ … ┆ 0.0       ┆ 0.0       ┆ 4.482126e ┆ 8.644849 │\n",
       "│ t         ┆           ┆           ┆           ┆   ┆           ┆           ┆ 6         ┆ e6       │\n",
       "│ mean      ┆ 1.72713   ┆ 2022-09-0 ┆ 2022-09-0 ┆ … ┆ 0.56659   ┆ 23.667243 ┆ 2.276808  ┆ 0.108185 │\n",
       "│           ┆           ┆ 2 05:52:1 ┆ 2 06:21:3 ┆   ┆           ┆           ┆           ┆          │\n",
       "│           ┆           ┆ 7.837102  ┆ 7.871418  ┆   ┆           ┆           ┆           ┆          │\n",
       "│ std       ┆ 0.4816    ┆ null      ┆ null      ┆ … ┆ 0.358734  ┆ 117.78925 ┆ 0.764936  ┆ 0.388731 │\n",
       "│           ┆           ┆           ┆           ┆   ┆           ┆ 9         ┆           ┆          │\n",
       "│ min       ┆ 1.0       ┆ 2001-01-0 ┆ 1970-01-2 ┆ … ┆ -1.0      ┆ -2567.8   ┆ -2.5      ┆ -1.75    │\n",
       "│           ┆           ┆ 1         ┆ 0         ┆   ┆           ┆           ┆           ┆          │\n",
       "│           ┆           ┆ 00:03:14  ┆ 10:16:32  ┆   ┆           ┆           ┆           ┆          │\n",
       "│ 25%       ┆ 1.0       ┆ 2021-12-0 ┆ 2021-12-0 ┆ … ┆ 0.3       ┆ 12.98     ┆ 2.5       ┆ 0.0      │\n",
       "│           ┆           ┆ 9         ┆ 9         ┆   ┆           ┆           ┆           ┆          │\n",
       "│           ┆           ┆ 08:58:29  ┆ 09:17:37  ┆   ┆           ┆           ┆           ┆          │\n",
       "│ 50%       ┆ 2.0       ┆ 2022-09-0 ┆ 2022-09-0 ┆ … ┆ 0.3       ┆ 17.6      ┆ 2.5       ┆ 0.0      │\n",
       "│           ┆           ┆ 4         ┆ 4         ┆   ┆           ┆           ┆           ┆          │\n",
       "│           ┆           ┆ 18:41:45  ┆ 18:58:51  ┆   ┆           ┆           ┆           ┆          │\n",
       "│ 75%       ┆ 2.0       ┆ 2023-05-2 ┆ 2023-05-2 ┆ … ┆ 1.0       ┆ 25.68     ┆ 2.5       ┆ 0.0      │\n",
       "│           ┆           ┆ 5         ┆ 5         ┆   ┆           ┆           ┆           ┆          │\n",
       "│           ┆           ┆ 17:30:13  ┆ 17:51:57  ┆   ┆           ┆           ┆           ┆          │\n",
       "│ max       ┆ 6.0       ┆ 2098-09-1 ┆ 2098-09-1 ┆ … ┆ 1.0       ┆ 818286.74 ┆ 3.0       ┆ 1.75     │\n",
       "│           ┆           ┆ 1         ┆ 1         ┆   ┆           ┆           ┆           ┆          │\n",
       "│           ┆           ┆ 02:23:31  ┆ 02:52:04  ┆   ┆           ┆           ┆           ┆          │\n",
       "└───────────┴───────────┴───────────┴───────────┴───┴───────────┴───────────┴───────────┴──────────┘"
      ]
     },
     "execution_count": 35,
     "metadata": {},
     "output_type": "execute_result"
    }
   ],
   "source": [
    "(\n",
    "    plldf.describe()\n",
    ")"
   ]
  },
  {
   "cell_type": "code",
   "execution_count": null,
   "id": "42c3c9ea",
   "metadata": {},
   "outputs": [],
   "source": []
  }
 ],
 "metadata": {
  "kernelspec": {
   "display_name": "env_main",
   "language": "python",
   "name": "env_main"
  },
  "language_info": {
   "codemirror_mode": {
    "name": "ipython",
    "version": 3
   },
   "file_extension": ".py",
   "mimetype": "text/x-python",
   "name": "python",
   "nbconvert_exporter": "python",
   "pygments_lexer": "ipython3",
   "version": "3.10.14"
  }
 },
 "nbformat": 4,
 "nbformat_minor": 5
}
