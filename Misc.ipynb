{
 "cells": [
  {
   "cell_type": "markdown",
   "id": "79d770c8",
   "metadata": {},
   "source": [
    "# Imports"
   ]
  },
  {
   "cell_type": "code",
   "execution_count": 1,
   "id": "3b30d2f9",
   "metadata": {},
   "outputs": [],
   "source": [
    "import warnings\n",
    "warnings.filterwarnings(\"ignore\")\n",
    "\n",
    "import os\n",
    "\n",
    "import datetime\n",
    "\n",
    "import pandas as pd\n",
    "import polars as pl"
   ]
  },
  {
   "cell_type": "markdown",
   "id": "cc8e7063",
   "metadata": {},
   "source": [
    "# GLOBAL_VARS"
   ]
  },
  {
   "cell_type": "code",
   "execution_count": null,
   "id": "6605e6e3",
   "metadata": {},
   "outputs": [],
   "source": [
    "CWD = os.getcwd()\n",
    "PATH_INPUT_FOLDER = os.path.join(CWD, \"input_urllib\")\n",
    "\n",
    "trip2401 = os.path.join(PATH_INPUT_FOLDER, \"yellow_tripdata_2024-01.parquet\")"
   ]
  },
  {
   "cell_type": "code",
   "execution_count": null,
   "id": "c5c41847",
   "metadata": {},
   "outputs": [],
   "source": [
    "pddf = pd.read_parquet(path = trip2401)\n",
    "pldf = pl.read_parquet(source = trip2401)"
   ]
  },
  {
   "cell_type": "code",
   "execution_count": null,
   "id": "d5ae2866",
   "metadata": {},
   "outputs": [],
   "source": [
    "pldf.shape"
   ]
  },
  {
   "cell_type": "code",
   "execution_count": null,
   "id": "8ffd31ee",
   "metadata": {},
   "outputs": [],
   "source": [
    "pldf.head()"
   ]
  },
  {
   "cell_type": "code",
   "execution_count": null,
   "id": "94b41305",
   "metadata": {},
   "outputs": [],
   "source": [
    "(\n",
    "    pddf\n",
    "    .groupby(by = [\"VendorID\"])\n",
    "    .agg(\n",
    "        max_passenger_count = (\"PassengerCount\", max),\n",
    "        min_passenger_count = (\"PassengerCount\", min),\n",
    "        mean_tip_distance = (\"TripDistance\", \"mean\")\n",
    "    )\n",
    "    .reset_index()\n",
    "    .sort_values(\"VendorID\")\n",
    "    [[\"VendorID\", \"mean_tip_distance\"]]\n",
    "    .plot(kind = \"bar\", x = \"VendorID\")\n",
    ")"
   ]
  },
  {
   "cell_type": "code",
   "execution_count": null,
   "id": "fa253179",
   "metadata": {},
   "outputs": [],
   "source": [
    "(\n",
    "    pldf\n",
    "    .group_by(by = [\"VendorID\"])\n",
    "    .agg(\n",
    "        max_passenger_count = pl.col(\"PassengerCount\").max(),\n",
    "        min_passenger_count = pl.col(\"PassengerCount\").min(),\n",
    "        mean_tip_distance = pl.col(\"TripDistance\").mean()\n",
    "    )\n",
    "    .sort(\"VendorID\")\n",
    "    .select(pl.col([\"VendorID\", \"mean_tip_distance\"]))\n",
    "    .plot(kind = \"bar\", x = \"VendorID\")\n",
    ")"
   ]
  },
  {
   "cell_type": "code",
   "execution_count": null,
   "id": "2691caa7",
   "metadata": {},
   "outputs": [],
   "source": [
    "(\n",
    "    pldf\n",
    "    .with_columns(TpepPickupDatetimeStr = pl.col(\"TpepPickupDatetime\").cast(pl.String))\n",
    "    .with_columns(\n",
    "        Year = pl.col(\"TpepPickupDatetime\").dt.year(),\n",
    "        Month = pl.col(\"TpepPickupDatetime\").dt.month(),\n",
    "        Day = pl.col(\"TpepPickupDatetime\").dt.day()\n",
    "    )\n",
    "    .with_columns(Date = pl.date(pl.col(\"Year\"), pl.col(\"Month\"), pl.col(\"Day\")))\n",
    "    .group_by(pl.col(\"Date\"))\n",
    "    .agg(\n",
    "        pl.col(\"PassengerCount\").mean()\n",
    "    )\n",
    "    .filter(\n",
    "        (pl.col(\"Date\") >= datetime.datetime(2024, 1, 1)) & (pl.col(\"Date\") < datetime.datetime(2024, 2, 1))\n",
    "    )\n",
    "    .sort(pl.col(\"Date\"))\n",
    "    .plot(kind = \"line\", x = \"Date\")\n",
    ")"
   ]
  },
  {
   "cell_type": "code",
   "execution_count": null,
   "id": "2040d187",
   "metadata": {},
   "outputs": [],
   "source": [
    "(\n",
    "    pldf\n",
    "    .sort(\"TpepPickupDatetime\")\n",
    "    .group_by_dynamic(index_column = \"TpepPickupDatetime\", every = \"7d\", start_by = \"monday\")\n",
    "    .agg(\n",
    "        pl.col(\"PassengerCount\").mean()\n",
    "    )\n",
    "    .filter(\n",
    "        (pl.col(\"TpepPickupDatetime\") >= datetime.datetime(2024, 1, 1)) &\n",
    "        (pl.col(\"TpepPickupDatetime\") < datetime.datetime(2024, 2, 1))\n",
    "    )\n",
    "    .plot(kind = \"line\", x = \"TpepPickupDatetime\")\n",
    "    \n",
    ")"
   ]
  },
  {
   "cell_type": "code",
   "execution_count": null,
   "id": "e6e859e3",
   "metadata": {},
   "outputs": [],
   "source": [
    "(\n",
    "    pldf\n",
    "    .filter(\n",
    "        (pl.col(\"TpepPickupDatetime\") >= datetime.datetime(2024, 1, 1)) &\n",
    "        (pl.col(\"TpepPickupDatetime\") < datetime.datetime(2024, 2, 1))\n",
    "    )\n",
    "    .with_columns(Day = pl.col(\"TpepPickupDatetime\").dt.day())\n",
    "    .with_columns(TotalFareAmount = pl.col(\"FareAmount\").sum().over(\"Day\"))\n",
    "    .with_columns(PctPerDay = (pl.col(\"FareAmount\")/pl.col(\"TotalFareAmount\")).mul(100).round(5))\n",
    "    .select(pl.col([\"TpepPickupDatetime\", \"Day\", \"FareAmount\", \"TotalFareAmount\", \"PctPerDay\"]))\n",
    "    .plot(kind = \"line\", x = \"TpepPickupDatetime\")\n",
    ")"
   ]
  },
  {
   "cell_type": "code",
   "execution_count": null,
   "id": "fc0e67a4",
   "metadata": {},
   "outputs": [],
   "source": [
    "(\n",
    "    pldf\n",
    "    .filter(\n",
    "        (pl.col(\"TpepPickupDatetime\") >= datetime.datetime(2024, 1, 1)) &\n",
    "        (pl.col(\"TpepPickupDatetime\") < datetime.datetime(2024, 2, 1))\n",
    "    )\n",
    "    .sort(\"TpepPickupDatetime\")\n",
    "    .select(pl.col([\"TpepPickupDatetime\", \"PaymentType\", \"FareAmount\"]))\n",
    "    .group_by_dynamic(index_column = \"TpepPickupDatetime\", every = \"1d\", by = \"PaymentType\")\n",
    "    .agg(pl.col(\"FareAmount\").mean())\n",
    "    .plot(kind = \"line\", y = \"FareAmount\", x = \"TpepPickupDatetime\", by = \"PaymentType\")\n",
    ")"
   ]
  },
  {
   "cell_type": "code",
   "execution_count": null,
   "id": "ef7a6e36",
   "metadata": {},
   "outputs": [],
   "source": [
    "(\n",
    "    pldf\n",
    "    .filter(\n",
    "        (pl.col(\"TpepPickupDatetime\") >= datetime.datetime(2024, 1, 1)) &\n",
    "        (pl.col(\"TpepPickupDatetime\") < datetime.datetime(2024, 2, 1))\n",
    "    )\n",
    "    .sort(\"TpepPickupDatetime\")\n",
    "    .select(pl.col([\"TpepPickupDatetime\", \"PaymentType\", \"FareAmount\"]))\n",
    "    .group_by([pl.col(\"TpepPickupDatetime\").dt.truncate(\"1d\"), \"PaymentType\"])\n",
    "    .agg(pl.col(\"FareAmount\").mean())\n",
    "    .sort(\"TpepPickupDatetime\")\n",
    "    .plot(kind = \"line\", y = \"FareAmount\", x = \"TpepPickupDatetime\", by = \"PaymentType\")\n",
    ")"
   ]
  },
  {
   "cell_type": "code",
   "execution_count": null,
   "id": "a81613fd",
   "metadata": {},
   "outputs": [],
   "source": [
    "(\n",
    "    pldf\n",
    "    .filter(\n",
    "        (pl.col(\"TpepPickupDatetime\") >= datetime.datetime(2024, 1, 1)) &\n",
    "        (pl.col(\"TpepPickupDatetime\") < datetime.datetime(2024, 2, 1))\n",
    "    )\n",
    "    .sort(\"TpepPickupDatetime\")\n",
    "    .select(pl.col([\"TpepPickupDatetime\", \"PaymentType\", \"FareAmount\"]))\n",
    "    .filter(~pl.all_horizontal(pl.all().is_null()))\n",
    ")"
   ]
  },
  {
   "cell_type": "code",
   "execution_count": null,
   "id": "21fca3f6",
   "metadata": {},
   "outputs": [],
   "source": [
    "[m for m in dir(pl.DataFrame) if not m.startswith(\"_\")]"
   ]
  },
  {
   "cell_type": "code",
   "execution_count": null,
   "id": "04aa6fec",
   "metadata": {},
   "outputs": [],
   "source": [
    "r = (\n",
    "    pldf\n",
    "    .filter(\n",
    "        (pl.col(\"TpepPickupDatetime\") >= datetime.datetime(2024, 1, 1)) &\n",
    "        (pl.col(\"TpepPickupDatetime\") < datetime.datetime(2024, 2, 1))\n",
    "    )\n",
    "    .sort(\"TpepPickupDatetime\")\n",
    "    .select(pl.col([\"TpepPickupDatetime\", \"PaymentType\", \"FareAmount\"]))\n",
    "    # .group_by([pl.col(\"TpepPickupDatetime\").dt.truncate(\"1d\"), \"PaymentType\"])\n",
    "    .group_by(pl.col(\"TpepPickupDatetime\").dt.truncate(\"1d\"))\n",
    "    .agg(\n",
    "        TotalFareAmount = pl.col(\"FareAmount\").sum()\n",
    "    )\n",
    "    .with_columns(\n",
    "        MovingAverageTotalAmount =\\\n",
    "        pl.col(\"TotalFareAmount\").mean().rolling(index_column = \"TpepPickupDatetime\", period = \"7d\")\n",
    "    )\n",
    "\n",
    ")"
   ]
  },
  {
   "cell_type": "code",
   "execution_count": null,
   "id": "aea0f3f1",
   "metadata": {},
   "outputs": [],
   "source": [
    "pl.Config.set_fmt_float(\"full\")"
   ]
  },
  {
   "cell_type": "code",
   "execution_count": null,
   "id": "242d82cf",
   "metadata": {},
   "outputs": [],
   "source": [
    "(1765112.95 + 1583412.42)/2"
   ]
  },
  {
   "cell_type": "code",
   "execution_count": null,
   "id": "a5cb961c",
   "metadata": {},
   "outputs": [],
   "source": [
    "(\n",
    "    r\n",
    "    .head(7)\n",
    "    .with_columns(pl.col(\"TotalFareAmount\").sum()/7)\n",
    ")"
   ]
  },
  {
   "cell_type": "code",
   "execution_count": null,
   "id": "0bc29530",
   "metadata": {},
   "outputs": [],
   "source": [
    "r = (\n",
    "    pldf\n",
    "    .filter(\n",
    "        (pl.col(\"TpepPickupDatetime\") >= datetime.datetime(2024, 1, 1)) &\n",
    "        (pl.col(\"TpepPickupDatetime\") < datetime.datetime(2024, 2, 1))\n",
    "    )\n",
    "    .sort(\"TpepPickupDatetime\")\n",
    "    .select(pl.col([\"TpepPickupDatetime\", \"PaymentType\", \"FareAmount\"]))\n",
    "    .group_by([pl.col(\"TpepPickupDatetime\").dt.truncate(\"1d\"), \"PaymentType\"])\n",
    "    .agg(\n",
    "        TotalFareAmount = pl.col(\"FareAmount\").sum()\n",
    "    )\n",
    ")\n",
    "\n",
    "rp = (\n",
    "    r\n",
    "    .sort([\"TpepPickupDatetime\", \"PaymentType\"])\n",
    "    .rolling(\n",
    "        index_column = \"TpepPickupDatetime\",\n",
    "        group_by = \"PaymentType\",\n",
    "        period = \"7d\"\n",
    "        \n",
    "    )\n",
    "    .agg(\n",
    "        MA7DTotalFareAmount = pl.col(\"TotalFareAmount\").mean()\n",
    "    )\n",
    "    .join(r, on = [\"PaymentType\", \"TpepPickupDatetime\"])\n",
    "    .sort([\"PaymentType\", \"TpepPickupDatetime\"])\n",
    ")\n",
    "\n",
    "rp"
   ]
  },
  {
   "cell_type": "code",
   "execution_count": null,
   "id": "8d200975",
   "metadata": {},
   "outputs": [],
   "source": [
    "rp = rp.pivot(\n",
    "    index = \"TpepPickupDatetime\",\n",
    "    columns = \"PaymentType\",\n",
    "    values = [\"TotalFareAmount\", \"MA7DTotalFareAmount\"]\n",
    ")"
   ]
  },
  {
   "cell_type": "code",
   "execution_count": null,
   "id": "e4897872",
   "metadata": {},
   "outputs": [],
   "source": [
    "rp"
   ]
  },
  {
   "cell_type": "code",
   "execution_count": null,
   "id": "67d1daa7",
   "metadata": {},
   "outputs": [],
   "source": [
    "p1 = rp.plot(\n",
    "    x = \"TpepPickupDatetime\",\n",
    "    y = \"TotalFareAmount_PaymentType_0\",\n",
    "    c = \"black\"\n",
    ")\n",
    "\n",
    "p2 = p1 * (rp.plot(\n",
    "    x = \"TpepPickupDatetime\",\n",
    "    y = \"TotalFareAmount_PaymentType_1\",\n",
    "    c = \"red\"\n",
    "))\n",
    "\n",
    "p3 = p2 * (rp.plot(\n",
    "    x = \"TpepPickupDatetime\",\n",
    "    y = \"TotalFareAmount_PaymentType_2\",\n",
    "    c = \"green\"\n",
    "))\n",
    "\n",
    "p3"
   ]
  },
  {
   "cell_type": "code",
   "execution_count": null,
   "id": "997b9512",
   "metadata": {},
   "outputs": [],
   "source": []
  }
 ],
 "metadata": {
  "kernelspec": {
   "display_name": "env_polars",
   "language": "python",
   "name": "env_polars"
  },
  "language_info": {
   "codemirror_mode": {
    "name": "ipython",
    "version": 3
   },
   "file_extension": ".py",
   "mimetype": "text/x-python",
   "name": "python",
   "nbconvert_exporter": "python",
   "pygments_lexer": "ipython3",
   "version": "3.10.14"
  }
 },
 "nbformat": 4,
 "nbformat_minor": 5
}
