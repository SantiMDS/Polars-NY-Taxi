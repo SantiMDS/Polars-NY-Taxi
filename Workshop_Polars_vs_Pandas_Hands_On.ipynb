{
 "cells": [
  {
   "cell_type": "markdown",
   "id": "f848a878",
   "metadata": {},
   "source": [
    "# Introducción\n",
    "\n",
    "Desde su lanzamiento en Enero de 2008 [pandas](https://pandas.pydata.org/) ha sido la librería de análisis tabular más utilizada dentro del ecosistema Python.\n",
    "\n",
    "Pandas es una librería muy versátil y con mucho soporte por parte de la comunidad de Data Science.\n",
    "\n",
    "[scikit-learn](https://scikit-learn.org/stable/), [xgboost](https://xgboost.readthedocs.io/en/stable/) y otras muchas herramientas son compatibles con pandas lo que aumenta su popularidad [(42k estrellas en GitHub)](https://github.com/pandas-dev/pandas) y también extiende su funcionalidad. **No obstante pandas nació con algunas limitaciones que complican su uso para hacer análisis de datasets masivos.**\n",
    "\n",
    "En los últimos años la librería [polars](https://pola.rs/) ha hecho su aparición dentro del mundo de análisis de datos y ha ganado mucha notoriedad [(26k estrellas en GitHub)](https://github.com/pola-rs/polars).\n",
    "\n",
    "Dentro del workshop de hoy vamos a hacer una breve introducción a polars y lo vamos a comparar con pandas.\n",
    "\n",
    "El dataset utilizado para el análisis es [New Yort Taxi and Limousine Comission Tip Dataset](https://www.nyc.gov/site/tlc/about/tlc-trip-record-data.page).\n",
    "\n",
    "Para descargar el dataset, podéis ejecutar el código del notebook [Getting_and_Cleaning_Data.ipynb](./Getting_and_Cleaning_Data.ipynb)"
   ]
  },
  {
   "cell_type": "markdown",
   "id": "be1b4bd7",
   "metadata": {},
   "source": [
    "# Los \"pecados capitales\" de pandas."
   ]
  },
  {
   "cell_type": "markdown",
   "id": "4eddbfcb",
   "metadata": {},
   "source": [
    "El creador de pandas Wes McKinney escribió en detalle sobre algunas de las limitaciones que tiene pandas. Os recomiendo que lean su blog: [Apache Arrow and the “10 Things I Hate About pandas”](https://wesmckinney.com/blog/apache-arrow-pandas-internals/).\n",
    "\n",
    "Básicamente los principales problemas de pandas según su creador son:\n",
    "\n",
    "1. **Internals too far from “the metal”.**<br>\n",
    "1. No support for memory-mapped datasets.<br>\n",
    "1. Poor performance in database and file ingest/export.<br>\n",
    "1. Warty missing data support.<br>\n",
    "1. **Lack of transparency into memory use, RAM management.**<br>\n",
    "1. Weak support for categorical data.<br>\n",
    "1. **Complex groupby operations awkward and slow.**<br>\n",
    "1. Appending data to a DataFrame tedious and very costly.<br>\n",
    "1. Limited, non-extensible type metadata.<br>\n",
    "1. **Eager evaluation model, no query planning.**<br>\n",
    "1. **“Slow”, limited multicore algorithms for large datasets.**<br>\n",
    "\n",
    "Dentro de este workshop vamos a hablar un poco más en detalle sobre los 5 puntos marcados en **negrita.**\n",
    "\n",
    "***Nota: el blog anterior fue escrito antes de la aparición de polars en 2020, pero curiosamente polars resuelve algunas de las problemas que se mencionan en el blog.***"
   ]
  },
  {
   "cell_type": "markdown",
   "id": "69d0f945",
   "metadata": {},
   "source": [
    "---\n",
    "\n",
    "El punto número 1, **Internals too far from “the metal** se puede resumir en: pandas está escrito en Python y usa como backend numpy (recientemente pandas también ha añadido la posibilidad de usar Arrow como backend).\n",
    "\n",
    "Esto hace que cuando tenemos un DataFrame **mixto** (strings, números o hasta objetos python en el DataFrame) las operaciones son mucho más lentas.\n",
    "\n",
    "`In pandas, an array of strings is an array of PyObject pointers, and the actual string data lives inside PyBytes or PyUnicode structs that live all over the process heap.`\n",
    "\n",
    "---\n",
    "\n",
    "Pandas consume mucha memoria interna porque en determinas situaciones debe hacer una copia del DataFrame. Si tenemos muchas columnas esto es algo muy ineficiente.\n",
    "\n",
    "Según el propio Wes McKinney, `pandas rule of thumb: have 5 to 10 times as much RAM as the size of your dataset`.\n",
    "\n",
    "### Es decir, si nuestro dataset en memoria ocupa 10GB, es recomendable tener entre 50-100GB de RAM para poder trabajar con pandas sin sustos.\n",
    "\n",
    "---\n",
    "\n",
    "**Los puntos 7 y 11** están muy relacionados y tienen que ver con que pandas \"carga\" todo el dataset en memoria para hacer sus cálculos. Lo anterior junto con el **GIL (Global Interpreter Lock)** de Python hacen muy díficil paralelizar operaciones para ganar velocidad por un lado y procesar datasets que no caben en la RAM por el otro lado.\n",
    "\n",
    "---\n",
    "\n",
    "Por último pandas únicamente dispone de **Eager mode**. Esto quiere decir que el código se ejecuta según se encuentra. Al no tener un \"motor\" de ejecución, no hay espacio para optimizar el código (query planner)."
   ]
  },
  {
   "cell_type": "markdown",
   "id": "1be6581a",
   "metadata": {},
   "source": [
    "# ¿Que es Polars?\n",
    "\n",
    "Polars es una librería que nació en 2020 y creada por [Ritchie Vink](https://www.ritchievink.com/blog/2021/02/28/i-wrote-one-of-the-fastest-dataframe-libraries/).\n",
    "\n",
    "Algunas de las diferencias que tiene respecto a pandas son:\n",
    "\n",
    "1. Está escrita en **Rust**, un lenguaje de programación muy rápido y uno de los más querido según el [stackoverflow survery de 2023](https://survey.stackoverflow.co/2023/).\n",
    "\n",
    "2. Polars utiliza desde el inicio **Apache Arrow** como forma de representar los datos. Esto hace que el acceso a los datos sea muy rápido y eficiente.\n",
    "\n",
    "3. Rust permite escribir **código que se ejecuta en paralelo** de manera muy fácil y polars se beneficia enormemente de ello. La mayoría de las operaciones en polars se ejecutan en diferentes threads y se gana mucha velocidad.\n",
    "\n",
    "4. Polars es según su creador **\"un motor de queries con una interfaz de DataFrames\"**. Esto implica que tiene dos modos de ejecutar el código: [Eager y Lazy mode](https://docs.pola.rs/user-guide/concepts/lazy-vs-eager/).\n",
    "\n",
    "**Eager mode al igual que en pandas: el código se ejecuta según se encuentra. No se realiza ninguna optimización de código.**\n",
    "\n",
    "**Lazy mode por el otro lado permite al motor de ejecución hacer diferentes optimizaciones sobre el código antes de ejecutar la query por este motivo puede llegar a ser mucho más rápido y eficiente.**"
   ]
  },
  {
   "cell_type": "markdown",
   "id": "1dd4cfc2",
   "metadata": {},
   "source": [
    "Resumen de las dos herramientas:\n",
    "\n",
    "|Feature   |Polars   |Pandas   |\n",
    "|---|---|---|\n",
    "|Lenguaje   |Rust   |Python   |\n",
    "|Backend   |Arrow   |Numpy o PyArrow|\n",
    "|Velocidad   |Rápido gracias a Rust, Multicores Compute y Query Planner   |Más rápido que Python puro   |\n",
    "|Gestión Memoria|Muy eficiente por Rust y cero copias|Copy on Write|\n",
    "|Lazy Mode|Sí|No|\n",
    "|Multi Core|Sí by default|No. Tengo que utilizar otras librerías (p.e: Dask)|\n",
    "|Datasets Masivos|Sí by default|No. Tengo que utilizar otras librerías (p.e: Dask)|\n",
    "|Facilidad de uso|Las dos librerías son muy fáciles de usar|Las dos librerías son muy fáciles de usar|\n",
    "|Comunidad y soporte|Librerías más nueva con creciente comunidad|Mucha más documentación y ejemplos|\n",
    "|Ciclos de desarrollo|Nuevo release cada semana|Mucho más madura|"
   ]
  },
  {
   "cell_type": "markdown",
   "id": "79d770c8",
   "metadata": {},
   "source": [
    "# Imports"
   ]
  },
  {
   "cell_type": "code",
   "execution_count": 1,
   "id": "3b30d2f9",
   "metadata": {},
   "outputs": [],
   "source": [
    "import warnings\n",
    "warnings.filterwarnings(\"ignore\")\n",
    "\n",
    "import os\n",
    "\n",
    "import datetime\n",
    "\n",
    "import pandas as pd\n",
    "import polars as pl\n",
    "\n",
    "pd.options.display.float_format = '{:.3f}'.format\n",
    "pl.Config.set_float_precision(3);"
   ]
  },
  {
   "cell_type": "markdown",
   "id": "cc8e7063",
   "metadata": {},
   "source": [
    "# GLOBAL_VARS"
   ]
  },
  {
   "cell_type": "code",
   "execution_count": 2,
   "id": "6605e6e3",
   "metadata": {},
   "outputs": [],
   "source": [
    "CWD = os.getcwd()\n",
    "PATH_INPUT_FOLDER = os.path.join(CWD, \"input\")\n",
    "\n",
    "TRIP2401 = os.path.join(PATH_INPUT_FOLDER, \"yellow_tripdata_2024-01.parquet\")"
   ]
  },
  {
   "cell_type": "code",
   "execution_count": 3,
   "id": "79fc5795",
   "metadata": {},
   "outputs": [],
   "source": [
    "fs = [f for f in os.listdir(PATH_INPUT_FOLDER) if f != '.ipynb_checkpoints']"
   ]
  },
  {
   "cell_type": "code",
   "execution_count": 4,
   "id": "49e8cc9c",
   "metadata": {},
   "outputs": [
    {
     "name": "stdout",
     "output_type": "stream",
     "text": [
      "Tenemos un total de 38 ficheros dentro de nuestra carpeta\n",
      "/Users/nicolaepopescul/Desktop/code/streams/20240512_polars/input\n"
     ]
    }
   ],
   "source": [
    "print(f\"Tenemos un total de {len(fs)} ficheros dentro de nuestra carpeta\\n{PATH_INPUT_FOLDER}\")"
   ]
  },
  {
   "cell_type": "markdown",
   "id": "61db4213",
   "metadata": {},
   "source": [
    "# Pandas vs Polars: métodos básicos"
   ]
  },
  {
   "cell_type": "markdown",
   "id": "374a80d0",
   "metadata": {},
   "source": [
    "Vamos a cargar los dos datasets en memoria para comparar la sintaxís e ir conociendo polars.\n",
    "\n",
    "Aquí vamos a utilizar la `API de Eager mode de polars` y por este motivo vamos a utilizar el método de `read_parquet` de polars.\n",
    "\n",
    "Más adelante veremos los `LazyFrames` de polars."
   ]
  },
  {
   "cell_type": "code",
   "execution_count": 5,
   "id": "c5c41847",
   "metadata": {},
   "outputs": [],
   "source": [
    "# pandas\n",
    "pddf = pd.read_parquet(path = TRIP2401)"
   ]
  },
  {
   "cell_type": "code",
   "execution_count": 6,
   "id": "9dece7f5",
   "metadata": {},
   "outputs": [],
   "source": [
    "# polars\n"
   ]
  },
  {
   "cell_type": "code",
   "execution_count": 7,
   "id": "f8683fd3",
   "metadata": {},
   "outputs": [
    {
     "data": {
      "text/plain": [
       "(2964624, 19)"
      ]
     },
     "execution_count": 7,
     "metadata": {},
     "output_type": "execute_result"
    }
   ],
   "source": [
    "# pandas\n",
    "pddf.shape"
   ]
  },
  {
   "cell_type": "code",
   "execution_count": 8,
   "id": "d5ae2866",
   "metadata": {},
   "outputs": [],
   "source": [
    "# polars\n"
   ]
  },
  {
   "cell_type": "code",
   "execution_count": 9,
   "id": "494e0b69",
   "metadata": {},
   "outputs": [
    {
     "data": {
      "text/html": [
       "<div>\n",
       "<style scoped>\n",
       "    .dataframe tbody tr th:only-of-type {\n",
       "        vertical-align: middle;\n",
       "    }\n",
       "\n",
       "    .dataframe tbody tr th {\n",
       "        vertical-align: top;\n",
       "    }\n",
       "\n",
       "    .dataframe thead th {\n",
       "        text-align: right;\n",
       "    }\n",
       "</style>\n",
       "<table border=\"1\" class=\"dataframe\">\n",
       "  <thead>\n",
       "    <tr style=\"text-align: right;\">\n",
       "      <th></th>\n",
       "      <th>VendorID</th>\n",
       "      <th>TpepPickupDatetime</th>\n",
       "      <th>TpepDropoffDatetime</th>\n",
       "      <th>PassengerCount</th>\n",
       "      <th>TripDistance</th>\n",
       "      <th>RatecodeID</th>\n",
       "      <th>PULocationID</th>\n",
       "      <th>DOLocationID</th>\n",
       "      <th>PaymentType</th>\n",
       "      <th>FareAmount</th>\n",
       "      <th>Extra</th>\n",
       "      <th>MtaTax</th>\n",
       "      <th>TipAmount</th>\n",
       "      <th>TollsAmount</th>\n",
       "      <th>ImprovementSurcharge</th>\n",
       "      <th>TotalAmount</th>\n",
       "      <th>CongestionSurcharge</th>\n",
       "      <th>AirportFee</th>\n",
       "    </tr>\n",
       "  </thead>\n",
       "  <tbody>\n",
       "    <tr>\n",
       "      <th>count</th>\n",
       "      <td>2964624.000</td>\n",
       "      <td>2964624</td>\n",
       "      <td>2964624</td>\n",
       "      <td>2824462.000</td>\n",
       "      <td>2964624.000</td>\n",
       "      <td>2824462.000</td>\n",
       "      <td>2964624.000</td>\n",
       "      <td>2964624.000</td>\n",
       "      <td>2964624.000</td>\n",
       "      <td>2964624.000</td>\n",
       "      <td>2964624.000</td>\n",
       "      <td>2964624.000</td>\n",
       "      <td>2964624.000</td>\n",
       "      <td>2964624.000</td>\n",
       "      <td>2964624.000</td>\n",
       "      <td>2964624.000</td>\n",
       "      <td>2824462.000</td>\n",
       "      <td>2824462.000</td>\n",
       "    </tr>\n",
       "    <tr>\n",
       "      <th>mean</th>\n",
       "      <td>1.754</td>\n",
       "      <td>2024-01-17 00:46:36.431095552</td>\n",
       "      <td>2024-01-17 01:02:13.208131328</td>\n",
       "      <td>1.339</td>\n",
       "      <td>3.652</td>\n",
       "      <td>2.069</td>\n",
       "      <td>166.018</td>\n",
       "      <td>165.117</td>\n",
       "      <td>1.161</td>\n",
       "      <td>18.175</td>\n",
       "      <td>1.452</td>\n",
       "      <td>0.483</td>\n",
       "      <td>3.336</td>\n",
       "      <td>0.527</td>\n",
       "      <td>0.976</td>\n",
       "      <td>26.802</td>\n",
       "      <td>2.256</td>\n",
       "      <td>0.141</td>\n",
       "    </tr>\n",
       "    <tr>\n",
       "      <th>min</th>\n",
       "      <td>1.000</td>\n",
       "      <td>2002-12-31 22:59:39</td>\n",
       "      <td>2002-12-31 23:05:41</td>\n",
       "      <td>0.000</td>\n",
       "      <td>0.000</td>\n",
       "      <td>1.000</td>\n",
       "      <td>1.000</td>\n",
       "      <td>1.000</td>\n",
       "      <td>0.000</td>\n",
       "      <td>-899.000</td>\n",
       "      <td>-7.500</td>\n",
       "      <td>-0.500</td>\n",
       "      <td>-80.000</td>\n",
       "      <td>-80.000</td>\n",
       "      <td>-1.000</td>\n",
       "      <td>-900.000</td>\n",
       "      <td>-2.500</td>\n",
       "      <td>-1.750</td>\n",
       "    </tr>\n",
       "    <tr>\n",
       "      <th>25%</th>\n",
       "      <td>2.000</td>\n",
       "      <td>2024-01-09 15:59:19.750000128</td>\n",
       "      <td>2024-01-09 16:16:23</td>\n",
       "      <td>1.000</td>\n",
       "      <td>1.000</td>\n",
       "      <td>1.000</td>\n",
       "      <td>132.000</td>\n",
       "      <td>114.000</td>\n",
       "      <td>1.000</td>\n",
       "      <td>8.600</td>\n",
       "      <td>0.000</td>\n",
       "      <td>0.500</td>\n",
       "      <td>1.000</td>\n",
       "      <td>0.000</td>\n",
       "      <td>1.000</td>\n",
       "      <td>15.380</td>\n",
       "      <td>2.500</td>\n",
       "      <td>0.000</td>\n",
       "    </tr>\n",
       "    <tr>\n",
       "      <th>50%</th>\n",
       "      <td>2.000</td>\n",
       "      <td>2024-01-17 10:45:37.500000</td>\n",
       "      <td>2024-01-17 11:03:51.500000</td>\n",
       "      <td>1.000</td>\n",
       "      <td>1.680</td>\n",
       "      <td>1.000</td>\n",
       "      <td>162.000</td>\n",
       "      <td>162.000</td>\n",
       "      <td>1.000</td>\n",
       "      <td>12.800</td>\n",
       "      <td>1.000</td>\n",
       "      <td>0.500</td>\n",
       "      <td>2.700</td>\n",
       "      <td>0.000</td>\n",
       "      <td>1.000</td>\n",
       "      <td>20.100</td>\n",
       "      <td>2.500</td>\n",
       "      <td>0.000</td>\n",
       "    </tr>\n",
       "    <tr>\n",
       "      <th>75%</th>\n",
       "      <td>2.000</td>\n",
       "      <td>2024-01-24 18:23:52.249999872</td>\n",
       "      <td>2024-01-24 18:40:29</td>\n",
       "      <td>1.000</td>\n",
       "      <td>3.110</td>\n",
       "      <td>1.000</td>\n",
       "      <td>234.000</td>\n",
       "      <td>234.000</td>\n",
       "      <td>1.000</td>\n",
       "      <td>20.500</td>\n",
       "      <td>2.500</td>\n",
       "      <td>0.500</td>\n",
       "      <td>4.120</td>\n",
       "      <td>0.000</td>\n",
       "      <td>1.000</td>\n",
       "      <td>28.560</td>\n",
       "      <td>2.500</td>\n",
       "      <td>0.000</td>\n",
       "    </tr>\n",
       "    <tr>\n",
       "      <th>max</th>\n",
       "      <td>6.000</td>\n",
       "      <td>2024-02-01 00:01:15</td>\n",
       "      <td>2024-02-02 13:56:52</td>\n",
       "      <td>9.000</td>\n",
       "      <td>312722.300</td>\n",
       "      <td>99.000</td>\n",
       "      <td>265.000</td>\n",
       "      <td>265.000</td>\n",
       "      <td>4.000</td>\n",
       "      <td>5000.000</td>\n",
       "      <td>14.250</td>\n",
       "      <td>4.000</td>\n",
       "      <td>428.000</td>\n",
       "      <td>115.920</td>\n",
       "      <td>1.000</td>\n",
       "      <td>5000.000</td>\n",
       "      <td>2.500</td>\n",
       "      <td>1.750</td>\n",
       "    </tr>\n",
       "    <tr>\n",
       "      <th>std</th>\n",
       "      <td>0.433</td>\n",
       "      <td>NaN</td>\n",
       "      <td>NaN</td>\n",
       "      <td>0.850</td>\n",
       "      <td>225.463</td>\n",
       "      <td>9.823</td>\n",
       "      <td>63.624</td>\n",
       "      <td>69.315</td>\n",
       "      <td>0.581</td>\n",
       "      <td>18.950</td>\n",
       "      <td>1.804</td>\n",
       "      <td>0.118</td>\n",
       "      <td>3.897</td>\n",
       "      <td>2.128</td>\n",
       "      <td>0.218</td>\n",
       "      <td>23.386</td>\n",
       "      <td>0.823</td>\n",
       "      <td>0.488</td>\n",
       "    </tr>\n",
       "  </tbody>\n",
       "</table>\n",
       "</div>"
      ],
      "text/plain": [
       "         VendorID             TpepPickupDatetime  \\\n",
       "count 2964624.000                        2964624   \n",
       "mean        1.754  2024-01-17 00:46:36.431095552   \n",
       "min         1.000            2002-12-31 22:59:39   \n",
       "25%         2.000  2024-01-09 15:59:19.750000128   \n",
       "50%         2.000     2024-01-17 10:45:37.500000   \n",
       "75%         2.000  2024-01-24 18:23:52.249999872   \n",
       "max         6.000            2024-02-01 00:01:15   \n",
       "std         0.433                            NaN   \n",
       "\n",
       "                 TpepDropoffDatetime  PassengerCount  TripDistance  \\\n",
       "count                        2964624     2824462.000   2964624.000   \n",
       "mean   2024-01-17 01:02:13.208131328           1.339         3.652   \n",
       "min              2002-12-31 23:05:41           0.000         0.000   \n",
       "25%              2024-01-09 16:16:23           1.000         1.000   \n",
       "50%       2024-01-17 11:03:51.500000           1.000         1.680   \n",
       "75%              2024-01-24 18:40:29           1.000         3.110   \n",
       "max              2024-02-02 13:56:52           9.000    312722.300   \n",
       "std                              NaN           0.850       225.463   \n",
       "\n",
       "       RatecodeID  PULocationID  DOLocationID  PaymentType  FareAmount  \\\n",
       "count 2824462.000   2964624.000   2964624.000  2964624.000 2964624.000   \n",
       "mean        2.069       166.018       165.117        1.161      18.175   \n",
       "min         1.000         1.000         1.000        0.000    -899.000   \n",
       "25%         1.000       132.000       114.000        1.000       8.600   \n",
       "50%         1.000       162.000       162.000        1.000      12.800   \n",
       "75%         1.000       234.000       234.000        1.000      20.500   \n",
       "max        99.000       265.000       265.000        4.000    5000.000   \n",
       "std         9.823        63.624        69.315        0.581      18.950   \n",
       "\n",
       "            Extra      MtaTax   TipAmount  TollsAmount  ImprovementSurcharge  \\\n",
       "count 2964624.000 2964624.000 2964624.000  2964624.000           2964624.000   \n",
       "mean        1.452       0.483       3.336        0.527                 0.976   \n",
       "min        -7.500      -0.500     -80.000      -80.000                -1.000   \n",
       "25%         0.000       0.500       1.000        0.000                 1.000   \n",
       "50%         1.000       0.500       2.700        0.000                 1.000   \n",
       "75%         2.500       0.500       4.120        0.000                 1.000   \n",
       "max        14.250       4.000     428.000      115.920                 1.000   \n",
       "std         1.804       0.118       3.897        2.128                 0.218   \n",
       "\n",
       "       TotalAmount  CongestionSurcharge  AirportFee  \n",
       "count  2964624.000          2824462.000 2824462.000  \n",
       "mean        26.802                2.256       0.141  \n",
       "min       -900.000               -2.500      -1.750  \n",
       "25%         15.380                2.500       0.000  \n",
       "50%         20.100                2.500       0.000  \n",
       "75%         28.560                2.500       0.000  \n",
       "max       5000.000                2.500       1.750  \n",
       "std         23.386                0.823       0.488  "
      ]
     },
     "execution_count": 9,
     "metadata": {},
     "output_type": "execute_result"
    }
   ],
   "source": [
    "# pandas\n",
    "pddf.describe()"
   ]
  },
  {
   "cell_type": "code",
   "execution_count": 10,
   "id": "921a66ca",
   "metadata": {},
   "outputs": [],
   "source": [
    "# polars\n"
   ]
  },
  {
   "cell_type": "code",
   "execution_count": 11,
   "id": "a6bfb804",
   "metadata": {},
   "outputs": [
    {
     "name": "stdout",
     "output_type": "stream",
     "text": [
      "<class 'pandas.core.frame.DataFrame'>\n",
      "RangeIndex: 2964624 entries, 0 to 2964623\n",
      "Data columns (total 19 columns):\n",
      " #   Column                Dtype         \n",
      "---  ------                -----         \n",
      " 0   VendorID              int64         \n",
      " 1   TpepPickupDatetime    datetime64[ns]\n",
      " 2   TpepDropoffDatetime   datetime64[ns]\n",
      " 3   PassengerCount        float64       \n",
      " 4   TripDistance          float64       \n",
      " 5   RatecodeID            float64       \n",
      " 6   StoreAndFwdFlag       object        \n",
      " 7   PULocationID          int64         \n",
      " 8   DOLocationID          int64         \n",
      " 9   PaymentType           int64         \n",
      " 10  FareAmount            float64       \n",
      " 11  Extra                 float64       \n",
      " 12  MtaTax                float64       \n",
      " 13  TipAmount             float64       \n",
      " 14  TollsAmount           float64       \n",
      " 15  ImprovementSurcharge  float64       \n",
      " 16  TotalAmount           float64       \n",
      " 17  CongestionSurcharge   float64       \n",
      " 18  AirportFee            float64       \n",
      "dtypes: datetime64[ns](2), float64(12), int64(4), object(1)\n",
      "memory usage: 429.7+ MB\n"
     ]
    }
   ],
   "source": [
    "# pandas\n",
    "pddf.info()"
   ]
  },
  {
   "cell_type": "code",
   "execution_count": 12,
   "id": "7b1b8d4b",
   "metadata": {},
   "outputs": [],
   "source": [
    "# polars\n"
   ]
  },
  {
   "cell_type": "code",
   "execution_count": 13,
   "id": "d94b78e8",
   "metadata": {},
   "outputs": [
    {
     "data": {
      "text/plain": [
       "['VendorID',\n",
       " 'TpepPickupDatetime',\n",
       " 'TpepDropoffDatetime',\n",
       " 'PassengerCount',\n",
       " 'TripDistance',\n",
       " 'RatecodeID',\n",
       " 'StoreAndFwdFlag',\n",
       " 'PULocationID',\n",
       " 'DOLocationID',\n",
       " 'PaymentType',\n",
       " 'FareAmount',\n",
       " 'Extra',\n",
       " 'MtaTax',\n",
       " 'TipAmount',\n",
       " 'TollsAmount',\n",
       " 'ImprovementSurcharge',\n",
       " 'TotalAmount',\n",
       " 'CongestionSurcharge',\n",
       " 'AirportFee']"
      ]
     },
     "execution_count": 13,
     "metadata": {},
     "output_type": "execute_result"
    }
   ],
   "source": [
    "# pandas\n",
    "pddf.columns.tolist()"
   ]
  },
  {
   "cell_type": "code",
   "execution_count": 14,
   "id": "7021cc61",
   "metadata": {},
   "outputs": [],
   "source": [
    "# polars\n"
   ]
  },
  {
   "cell_type": "code",
   "execution_count": 15,
   "id": "93f4cd98",
   "metadata": {},
   "outputs": [
    {
     "data": {
      "text/html": [
       "<div>\n",
       "<style scoped>\n",
       "    .dataframe tbody tr th:only-of-type {\n",
       "        vertical-align: middle;\n",
       "    }\n",
       "\n",
       "    .dataframe tbody tr th {\n",
       "        vertical-align: top;\n",
       "    }\n",
       "\n",
       "    .dataframe thead th {\n",
       "        text-align: right;\n",
       "    }\n",
       "</style>\n",
       "<table border=\"1\" class=\"dataframe\">\n",
       "  <thead>\n",
       "    <tr style=\"text-align: right;\">\n",
       "      <th></th>\n",
       "      <th>VendorID</th>\n",
       "      <th>TpepPickupDatetime</th>\n",
       "      <th>TpepDropoffDatetime</th>\n",
       "      <th>PassengerCount</th>\n",
       "      <th>TripDistance</th>\n",
       "      <th>RatecodeID</th>\n",
       "      <th>StoreAndFwdFlag</th>\n",
       "      <th>PULocationID</th>\n",
       "      <th>DOLocationID</th>\n",
       "      <th>PaymentType</th>\n",
       "      <th>FareAmount</th>\n",
       "      <th>Extra</th>\n",
       "      <th>MtaTax</th>\n",
       "      <th>TipAmount</th>\n",
       "      <th>TollsAmount</th>\n",
       "      <th>ImprovementSurcharge</th>\n",
       "      <th>TotalAmount</th>\n",
       "      <th>CongestionSurcharge</th>\n",
       "      <th>AirportFee</th>\n",
       "    </tr>\n",
       "  </thead>\n",
       "  <tbody>\n",
       "    <tr>\n",
       "      <th>0</th>\n",
       "      <td>2</td>\n",
       "      <td>2024-01-01 00:57:55</td>\n",
       "      <td>2024-01-01 01:17:43</td>\n",
       "      <td>1.000</td>\n",
       "      <td>1.720</td>\n",
       "      <td>1.000</td>\n",
       "      <td>N</td>\n",
       "      <td>186</td>\n",
       "      <td>79</td>\n",
       "      <td>2</td>\n",
       "      <td>17.700</td>\n",
       "      <td>1.000</td>\n",
       "      <td>0.500</td>\n",
       "      <td>0.000</td>\n",
       "      <td>0.000</td>\n",
       "      <td>1.000</td>\n",
       "      <td>22.700</td>\n",
       "      <td>2.500</td>\n",
       "      <td>0.000</td>\n",
       "    </tr>\n",
       "    <tr>\n",
       "      <th>1</th>\n",
       "      <td>1</td>\n",
       "      <td>2024-01-01 00:03:00</td>\n",
       "      <td>2024-01-01 00:09:36</td>\n",
       "      <td>1.000</td>\n",
       "      <td>1.800</td>\n",
       "      <td>1.000</td>\n",
       "      <td>N</td>\n",
       "      <td>140</td>\n",
       "      <td>236</td>\n",
       "      <td>1</td>\n",
       "      <td>10.000</td>\n",
       "      <td>3.500</td>\n",
       "      <td>0.500</td>\n",
       "      <td>3.750</td>\n",
       "      <td>0.000</td>\n",
       "      <td>1.000</td>\n",
       "      <td>18.750</td>\n",
       "      <td>2.500</td>\n",
       "      <td>0.000</td>\n",
       "    </tr>\n",
       "    <tr>\n",
       "      <th>2</th>\n",
       "      <td>1</td>\n",
       "      <td>2024-01-01 00:17:06</td>\n",
       "      <td>2024-01-01 00:35:01</td>\n",
       "      <td>1.000</td>\n",
       "      <td>4.700</td>\n",
       "      <td>1.000</td>\n",
       "      <td>N</td>\n",
       "      <td>236</td>\n",
       "      <td>79</td>\n",
       "      <td>1</td>\n",
       "      <td>23.300</td>\n",
       "      <td>3.500</td>\n",
       "      <td>0.500</td>\n",
       "      <td>3.000</td>\n",
       "      <td>0.000</td>\n",
       "      <td>1.000</td>\n",
       "      <td>31.300</td>\n",
       "      <td>2.500</td>\n",
       "      <td>0.000</td>\n",
       "    </tr>\n",
       "    <tr>\n",
       "      <th>3</th>\n",
       "      <td>1</td>\n",
       "      <td>2024-01-01 00:36:38</td>\n",
       "      <td>2024-01-01 00:44:56</td>\n",
       "      <td>1.000</td>\n",
       "      <td>1.400</td>\n",
       "      <td>1.000</td>\n",
       "      <td>N</td>\n",
       "      <td>79</td>\n",
       "      <td>211</td>\n",
       "      <td>1</td>\n",
       "      <td>10.000</td>\n",
       "      <td>3.500</td>\n",
       "      <td>0.500</td>\n",
       "      <td>2.000</td>\n",
       "      <td>0.000</td>\n",
       "      <td>1.000</td>\n",
       "      <td>17.000</td>\n",
       "      <td>2.500</td>\n",
       "      <td>0.000</td>\n",
       "    </tr>\n",
       "    <tr>\n",
       "      <th>4</th>\n",
       "      <td>1</td>\n",
       "      <td>2024-01-01 00:46:51</td>\n",
       "      <td>2024-01-01 00:52:57</td>\n",
       "      <td>1.000</td>\n",
       "      <td>0.800</td>\n",
       "      <td>1.000</td>\n",
       "      <td>N</td>\n",
       "      <td>211</td>\n",
       "      <td>148</td>\n",
       "      <td>1</td>\n",
       "      <td>7.900</td>\n",
       "      <td>3.500</td>\n",
       "      <td>0.500</td>\n",
       "      <td>3.200</td>\n",
       "      <td>0.000</td>\n",
       "      <td>1.000</td>\n",
       "      <td>16.100</td>\n",
       "      <td>2.500</td>\n",
       "      <td>0.000</td>\n",
       "    </tr>\n",
       "  </tbody>\n",
       "</table>\n",
       "</div>"
      ],
      "text/plain": [
       "   VendorID  TpepPickupDatetime TpepDropoffDatetime  PassengerCount  \\\n",
       "0         2 2024-01-01 00:57:55 2024-01-01 01:17:43           1.000   \n",
       "1         1 2024-01-01 00:03:00 2024-01-01 00:09:36           1.000   \n",
       "2         1 2024-01-01 00:17:06 2024-01-01 00:35:01           1.000   \n",
       "3         1 2024-01-01 00:36:38 2024-01-01 00:44:56           1.000   \n",
       "4         1 2024-01-01 00:46:51 2024-01-01 00:52:57           1.000   \n",
       "\n",
       "   TripDistance  RatecodeID StoreAndFwdFlag  PULocationID  DOLocationID  \\\n",
       "0         1.720       1.000               N           186            79   \n",
       "1         1.800       1.000               N           140           236   \n",
       "2         4.700       1.000               N           236            79   \n",
       "3         1.400       1.000               N            79           211   \n",
       "4         0.800       1.000               N           211           148   \n",
       "\n",
       "   PaymentType  FareAmount  Extra  MtaTax  TipAmount  TollsAmount  \\\n",
       "0            2      17.700  1.000   0.500      0.000        0.000   \n",
       "1            1      10.000  3.500   0.500      3.750        0.000   \n",
       "2            1      23.300  3.500   0.500      3.000        0.000   \n",
       "3            1      10.000  3.500   0.500      2.000        0.000   \n",
       "4            1       7.900  3.500   0.500      3.200        0.000   \n",
       "\n",
       "   ImprovementSurcharge  TotalAmount  CongestionSurcharge  AirportFee  \n",
       "0                 1.000       22.700                2.500       0.000  \n",
       "1                 1.000       18.750                2.500       0.000  \n",
       "2                 1.000       31.300                2.500       0.000  \n",
       "3                 1.000       17.000                2.500       0.000  \n",
       "4                 1.000       16.100                2.500       0.000  "
      ]
     },
     "execution_count": 15,
     "metadata": {},
     "output_type": "execute_result"
    }
   ],
   "source": [
    "# pandas\n",
    "pddf.head()"
   ]
  },
  {
   "cell_type": "code",
   "execution_count": 16,
   "id": "8ffd31ee",
   "metadata": {
    "scrolled": true
   },
   "outputs": [],
   "source": [
    "# polars\n"
   ]
  },
  {
   "cell_type": "code",
   "execution_count": 17,
   "id": "a0ff7df0",
   "metadata": {},
   "outputs": [
    {
     "data": {
      "text/html": [
       "<div>\n",
       "<style scoped>\n",
       "    .dataframe tbody tr th:only-of-type {\n",
       "        vertical-align: middle;\n",
       "    }\n",
       "\n",
       "    .dataframe tbody tr th {\n",
       "        vertical-align: top;\n",
       "    }\n",
       "\n",
       "    .dataframe thead th {\n",
       "        text-align: right;\n",
       "    }\n",
       "</style>\n",
       "<table border=\"1\" class=\"dataframe\">\n",
       "  <thead>\n",
       "    <tr style=\"text-align: right;\">\n",
       "      <th></th>\n",
       "      <th>VendorID</th>\n",
       "      <th>TpepPickupDatetime</th>\n",
       "      <th>TpepDropoffDatetime</th>\n",
       "      <th>PassengerCount</th>\n",
       "      <th>TripDistance</th>\n",
       "      <th>RatecodeID</th>\n",
       "      <th>StoreAndFwdFlag</th>\n",
       "      <th>PULocationID</th>\n",
       "      <th>DOLocationID</th>\n",
       "      <th>PaymentType</th>\n",
       "      <th>FareAmount</th>\n",
       "      <th>Extra</th>\n",
       "      <th>MtaTax</th>\n",
       "      <th>TipAmount</th>\n",
       "      <th>TollsAmount</th>\n",
       "      <th>ImprovementSurcharge</th>\n",
       "      <th>TotalAmount</th>\n",
       "      <th>CongestionSurcharge</th>\n",
       "      <th>AirportFee</th>\n",
       "    </tr>\n",
       "  </thead>\n",
       "  <tbody>\n",
       "    <tr>\n",
       "      <th>1122198</th>\n",
       "      <td>1</td>\n",
       "      <td>2024-01-13 21:03:26</td>\n",
       "      <td>2024-01-13 21:25:25</td>\n",
       "      <td>1.000</td>\n",
       "      <td>3.100</td>\n",
       "      <td>1.000</td>\n",
       "      <td>N</td>\n",
       "      <td>148</td>\n",
       "      <td>68</td>\n",
       "      <td>1</td>\n",
       "      <td>21.200</td>\n",
       "      <td>3.500</td>\n",
       "      <td>0.500</td>\n",
       "      <td>5.200</td>\n",
       "      <td>0.000</td>\n",
       "      <td>1.000</td>\n",
       "      <td>31.400</td>\n",
       "      <td>2.500</td>\n",
       "      <td>0.000</td>\n",
       "    </tr>\n",
       "  </tbody>\n",
       "</table>\n",
       "</div>"
      ],
      "text/plain": [
       "         VendorID  TpepPickupDatetime TpepDropoffDatetime  PassengerCount  \\\n",
       "1122198         1 2024-01-13 21:03:26 2024-01-13 21:25:25           1.000   \n",
       "\n",
       "         TripDistance  RatecodeID StoreAndFwdFlag  PULocationID  DOLocationID  \\\n",
       "1122198         3.100       1.000               N           148            68   \n",
       "\n",
       "         PaymentType  FareAmount  Extra  MtaTax  TipAmount  TollsAmount  \\\n",
       "1122198            1      21.200  3.500   0.500      5.200        0.000   \n",
       "\n",
       "         ImprovementSurcharge  TotalAmount  CongestionSurcharge  AirportFee  \n",
       "1122198                 1.000       31.400                2.500       0.000  "
      ]
     },
     "execution_count": 17,
     "metadata": {},
     "output_type": "execute_result"
    }
   ],
   "source": [
    "# pandas\n",
    "pddf.sample(1)"
   ]
  },
  {
   "cell_type": "code",
   "execution_count": 18,
   "id": "c3c2ec57",
   "metadata": {},
   "outputs": [],
   "source": [
    "# polars\n"
   ]
  },
  {
   "cell_type": "markdown",
   "id": "c417041e",
   "metadata": {},
   "source": [
    "# .with_columns, .select, .filter ..."
   ]
  },
  {
   "cell_type": "code",
   "execution_count": 19,
   "id": "b9cd882e",
   "metadata": {},
   "outputs": [
    {
     "data": {
      "text/plain": [
       "1.3392808966805005"
      ]
     },
     "execution_count": 19,
     "metadata": {},
     "output_type": "execute_result"
    }
   ],
   "source": [
    "# pandas\n",
    "pddf[\"PassengerCount\"].mean()"
   ]
  },
  {
   "cell_type": "code",
   "execution_count": 20,
   "id": "fab13ec5",
   "metadata": {},
   "outputs": [],
   "source": [
    "# polars\n"
   ]
  },
  {
   "cell_type": "markdown",
   "id": "7162b073",
   "metadata": {},
   "source": [
    "### `Came for speed, stayed for the syntax.`\n",
    "\n",
    "Dentro de polars hay una sintaxis específica que se recomienda seguir.\n",
    "\n",
    "Vamos a ver algunas \"peculiaridades de la sintaxis de polars\".\n",
    "\n",
    "* Para seleccionar una columna debemos usar `.select`\n",
    "\n",
    "En polars al `.select` se le conoce como `contexto` y es el **\"entorno\"** donde se van a evaluar `expresiones de polars`.\n",
    "\n",
    "Existen otros contextos dentro de polars. Por ejemplo: `group_by`, `select`, `filter` son todo contextos de polars.\n",
    "\n",
    "Por el otro lado, podemos pensar en `expresiones` como operaciones que queremos que se evaluen y ejecuten dentro de un contexto. Por ejemplo: `sum`, `min`, `max` etc. son todo expresiones que se pueden evaluar dentro de determinados contextos."
   ]
  },
  {
   "cell_type": "code",
   "execution_count": 21,
   "id": "11809d31",
   "metadata": {},
   "outputs": [],
   "source": [
    "# polars"
   ]
  },
  {
   "cell_type": "markdown",
   "id": "71f4facd",
   "metadata": {},
   "source": [
    "* Si queremos crear una nueva columna debemos usar `.with_columns`"
   ]
  },
  {
   "cell_type": "code",
   "execution_count": 22,
   "id": "809ceaed",
   "metadata": {},
   "outputs": [
    {
     "data": {
      "text/plain": [
       "140162"
      ]
     },
     "execution_count": 22,
     "metadata": {},
     "output_type": "execute_result"
    }
   ],
   "source": [
    "# pandas\n",
    "(\n",
    "    pddf\n",
    "    .assign(\n",
    "        IsNullPassengerCount = pddf[\"PassengerCount\"].isnull()\n",
    "    )\n",
    "    [\"IsNullPassengerCount\"]\n",
    "    .sum()\n",
    ")"
   ]
  },
  {
   "cell_type": "code",
   "execution_count": 23,
   "id": "0f939b68",
   "metadata": {},
   "outputs": [],
   "source": [
    "# polars"
   ]
  },
  {
   "cell_type": "markdown",
   "id": "79924cf6",
   "metadata": {},
   "source": [
    "Polars distingue entre `nulls` y `nans`.\n",
    "\n",
    "Los `nulls` son valores `missing` dentro de nuestro dataset.\n",
    "\n",
    "Los `nans` por el otro lado son `not a number`. Por ejemplo: `infinito`."
   ]
  },
  {
   "cell_type": "code",
   "execution_count": 24,
   "id": "650a74c6",
   "metadata": {},
   "outputs": [
    {
     "data": {
      "text/html": [
       "<div>\n",
       "<style scoped>\n",
       "    .dataframe tbody tr th:only-of-type {\n",
       "        vertical-align: middle;\n",
       "    }\n",
       "\n",
       "    .dataframe tbody tr th {\n",
       "        vertical-align: top;\n",
       "    }\n",
       "\n",
       "    .dataframe thead th {\n",
       "        text-align: right;\n",
       "    }\n",
       "</style>\n",
       "<table border=\"1\" class=\"dataframe\">\n",
       "  <thead>\n",
       "    <tr style=\"text-align: right;\">\n",
       "      <th></th>\n",
       "      <th>IsNullPassengerCount</th>\n",
       "      <th>IsNanPassengerCount</th>\n",
       "    </tr>\n",
       "  </thead>\n",
       "  <tbody>\n",
       "    <tr>\n",
       "      <th>0</th>\n",
       "      <td>140162</td>\n",
       "      <td>140162</td>\n",
       "    </tr>\n",
       "  </tbody>\n",
       "</table>\n",
       "</div>"
      ],
      "text/plain": [
       "   IsNullPassengerCount  IsNanPassengerCount\n",
       "0                140162               140162"
      ]
     },
     "execution_count": 24,
     "metadata": {},
     "output_type": "execute_result"
    }
   ],
   "source": [
    "# pandas\n",
    "(\n",
    "    pddf\n",
    "    [[\"PassengerCount\"]]\n",
    "    .assign(\n",
    "        IsNullPassengerCount = pddf[\"PassengerCount\"].isnull(),\n",
    "        IsNanPassengerCount = pddf[\"PassengerCount\"].isna()\n",
    "    )\n",
    "    .drop(columns = \"PassengerCount\")\n",
    "    .sum()\n",
    "    .to_frame()\n",
    "    .T\n",
    ")"
   ]
  },
  {
   "cell_type": "code",
   "execution_count": 25,
   "id": "f462180b",
   "metadata": {},
   "outputs": [],
   "source": [
    "# polars"
   ]
  },
  {
   "cell_type": "code",
   "execution_count": 26,
   "id": "92d2af1e",
   "metadata": {},
   "outputs": [],
   "source": [
    "# polars"
   ]
  },
  {
   "cell_type": "markdown",
   "id": "55e3ec60",
   "metadata": {},
   "source": [
    "* Cuando queremos filtrar un dataframe podemos utilizar el método de `.filter` de polars."
   ]
  },
  {
   "cell_type": "code",
   "execution_count": 27,
   "id": "95a807e6",
   "metadata": {},
   "outputs": [
    {
     "data": {
      "text/html": [
       "<div>\n",
       "<style scoped>\n",
       "    .dataframe tbody tr th:only-of-type {\n",
       "        vertical-align: middle;\n",
       "    }\n",
       "\n",
       "    .dataframe tbody tr th {\n",
       "        vertical-align: top;\n",
       "    }\n",
       "\n",
       "    .dataframe thead th {\n",
       "        text-align: right;\n",
       "    }\n",
       "</style>\n",
       "<table border=\"1\" class=\"dataframe\">\n",
       "  <thead>\n",
       "    <tr style=\"text-align: right;\">\n",
       "      <th></th>\n",
       "      <th>StoreAndFwdFlag</th>\n",
       "      <th>MinFareAmount</th>\n",
       "      <th>MeanFareAmount</th>\n",
       "      <th>MaxFareAmount</th>\n",
       "    </tr>\n",
       "  </thead>\n",
       "  <tbody>\n",
       "    <tr>\n",
       "      <th>0</th>\n",
       "      <td>N</td>\n",
       "      <td>0.000</td>\n",
       "      <td>17.573</td>\n",
       "      <td>5000.000</td>\n",
       "    </tr>\n",
       "    <tr>\n",
       "      <th>1</th>\n",
       "      <td>Y</td>\n",
       "      <td>0.000</td>\n",
       "      <td>17.638</td>\n",
       "      <td>245.900</td>\n",
       "    </tr>\n",
       "  </tbody>\n",
       "</table>\n",
       "</div>"
      ],
      "text/plain": [
       "  StoreAndFwdFlag  MinFareAmount  MeanFareAmount  MaxFareAmount\n",
       "0               N          0.000          17.573       5000.000\n",
       "1               Y          0.000          17.638        245.900"
      ]
     },
     "execution_count": 27,
     "metadata": {},
     "output_type": "execute_result"
    }
   ],
   "source": [
    "# pandas\n",
    "(\n",
    "    pddf[(pddf[\"VendorID\"] == 1) & (~pddf[\"PassengerCount\"].isnull())]\n",
    "    .groupby([\"StoreAndFwdFlag\"])\n",
    "    .agg(\n",
    "        MinFareAmount = (\"FareAmount\", min),\n",
    "        MeanFareAmount = (\"FareAmount\", \"mean\"),\n",
    "        MaxFareAmount = (\"FareAmount\", max)\n",
    "    )\n",
    "    .sort_index()\n",
    "    .reset_index()\n",
    ")"
   ]
  },
  {
   "cell_type": "code",
   "execution_count": 28,
   "id": "231bda51",
   "metadata": {},
   "outputs": [],
   "source": [
    "# polars"
   ]
  },
  {
   "cell_type": "markdown",
   "id": "b7544966",
   "metadata": {},
   "source": [
    "# .group_by "
   ]
  },
  {
   "cell_type": "code",
   "execution_count": 29,
   "id": "1ffa9953",
   "metadata": {},
   "outputs": [
    {
     "data": {
      "text/html": [
       "<div>\n",
       "<style scoped>\n",
       "    .dataframe tbody tr th:only-of-type {\n",
       "        vertical-align: middle;\n",
       "    }\n",
       "\n",
       "    .dataframe tbody tr th {\n",
       "        vertical-align: top;\n",
       "    }\n",
       "\n",
       "    .dataframe thead th {\n",
       "        text-align: right;\n",
       "    }\n",
       "</style>\n",
       "<table border=\"1\" class=\"dataframe\">\n",
       "  <thead>\n",
       "    <tr style=\"text-align: right;\">\n",
       "      <th></th>\n",
       "      <th>TotalTripDistance</th>\n",
       "    </tr>\n",
       "    <tr>\n",
       "      <th>DayOfWeek</th>\n",
       "      <th></th>\n",
       "    </tr>\n",
       "  </thead>\n",
       "  <tbody>\n",
       "    <tr>\n",
       "      <th>1</th>\n",
       "      <td>1409121.140</td>\n",
       "    </tr>\n",
       "    <tr>\n",
       "      <th>2</th>\n",
       "      <td>1420449.070</td>\n",
       "    </tr>\n",
       "    <tr>\n",
       "      <th>3</th>\n",
       "      <td>1527454.120</td>\n",
       "    </tr>\n",
       "    <tr>\n",
       "      <th>4</th>\n",
       "      <td>1306296.010</td>\n",
       "    </tr>\n",
       "    <tr>\n",
       "      <th>5</th>\n",
       "      <td>1236050.240</td>\n",
       "    </tr>\n",
       "    <tr>\n",
       "      <th>6</th>\n",
       "      <td>1170552.520</td>\n",
       "    </tr>\n",
       "    <tr>\n",
       "      <th>7</th>\n",
       "      <td>1121015.710</td>\n",
       "    </tr>\n",
       "  </tbody>\n",
       "</table>\n",
       "</div>"
      ],
      "text/plain": [
       "           TotalTripDistance\n",
       "DayOfWeek                   \n",
       "1                1409121.140\n",
       "2                1420449.070\n",
       "3                1527454.120\n",
       "4                1306296.010\n",
       "5                1236050.240\n",
       "6                1170552.520\n",
       "7                1121015.710"
      ]
     },
     "execution_count": 29,
     "metadata": {},
     "output_type": "execute_result"
    }
   ],
   "source": [
    "# pandas\n",
    "(\n",
    "    pddf[\n",
    "        (\n",
    "            (pddf[\"TpepPickupDatetime\"] >= datetime.datetime(2024, 1, 1)) &\n",
    "            (pddf[\"TpepPickupDatetime\"] <= datetime.datetime(2024, 2, 1))\n",
    "        ) &\n",
    "        (~pddf[\"PassengerCount\"].isnull())\n",
    "    ]\n",
    "    .assign(DayOfWeek = pddf[\"TpepPickupDatetime\"].dt.weekday + 1)\n",
    "    .groupby(\"DayOfWeek\")\n",
    "    .agg(TotalTripDistance = (\"TripDistance\", sum))\n",
    "    .sort_values(by = \"DayOfWeek\", ascending = True)\n",
    ")"
   ]
  },
  {
   "cell_type": "code",
   "execution_count": 30,
   "id": "f93490e8",
   "metadata": {},
   "outputs": [],
   "source": [
    "# polars"
   ]
  },
  {
   "cell_type": "markdown",
   "id": "8f894dfc",
   "metadata": {},
   "source": [
    "# Plots"
   ]
  },
  {
   "cell_type": "markdown",
   "id": "2a4b54a2",
   "metadata": {},
   "source": [
    "Tanto pandas como polars tienen capacidad para realizar gráficos desde la propia librería.\n",
    "\n",
    "Pandas utiliza [Matplotlib](https://matplotlib.org/) mientras que polars utiliza [hvPlot](https://hvplot.holoviz.org/)."
   ]
  },
  {
   "cell_type": "code",
   "execution_count": 31,
   "id": "94b41305",
   "metadata": {},
   "outputs": [
    {
     "data": {
      "text/plain": [
       "<Axes: xlabel='VendorID'>"
      ]
     },
     "execution_count": 31,
     "metadata": {},
     "output_type": "execute_result"
    },
    {
     "data": {
      "image/png": "[encoded data removed]",
      "text/plain": [
       "<Figure size 640x480 with 1 Axes>"
      ]
     },
     "metadata": {},
     "output_type": "display_data"
    }
   ],
   "source": [
    "# pandas\n",
    "(\n",
    "    pddf\n",
    "    .groupby(by = [\"VendorID\"])\n",
    "    .agg(\n",
    "        max_passenger_count = (\"PassengerCount\", max),\n",
    "        min_passenger_count = (\"PassengerCount\", min),\n",
    "        mean_tip_distance = (\"TripDistance\", \"mean\")\n",
    "    )\n",
    "    .reset_index()\n",
    "    .sort_values(\"VendorID\")\n",
    "    [[\"VendorID\", \"mean_tip_distance\"]]\n",
    "    .plot(kind = \"bar\", x = \"VendorID\")\n",
    ")"
   ]
  },
  {
   "cell_type": "code",
   "execution_count": 32,
   "id": "fa253179",
   "metadata": {},
   "outputs": [],
   "source": [
    "# polars"
   ]
  },
  {
   "cell_type": "markdown",
   "id": "e5cb5410",
   "metadata": {},
   "source": [
    "# Lazy Mode"
   ]
  },
  {
   "cell_type": "markdown",
   "id": "95f8b812",
   "metadata": {},
   "source": [
    "Cuando utilizamos cualquier de los métodos de polars que empiezan por `scan_` estamos usando el `Lazy Mode` de polars.\n",
    "\n",
    "Esto implica que: \n",
    "1. No estamos cargando el dataset en memoria.\n",
    "2. El query planner puede hacer algunas optimizaciones de nuestro código."
   ]
  },
  {
   "cell_type": "code",
   "execution_count": 33,
   "id": "8d5488b0",
   "metadata": {},
   "outputs": [],
   "source": [
    "plldf = pl.scan_parquet(source = os.path.join(PATH_INPUT_FOLDER, f\"yellow_*.parquet\"))"
   ]
  },
  {
   "cell_type": "code",
   "execution_count": 34,
   "id": "37160c4c",
   "metadata": {},
   "outputs": [
    {
     "data": {
      "text/html": [
       "<h4>NAIVE QUERY PLAN</h4><p>run <b>LazyFrame.show_graph()</b> to see the optimized version</p><?xml version=\"1.0\" encoding=\"UTF-8\" standalone=\"no\"?>\n",
       "<!DOCTYPE svg PUBLIC \"-//W3C//DTD SVG 1.1//EN\"\n",
       " \"http://www.w3.org/Graphics/SVG/1.1/DTD/svg11.dtd\">\n",
       "<!-- Generated by graphviz version 10.0.1 (20240210.2158)\n",
       " -->\n",
       "<!-- Title: polars_query Pages: 1 -->\n",
       "<svg width=\"779pt\" height=\"66pt\"\n",
       " viewBox=\"0.00 0.00 778.50 65.50\" xmlns=\"http://www.w3.org/2000/svg\" xmlns:xlink=\"http://www.w3.org/1999/xlink\">\n",
       "<g id=\"graph0\" class=\"graph\" transform=\"scale(1 1) rotate(0) translate(4 61.5)\">\n",
       "<title>polars_query</title>\n",
       "<polygon fill=\"white\" stroke=\"none\" points=\"-4,4 -4,-61.5 774.5,-61.5 774.5,4 -4,4\"/>\n",
       "<!-- [Parquet SCAN 38 files: first file: /Users/nicolaepopescul/Desktop/code/streams/20240512_polars/input/yellow_tripdata_2021&#45;01.parquet;\n",
       "π */?;\n",
       "σ &#45;] -->\n",
       "<g id=\"node1\" class=\"node\">\n",
       "<title>[Parquet SCAN 38 files: first file: /Users/nicolaepopescul/Desktop/code/streams/20240512_polars/input/yellow_tripdata_2021&#45;01.parquet;\n",
       "π */?;\n",
       "σ &#45;]</title>\n",
       "<polygon fill=\"none\" stroke=\"black\" points=\"770.5,-57.5 0,-57.5 0,0 770.5,0 770.5,-57.5\"/>\n",
       "<text text-anchor=\"middle\" x=\"385.25\" y=\"-40.2\" font-family=\"Times,serif\" font-size=\"14.00\">[Parquet SCAN 38 files: first file: /Users/nicolaepopescul/Desktop/code/streams/20240512_polars/input/yellow_tripdata_2021&#45;01.parquet;</text>\n",
       "<text text-anchor=\"middle\" x=\"385.25\" y=\"-23.7\" font-family=\"Times,serif\" font-size=\"14.00\">π */?;</text>\n",
       "<text text-anchor=\"middle\" x=\"385.25\" y=\"-7.2\" font-family=\"Times,serif\" font-size=\"14.00\">σ &#45;]</text>\n",
       "</g>\n",
       "</g>\n",
       "</svg>\n"
      ],
      "text/plain": [
       "<LazyFrame at 0x16E246740>"
      ]
     },
     "execution_count": 34,
     "metadata": {},
     "output_type": "execute_result"
    }
   ],
   "source": [
    "plldf"
   ]
  },
  {
   "cell_type": "code",
   "execution_count": 35,
   "id": "9b79e2a6",
   "metadata": {},
   "outputs": [],
   "source": [
    "p = (\n",
    "    plldf\n",
    "    .filter(\n",
    "        (pl.col(\"TpepPickupDatetime\").is_between(\n",
    "            lower_bound = datetime.datetime(2024, 1, 1),\n",
    "            upper_bound = datetime.datetime(2024, 2, 1)\n",
    "        )) &\n",
    "        (~pl.col(\"PassengerCount\").is_null())\n",
    "    )\n",
    "    .with_columns(\n",
    "        DayOfWeek = pl.col(\"TpepPickupDatetime\").dt.weekday(),\n",
    "        FlagPassengerCount = pl.col(\"PassengerCount\") >= 3\n",
    "    )\n",
    "    .select(pl.col([\"TpepPickupDatetime\", \"DayOfWeek\", \"FlagPassengerCount\"]))\n",
    ")"
   ]
  },
  {
   "cell_type": "code",
   "execution_count": 36,
   "id": "cfc5b32a",
   "metadata": {},
   "outputs": [
    {
     "data": {
      "text/html": [
       "<h4>NAIVE QUERY PLAN</h4><p>run <b>LazyFrame.show_graph()</b> to see the optimized version</p><?xml version=\"1.0\" encoding=\"UTF-8\" standalone=\"no\"?>\n",
       "<!DOCTYPE svg PUBLIC \"-//W3C//DTD SVG 1.1//EN\"\n",
       " \"http://www.w3.org/Graphics/SVG/1.1/DTD/svg11.dtd\">\n",
       "<!-- Generated by graphviz version 10.0.1 (20240210.2158)\n",
       " -->\n",
       "<!-- Title: polars_query Pages: 1 -->\n",
       "<svg width=\"774pt\" height=\"282pt\"\n",
       " viewBox=\"0.00 0.00 774.00 281.50\" xmlns=\"http://www.w3.org/2000/svg\" xmlns:xlink=\"http://www.w3.org/1999/xlink\">\n",
       "<g id=\"graph0\" class=\"graph\" transform=\"scale(1 1) rotate(0) translate(4 277.5)\">\n",
       "<title>polars_query</title>\n",
       "<polygon fill=\"white\" stroke=\"none\" points=\"-4,4 -4,-277.5 770,-277.5 770,4 -4,4\"/>\n",
       "<!-- π 1/21 [(0, 0)] -->\n",
       "<g id=\"node1\" class=\"node\">\n",
       "<title>π 1/21 [(0, 0)]</title>\n",
       "<polygon fill=\"none\" stroke=\"black\" points=\"410,-273.5 356,-273.5 356,-237.5 410,-237.5 410,-273.5\"/>\n",
       "<text text-anchor=\"middle\" x=\"383\" y=\"-250.45\" font-family=\"Times,serif\" font-size=\"14.00\">π 1/21</text>\n",
       "</g>\n",
       "<!-- WITH COLUMNS [&quot;DayOfWeek&quot;,&quot;FlagPassengerCount&quot;] [(0, 1)] -->\n",
       "<g id=\"node2\" class=\"node\">\n",
       "<title>WITH COLUMNS [&quot;DayOfWeek&quot;,&quot;FlagPassengerCount&quot;] [(0, 1)]</title>\n",
       "<polygon fill=\"none\" stroke=\"black\" points=\"554.12,-201.5 211.88,-201.5 211.88,-165.5 554.12,-165.5 554.12,-201.5\"/>\n",
       "<text text-anchor=\"middle\" x=\"383\" y=\"-178.45\" font-family=\"Times,serif\" font-size=\"14.00\">WITH COLUMNS [&quot;DayOfWeek&quot;,&quot;FlagPassengerCount&quot;]</text>\n",
       "</g>\n",
       "<!-- π 1/21 [(0, 0)]&#45;&#45;WITH COLUMNS [&quot;DayOfWeek&quot;,&quot;FlagPassengerCount&quot;] [(0, 1)] -->\n",
       "<g id=\"edge1\" class=\"edge\">\n",
       "<title>π 1/21 [(0, 0)]&#45;&#45;WITH COLUMNS [&quot;DayOfWeek&quot;,&quot;FlagPassengerCount&quot;] [(0, 1)]</title>\n",
       "<path fill=\"none\" stroke=\"black\" d=\"M383,-237.2C383,-226.35 383,-212.42 383,-201.6\"/>\n",
       "</g>\n",
       "<!-- FILTER BY (col(&quot;TpepPickupDatetime&quot;... [(0, 2)] -->\n",
       "<g id=\"node3\" class=\"node\">\n",
       "<title>FILTER BY (col(&quot;TpepPickupDatetime&quot;... [(0, 2)]</title>\n",
       "<polygon fill=\"none\" stroke=\"black\" points=\"508.75,-129.5 257.25,-129.5 257.25,-93.5 508.75,-93.5 508.75,-129.5\"/>\n",
       "<text text-anchor=\"middle\" x=\"383\" y=\"-106.45\" font-family=\"Times,serif\" font-size=\"14.00\">FILTER BY (col(&quot;TpepPickupDatetime&quot;...</text>\n",
       "</g>\n",
       "<!-- WITH COLUMNS [&quot;DayOfWeek&quot;,&quot;FlagPassengerCount&quot;] [(0, 1)]&#45;&#45;FILTER BY (col(&quot;TpepPickupDatetime&quot;... [(0, 2)] -->\n",
       "<g id=\"edge2\" class=\"edge\">\n",
       "<title>WITH COLUMNS [&quot;DayOfWeek&quot;,&quot;FlagPassengerCount&quot;] [(0, 1)]&#45;&#45;FILTER BY (col(&quot;TpepPickupDatetime&quot;... [(0, 2)]</title>\n",
       "<path fill=\"none\" stroke=\"black\" d=\"M383,-165.2C383,-154.35 383,-140.42 383,-129.6\"/>\n",
       "</g>\n",
       "<!-- Parquet SCAN 38 files: first file: /Users/nicolaepopescul/Desktop/code/streams/20240512_polars/input/yellow_tripdata_2021&#45;01.parquet;\n",
       "π */?;\n",
       "σ &#45; [(0, 3)] -->\n",
       "<g id=\"node4\" class=\"node\">\n",
       "<title>Parquet SCAN 38 files: first file: /Users/nicolaepopescul/Desktop/code/streams/20240512_polars/input/yellow_tripdata_2021&#45;01.parquet;\n",
       "π */?;\n",
       "σ &#45; [(0, 3)]</title>\n",
       "<polygon fill=\"none\" stroke=\"black\" points=\"766,-57.5 0,-57.5 0,0 766,0 766,-57.5\"/>\n",
       "<text text-anchor=\"middle\" x=\"383\" y=\"-40.2\" font-family=\"Times,serif\" font-size=\"14.00\">Parquet SCAN 38 files: first file: /Users/nicolaepopescul/Desktop/code/streams/20240512_polars/input/yellow_tripdata_2021&#45;01.parquet;</text>\n",
       "<text text-anchor=\"middle\" x=\"383\" y=\"-23.7\" font-family=\"Times,serif\" font-size=\"14.00\">π */?;</text>\n",
       "<text text-anchor=\"middle\" x=\"383\" y=\"-7.2\" font-family=\"Times,serif\" font-size=\"14.00\">σ &#45;</text>\n",
       "</g>\n",
       "<!-- FILTER BY (col(&quot;TpepPickupDatetime&quot;... [(0, 2)]&#45;&#45;Parquet SCAN 38 files: first file: /Users/nicolaepopescul/Desktop/code/streams/20240512_polars/input/yellow_tripdata_2021&#45;01.parquet;\n",
       "π */?;\n",
       "σ &#45; [(0, 3)] -->\n",
       "<g id=\"edge3\" class=\"edge\">\n",
       "<title>FILTER BY (col(&quot;TpepPickupDatetime&quot;... [(0, 2)]&#45;&#45;Parquet SCAN 38 files: first file: /Users/nicolaepopescul/Desktop/code/streams/20240512_polars/input/yellow_tripdata_2021&#45;01.parquet;\n",
       "π */?;\n",
       "σ &#45; [(0, 3)]</title>\n",
       "<path fill=\"none\" stroke=\"black\" d=\"M383,-93.38C383,-83.1 383,-69.77 383,-57.97\"/>\n",
       "</g>\n",
       "</g>\n",
       "</svg>\n"
      ],
      "text/plain": [
       "<LazyFrame at 0x16E247010>"
      ]
     },
     "execution_count": 36,
     "metadata": {},
     "output_type": "execute_result"
    }
   ],
   "source": [
    "p"
   ]
  },
  {
   "cell_type": "code",
   "execution_count": 37,
   "id": "a832affc",
   "metadata": {},
   "outputs": [
    {
     "data": {
      "image/svg+xml": [
       "<svg xmlns=\"http://www.w3.org/2000/svg\" xmlns:xlink=\"http://www.w3.org/1999/xlink\" width=\"774pt\" height=\"210pt\" viewBox=\"0.00 0.00 774.00 209.50\">\n",
       "<g id=\"graph0\" class=\"graph\" transform=\"scale(1 1) rotate(0) translate(4 205.5)\">\n",
       "<title>polars_query</title>\n",
       "<polygon fill=\"white\" stroke=\"none\" points=\"-4,4 -4,-205.5 770,-205.5 770,4 -4,4\"/>\n",
       "<!-- π 3/21 [(0, 0)] -->\n",
       "<g id=\"node1\" class=\"node\">\n",
       "<title>π 3/21 [(0, 0)]</title>\n",
       "<polygon fill=\"none\" stroke=\"black\" points=\"410,-201.5 356,-201.5 356,-165.5 410,-165.5 410,-201.5\"/>\n",
       "<text text-anchor=\"middle\" x=\"383\" y=\"-178.45\" font-family=\"Times,serif\" font-size=\"14.00\">π 3/21</text>\n",
       "</g>\n",
       "<!-- WITH COLUMNS [&quot;DayOfWeek&quot;,&quot;FlagPassengerCount&quot;] [(0, 1)] -->\n",
       "<g id=\"node2\" class=\"node\">\n",
       "<title>WITH COLUMNS [&quot;DayOfWeek&quot;,&quot;FlagPassengerCount&quot;] [(0, 1)]</title>\n",
       "<polygon fill=\"none\" stroke=\"black\" points=\"554.12,-129.5 211.88,-129.5 211.88,-93.5 554.12,-93.5 554.12,-129.5\"/>\n",
       "<text text-anchor=\"middle\" x=\"383\" y=\"-106.45\" font-family=\"Times,serif\" font-size=\"14.00\">WITH COLUMNS [&quot;DayOfWeek&quot;,&quot;FlagPassengerCount&quot;]</text>\n",
       "</g>\n",
       "<!-- π 3/21 [(0, 0)]&#45;&#45;WITH COLUMNS [&quot;DayOfWeek&quot;,&quot;FlagPassengerCount&quot;] [(0, 1)] -->\n",
       "<g id=\"edge1\" class=\"edge\">\n",
       "<title>π 3/21 [(0, 0)]--WITH COLUMNS [&quot;DayOfWeek&quot;,&quot;FlagPassengerCount&quot;] [(0, 1)]</title>\n",
       "<path fill=\"none\" stroke=\"black\" d=\"M383,-165.2C383,-154.35 383,-140.42 383,-129.6\"/>\n",
       "</g>\n",
       "<!-- Parquet SCAN 38 files: first file: /Users/nicolaepopescul/Desktop/code/streams/20240512_polars/input/yellow_tripdata_2021&#45;01.parquet;\n",
       "π 2/19;\n",
       "σ (col(&quot;TpepPickupDatetime&quot;... [(0, 2)] -->\n",
       "<g id=\"node3\" class=\"node\">\n",
       "<title>Parquet SCAN 38 files: first file: /Users/nicolaepopescul/Desktop/code/streams/20240512_polars/input/yellow_tripdata_2021-01.parquet;\n",
       "π 2/19;\n",
       "σ (col(&quot;TpepPickupDatetime&quot;... [(0, 2)]</title>\n",
       "<polygon fill=\"none\" stroke=\"black\" points=\"766,-57.5 0,-57.5 0,0 766,0 766,-57.5\"/>\n",
       "<text text-anchor=\"middle\" x=\"383\" y=\"-40.2\" font-family=\"Times,serif\" font-size=\"14.00\">Parquet SCAN 38 files: first file: /Users/nicolaepopescul/Desktop/code/streams/20240512_polars/input/yellow_tripdata_2021-01.parquet;</text>\n",
       "<text text-anchor=\"middle\" x=\"383\" y=\"-23.7\" font-family=\"Times,serif\" font-size=\"14.00\">π 2/19;</text>\n",
       "<text text-anchor=\"middle\" x=\"383\" y=\"-7.2\" font-family=\"Times,serif\" font-size=\"14.00\">σ (col(&quot;TpepPickupDatetime&quot;...</text>\n",
       "</g>\n",
       "<!-- WITH COLUMNS [&quot;DayOfWeek&quot;,&quot;FlagPassengerCount&quot;] [(0, 1)]&#45;&#45;Parquet SCAN 38 files: first file: /Users/nicolaepopescul/Desktop/code/streams/20240512_polars/input/yellow_tripdata_2021&#45;01.parquet;\n",
       "π 2/19;\n",
       "σ (col(&quot;TpepPickupDatetime&quot;... [(0, 2)] -->\n",
       "<g id=\"edge2\" class=\"edge\">\n",
       "<title>WITH COLUMNS [&quot;DayOfWeek&quot;,&quot;FlagPassengerCount&quot;] [(0, 1)]--Parquet SCAN 38 files: first file: /Users/nicolaepopescul/Desktop/code/streams/20240512_polars/input/yellow_tripdata_2021-01.parquet;\n",
       "π 2/19;\n",
       "σ (col(&quot;TpepPickupDatetime&quot;... [(0, 2)]</title>\n",
       "<path fill=\"none\" stroke=\"black\" d=\"M383,-93.38C383,-83.1 383,-69.77 383,-57.97\"/>\n",
       "</g>\n",
       "</g>\n",
       "</svg>"
      ],
      "text/plain": [
       "<IPython.core.display.SVG object>"
      ]
     },
     "metadata": {},
     "output_type": "display_data"
    }
   ],
   "source": [
    "p.show_graph(optimized=True)"
   ]
  },
  {
   "cell_type": "code",
   "execution_count": 38,
   "id": "63273214",
   "metadata": {},
   "outputs": [
    {
     "data": {
      "text/html": [
       "<div><style>\n",
       ".dataframe > thead > tr,\n",
       ".dataframe > tbody > tr {\n",
       "  text-align: right;\n",
       "  white-space: pre-wrap;\n",
       "}\n",
       "</style>\n",
       "<small>shape: (5, 1)</small><table border=\"1\" class=\"dataframe\"><thead><tr><th>nulls</th></tr><tr><td>u32</td></tr></thead><tbody><tr><td>4482126</td></tr><tr><td>4482126</td></tr><tr><td>4482126</td></tr><tr><td>4482126</td></tr><tr><td>8644849</td></tr></tbody></table></div>"
      ],
      "text/plain": [
       "shape: (5, 1)\n",
       "┌─────────┐\n",
       "│ nulls   │\n",
       "│ ---     │\n",
       "│ u32     │\n",
       "╞═════════╡\n",
       "│ 4482126 │\n",
       "│ 4482126 │\n",
       "│ 4482126 │\n",
       "│ 4482126 │\n",
       "│ 8644849 │\n",
       "└─────────┘"
      ]
     },
     "execution_count": 38,
     "metadata": {},
     "output_type": "execute_result"
    }
   ],
   "source": [
    "(\n",
    "    plldf\n",
    "    .select(pl.all().is_null())\n",
    "    .sum()\n",
    "    .collect()\n",
    "    .transpose()\n",
    "    .rename({\"column_0\":\"nulls\"})\n",
    "    .filter(pl.col(\"nulls\") > 0)\n",
    ")"
   ]
  },
  {
   "cell_type": "code",
   "execution_count": 39,
   "id": "082a60e6",
   "metadata": {},
   "outputs": [
    {
     "data": {
      "text/plain": [
       "(114842782, 19)"
      ]
     },
     "execution_count": 39,
     "metadata": {},
     "output_type": "execute_result"
    }
   ],
   "source": [
    "(\n",
    "    plldf.collect().shape\n",
    ")"
   ]
  },
  {
   "cell_type": "code",
   "execution_count": 40,
   "id": "ac1991bc",
   "metadata": {},
   "outputs": [
    {
     "data": {
      "text/plain": [
       "15.509882331825793"
      ]
     },
     "execution_count": 40,
     "metadata": {},
     "output_type": "execute_result"
    }
   ],
   "source": [
    "(\n",
    "    plldf.collect().estimated_size(\"gb\")\n",
    ")"
   ]
  },
  {
   "cell_type": "code",
   "execution_count": 41,
   "id": "0cf11359",
   "metadata": {},
   "outputs": [
    {
     "data": {
      "text/html": [
       "<div><style>\n",
       ".dataframe > thead > tr,\n",
       ".dataframe > tbody > tr {\n",
       "  text-align: right;\n",
       "  white-space: pre-wrap;\n",
       "}\n",
       "</style>\n",
       "<small>shape: (5, 19)</small><table border=\"1\" class=\"dataframe\"><thead><tr><th>VendorID</th><th>TpepPickupDatetime</th><th>TpepDropoffDatetime</th><th>PassengerCount</th><th>TripDistance</th><th>RatecodeID</th><th>StoreAndFwdFlag</th><th>PULocationID</th><th>DOLocationID</th><th>PaymentType</th><th>FareAmount</th><th>Extra</th><th>MtaTax</th><th>TipAmount</th><th>TollsAmount</th><th>ImprovementSurcharge</th><th>TotalAmount</th><th>CongestionSurcharge</th><th>AirportFee</th></tr><tr><td>i64</td><td>datetime[ns]</td><td>datetime[ns]</td><td>f64</td><td>f64</td><td>f64</td><td>str</td><td>i64</td><td>i64</td><td>i64</td><td>f64</td><td>f64</td><td>f64</td><td>f64</td><td>f64</td><td>f64</td><td>f64</td><td>f64</td><td>f64</td></tr></thead><tbody><tr><td>1</td><td>2021-01-01 00:30:10</td><td>2021-01-01 00:36:12</td><td>1.000</td><td>2.100</td><td>1.000</td><td>&quot;N&quot;</td><td>142</td><td>43</td><td>2</td><td>8.000</td><td>3.000</td><td>0.500</td><td>0.000</td><td>0.000</td><td>0.300</td><td>11.800</td><td>2.500</td><td>null</td></tr><tr><td>1</td><td>2021-01-01 00:51:20</td><td>2021-01-01 00:52:19</td><td>1.000</td><td>0.200</td><td>1.000</td><td>&quot;N&quot;</td><td>238</td><td>151</td><td>2</td><td>3.000</td><td>0.500</td><td>0.500</td><td>0.000</td><td>0.000</td><td>0.300</td><td>4.300</td><td>0.000</td><td>null</td></tr><tr><td>1</td><td>2021-01-01 00:43:30</td><td>2021-01-01 01:11:06</td><td>1.000</td><td>14.700</td><td>1.000</td><td>&quot;N&quot;</td><td>132</td><td>165</td><td>1</td><td>42.000</td><td>0.500</td><td>0.500</td><td>8.650</td><td>0.000</td><td>0.300</td><td>51.950</td><td>0.000</td><td>null</td></tr><tr><td>1</td><td>2021-01-01 00:15:48</td><td>2021-01-01 00:31:01</td><td>0.000</td><td>10.600</td><td>1.000</td><td>&quot;N&quot;</td><td>138</td><td>132</td><td>1</td><td>29.000</td><td>0.500</td><td>0.500</td><td>6.050</td><td>0.000</td><td>0.300</td><td>36.350</td><td>0.000</td><td>null</td></tr><tr><td>2</td><td>2021-01-01 00:31:49</td><td>2021-01-01 00:48:21</td><td>1.000</td><td>4.940</td><td>1.000</td><td>&quot;N&quot;</td><td>68</td><td>33</td><td>1</td><td>16.500</td><td>0.500</td><td>0.500</td><td>4.060</td><td>0.000</td><td>0.300</td><td>24.360</td><td>2.500</td><td>null</td></tr></tbody></table></div>"
      ],
      "text/plain": [
       "shape: (5, 19)\n",
       "┌──────────┬───────────┬───────────┬───────────┬───┬───────────┬───────────┬───────────┬───────────┐\n",
       "│ VendorID ┆ TpepPicku ┆ TpepDropo ┆ Passenger ┆ … ┆ Improveme ┆ TotalAmou ┆ Congestio ┆ AirportFe │\n",
       "│ ---      ┆ pDatetime ┆ ffDatetim ┆ Count     ┆   ┆ ntSurchar ┆ nt        ┆ nSurcharg ┆ e         │\n",
       "│ i64      ┆ ---       ┆ e         ┆ ---       ┆   ┆ ge        ┆ ---       ┆ e         ┆ ---       │\n",
       "│          ┆ datetime[ ┆ ---       ┆ f64       ┆   ┆ ---       ┆ f64       ┆ ---       ┆ f64       │\n",
       "│          ┆ ns]       ┆ datetime[ ┆           ┆   ┆ f64       ┆           ┆ f64       ┆           │\n",
       "│          ┆           ┆ ns]       ┆           ┆   ┆           ┆           ┆           ┆           │\n",
       "╞══════════╪═══════════╪═══════════╪═══════════╪═══╪═══════════╪═══════════╪═══════════╪═══════════╡\n",
       "│ 1        ┆ 2021-01-0 ┆ 2021-01-0 ┆ 1.000     ┆ … ┆ 0.300     ┆ 11.800    ┆ 2.500     ┆ null      │\n",
       "│          ┆ 1         ┆ 1         ┆           ┆   ┆           ┆           ┆           ┆           │\n",
       "│          ┆ 00:30:10  ┆ 00:36:12  ┆           ┆   ┆           ┆           ┆           ┆           │\n",
       "│ 1        ┆ 2021-01-0 ┆ 2021-01-0 ┆ 1.000     ┆ … ┆ 0.300     ┆ 4.300     ┆ 0.000     ┆ null      │\n",
       "│          ┆ 1         ┆ 1         ┆           ┆   ┆           ┆           ┆           ┆           │\n",
       "│          ┆ 00:51:20  ┆ 00:52:19  ┆           ┆   ┆           ┆           ┆           ┆           │\n",
       "│ 1        ┆ 2021-01-0 ┆ 2021-01-0 ┆ 1.000     ┆ … ┆ 0.300     ┆ 51.950    ┆ 0.000     ┆ null      │\n",
       "│          ┆ 1         ┆ 1         ┆           ┆   ┆           ┆           ┆           ┆           │\n",
       "│          ┆ 00:43:30  ┆ 01:11:06  ┆           ┆   ┆           ┆           ┆           ┆           │\n",
       "│ 1        ┆ 2021-01-0 ┆ 2021-01-0 ┆ 0.000     ┆ … ┆ 0.300     ┆ 36.350    ┆ 0.000     ┆ null      │\n",
       "│          ┆ 1         ┆ 1         ┆           ┆   ┆           ┆           ┆           ┆           │\n",
       "│          ┆ 00:15:48  ┆ 00:31:01  ┆           ┆   ┆           ┆           ┆           ┆           │\n",
       "│ 2        ┆ 2021-01-0 ┆ 2021-01-0 ┆ 1.000     ┆ … ┆ 0.300     ┆ 24.360    ┆ 2.500     ┆ null      │\n",
       "│          ┆ 1         ┆ 1         ┆           ┆   ┆           ┆           ┆           ┆           │\n",
       "│          ┆ 00:31:49  ┆ 00:48:21  ┆           ┆   ┆           ┆           ┆           ┆           │\n",
       "└──────────┴───────────┴───────────┴───────────┴───┴───────────┴───────────┴───────────┴───────────┘"
      ]
     },
     "execution_count": 41,
     "metadata": {},
     "output_type": "execute_result"
    }
   ],
   "source": [
    "plldf.head().collect()"
   ]
  },
  {
   "cell_type": "code",
   "execution_count": null,
   "id": "19d714ab",
   "metadata": {},
   "outputs": [],
   "source": []
  },
  {
   "cell_type": "code",
   "execution_count": 42,
   "id": "9b5ed502",
   "metadata": {},
   "outputs": [],
   "source": [
    "# %%timeit"
   ]
  },
  {
   "cell_type": "markdown",
   "id": "db56b538",
   "metadata": {},
   "source": [
    "# Conclusión"
   ]
  },
  {
   "cell_type": "markdown",
   "id": "dd49dca9",
   "metadata": {},
   "source": [
    "Tras este breve workshop, podemos extrar algunas conclusiones:\n",
    "1. Tanto pandas como polars son excelentes librerás para hacer análisis de datos.\n",
    "2. Pandas es una excelente opción siempre y cuando tenemos datasets pequeños y que caben en memoria.\n",
    "3. Pandas también es una librería mucho más madura que polars y que tiene mucha documentación y ejemplos.\n",
    "4. Polars es una de las mejores opciones cuando tenemos que trabajar con dataset grandes que no caben en memoria y no podemos utilizar tecnologías Big Data.\n",
    "5. Polars está en fase activa de desarrollo.\n",
    "\n",
    "Recomendación personal: si vas a empezar un nuevo proyecto utiliza polars (aprender la librería etc).\n",
    "\n",
    "No hagan \"grandes migraciones de código\" porque es muy costoso a nivel de tiempo.\n",
    "\n",
    "Si caso de echar en falta algo de pandas, siempre pueden utilizar `.to_pandas()`"
   ]
  }
 ],
 "metadata": {
  "kernelspec": {
   "display_name": "env_main",
   "language": "python",
   "name": "env_main"
  },
  "language_info": {
   "codemirror_mode": {
    "name": "ipython",
    "version": 3
   },
   "file_extension": ".py",
   "mimetype": "text/x-python",
   "name": "python",
   "nbconvert_exporter": "python",
   "pygments_lexer": "ipython3",
   "version": "3.10.14"
  }
 },
 "nbformat": 4,
 "nbformat_minor": 5
}
