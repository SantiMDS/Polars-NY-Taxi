{
 "cells": [
  {
   "cell_type": "code",
   "execution_count": null,
   "id": "f78dd34d",
   "metadata": {},
   "outputs": [],
   "source": [
    "import os\n",
    "\n",
    "import pandas as pd\n",
    "import polars as pl"
   ]
  },
  {
   "cell_type": "code",
   "execution_count": null,
   "id": "7083357c",
   "metadata": {},
   "outputs": [],
   "source": [
    "CWD = os.getcwd()\n",
    "PATH_INPUT_FOLDER = os.path.join(CWD, \"input\")"
   ]
  },
  {
   "cell_type": "code",
   "execution_count": null,
   "id": "91c63e53",
   "metadata": {},
   "outputs": [],
   "source": [
    "fs = sorted([os.path.join(PATH_INPUT_FOLDER, f) for f in os.listdir(PATH_INPUT_FOLDER)])"
   ]
  },
  {
   "cell_type": "code",
   "execution_count": null,
   "id": "2dc86731",
   "metadata": {},
   "outputs": [],
   "source": [
    "df = pd.concat([pd.read_parquet(path = path) for path in fs[:5]])"
   ]
  },
  {
   "cell_type": "code",
   "execution_count": null,
   "id": "bcbd0a8b",
   "metadata": {},
   "outputs": [],
   "source": [
    "114_842_782"
   ]
  },
  {
   "cell_type": "code",
   "execution_count": null,
   "id": "dbc02148",
   "metadata": {},
   "outputs": [],
   "source": [
    "df.shape"
   ]
  },
  {
   "cell_type": "code",
   "execution_count": null,
   "id": "a0cc52bf",
   "metadata": {},
   "outputs": [],
   "source": [
    "df.info()"
   ]
  },
  {
   "cell_type": "code",
   "execution_count": null,
   "id": "9af857de",
   "metadata": {},
   "outputs": [],
   "source": [
    "df.head()"
   ]
  },
  {
   "cell_type": "code",
   "execution_count": null,
   "id": "31e2b531",
   "metadata": {},
   "outputs": [],
   "source": [
    "df.head()[\"TpepPickupDatetime\"].dt.day"
   ]
  },
  {
   "cell_type": "code",
   "execution_count": null,
   "id": "2e93160e",
   "metadata": {},
   "outputs": [],
   "source": [
    "# %%timeit\n",
    "\n",
    "# (\n",
    "#     df\n",
    "#     [[\"TpepPickupDatetime\", \"TripDistance\", \"TotalAmount\", \"PaymentType\"]]\n",
    "#     .assign(\n",
    "#         DateOfWeek = df[\"TpepPickupDatetime\"].dt.day\n",
    "#     )\n",
    "#     .set_index(\"TpepPickupDatetime\")\n",
    "#     .groupby([\"PaymentType\"])\n",
    "#     .resample(\"D\")\n",
    "#     [\"TripDistance\"]\n",
    "#     .mean()\n",
    "# )\n",
    "\n",
    "# ### 4.16 s ± 50.4 ms per loop (mean ± std. dev. of 7 runs, 1 loop each)\n"
   ]
  },
  {
   "cell_type": "code",
   "execution_count": null,
   "id": "a11a0fcd",
   "metadata": {},
   "outputs": [],
   "source": [
    "4.16 * 12.666666666666666"
   ]
  },
  {
   "cell_type": "code",
   "execution_count": null,
   "id": "835dee41",
   "metadata": {},
   "outputs": [],
   "source": [
    "114/9"
   ]
  },
  {
   "cell_type": "code",
   "execution_count": null,
   "id": "835ec889",
   "metadata": {},
   "outputs": [],
   "source": [
    "(\n",
    "    df\n",
    "    [[\"TpepPickupDatetime\", \"TripDistance\", \"TotalAmount\", \"PaymentType\"]]\n",
    "    .assign(\n",
    "        DateOfWeek = df[\"TpepPickupDatetime\"].dt.day\n",
    "    )\n",
    "    .set_index(\"TpepPickupDatetime\")\n",
    "    .groupby([\"PaymentType\"])\n",
    "    .resample(\"D\")\n",
    "    [\"TripDistance\"]\n",
    "    .mean()\n",
    ")"
   ]
  },
  {
   "cell_type": "code",
   "execution_count": null,
   "id": "48a37523",
   "metadata": {},
   "outputs": [],
   "source": [
    "os.path.join(PATH_INPUT_FOLDER, f\"yellow*.parquet\")"
   ]
  },
  {
   "cell_type": "code",
   "execution_count": null,
   "id": "ddd25b98",
   "metadata": {},
   "outputs": [],
   "source": [
    "pldf = pl.scan_parquet(source = os.path.join(PATH_INPUT_FOLDER, f\"yellow*.parquet\"))"
   ]
  },
  {
   "cell_type": "code",
   "execution_count": null,
   "id": "6294f37e",
   "metadata": {},
   "outputs": [],
   "source": [
    "# pandas: 9_344_926   --> 4.16 s --> Todo en Memoria\n",
    "# polars: 114_842_782 --> 7.99 s --> Leyendo del disco -> procesando en dataset"
   ]
  },
  {
   "cell_type": "code",
   "execution_count": null,
   "id": "2acb70bd",
   "metadata": {},
   "outputs": [],
   "source": [
    "pldf.head().collect()"
   ]
  },
  {
   "cell_type": "code",
   "execution_count": null,
   "id": "3be4e077",
   "metadata": {},
   "outputs": [],
   "source": [
    "pldf.select(pl.col(\"PassengerCount\").is_null()).collect().sum()"
   ]
  },
  {
   "cell_type": "code",
   "execution_count": null,
   "id": "e5c85f08",
   "metadata": {},
   "outputs": [],
   "source": [
    "plan = (\n",
    "    pldf\n",
    "    .with_columns(\n",
    "        DayOfWeek = pl.col(\"TpepPickupDatetime\").dt.weekday()\n",
    "    )\n",
    "    .filter(\n",
    "        ~pl.col(\"PassengerCount\").is_null()        \n",
    "    )\n",
    "    .select(pl.col([\"TpepPickupDatetime\", \"TripDistance\", \"TotalAmount\", \"PaymentType\"]))\n",
    "    .sort(\"TpepPickupDatetime\")\n",
    "    .group_by_dynamic(\n",
    "        index_column = \"TpepPickupDatetime\",\n",
    "        every = \"1h\",\n",
    "        group_by = \"PaymentType\"\n",
    "    )\n",
    "    .agg(\n",
    "        MeanTripDistance = pl.col(\"TripDistance\").mean()\n",
    "    )\n",
    ")"
   ]
  },
  {
   "cell_type": "code",
   "execution_count": null,
   "id": "84e738d8",
   "metadata": {},
   "outputs": [],
   "source": [
    "# Polars: Query Engine con API DataFrame"
   ]
  },
  {
   "cell_type": "code",
   "execution_count": null,
   "id": "16422e68",
   "metadata": {},
   "outputs": [],
   "source": [
    "(\n",
    "    plan\n",
    "    .collect()\n",
    "    .head()\n",
    ")"
   ]
  },
  {
   "cell_type": "code",
   "execution_count": null,
   "id": "fec2c84f",
   "metadata": {},
   "outputs": [],
   "source": [
    "plan"
   ]
  },
  {
   "cell_type": "code",
   "execution_count": null,
   "id": "914f3e82",
   "metadata": {},
   "outputs": [],
   "source": [
    "plan.show_graph(optimized = True)"
   ]
  },
  {
   "cell_type": "code",
   "execution_count": null,
   "id": "919fc3c8",
   "metadata": {},
   "outputs": [],
   "source": [
    "# pl.scan_parquet?? # Lazy"
   ]
  },
  {
   "cell_type": "code",
   "execution_count": null,
   "id": "b9a7f546",
   "metadata": {},
   "outputs": [],
   "source": []
  },
  {
   "cell_type": "code",
   "execution_count": null,
   "id": "327e2cca",
   "metadata": {},
   "outputs": [],
   "source": [
    "# %%timeit\n",
    "\n",
    "# (\n",
    "#     pldf\n",
    "#     .select(pl.col([\"TpepPickupDatetime\", \"TripDistance\", \"TotalAmount\", \"PaymentType\"]))\n",
    "#     .with_columns(\n",
    "#         DateOfWeek = pl.col(\"TpepPickupDatetime\").dt.weekday()\n",
    "#     )\n",
    "#     .sort(\"TpepPickupDatetime\")\n",
    "#     .group_by_dynamic(\n",
    "#         index_column = \"TpepPickupDatetime\",\n",
    "#         every = \"1h\",\n",
    "#         group_by = \"PaymentType\"\n",
    "#     )\n",
    "#     .agg(\n",
    "#         MeanTripDistance = pl.col(\"TripDistance\").mean()\n",
    "#     )\n",
    "#     .collect()\n",
    "# )\n",
    "\n",
    "# ### 7.81 s ± 1.44 s per loop (mean ± std. dev. of 7 runs, 1 loop each)\n"
   ]
  },
  {
   "cell_type": "code",
   "execution_count": null,
   "id": "dab608b7",
   "metadata": {},
   "outputs": [],
   "source": []
  }
 ],
 "metadata": {
  "kernelspec": {
   "display_name": "env_main",
   "language": "python",
   "name": "env_main"
  },
  "language_info": {
   "codemirror_mode": {
    "name": "ipython",
    "version": 3
   },
   "file_extension": ".py",
   "mimetype": "text/x-python",
   "name": "python",
   "nbconvert_exporter": "python",
   "pygments_lexer": "ipython3",
   "version": "3.10.14"
  }
 },
 "nbformat": 4,
 "nbformat_minor": 5
}
