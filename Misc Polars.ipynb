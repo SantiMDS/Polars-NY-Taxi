{
 "cells": [
  {
   "cell_type": "code",
   "execution_count": 1,
   "id": "f78dd34d",
   "metadata": {},
   "outputs": [],
   "source": [
    "import os\n",
    "\n",
    "import pandas as pd\n",
    "import polars as pl"
   ]
  },
  {
   "cell_type": "code",
   "execution_count": 2,
   "id": "7083357c",
   "metadata": {},
   "outputs": [],
   "source": [
    "CWD = os.getcwd()\n",
    "PATH_INPUT_FOLDER = os.path.join(CWD, \"input\")"
   ]
  },
  {
   "cell_type": "code",
   "execution_count": 3,
   "id": "91c63e53",
   "metadata": {},
   "outputs": [],
   "source": [
    "fs = sorted([os.path.join(PATH_INPUT_FOLDER, f) for f in os.listdir(PATH_INPUT_FOLDER)])"
   ]
  },
  {
   "cell_type": "code",
   "execution_count": 4,
   "id": "2dc86731",
   "metadata": {},
   "outputs": [],
   "source": [
    "df = pd.concat([pd.read_parquet(path = path) for path in fs[:5]])"
   ]
  },
  {
   "cell_type": "code",
   "execution_count": 5,
   "id": "bcbd0a8b",
   "metadata": {},
   "outputs": [
    {
     "data": {
      "text/plain": [
       "114842782"
      ]
     },
     "execution_count": 5,
     "metadata": {},
     "output_type": "execute_result"
    }
   ],
   "source": [
    "114_842_782"
   ]
  },
  {
   "cell_type": "code",
   "execution_count": 6,
   "id": "dbc02148",
   "metadata": {},
   "outputs": [
    {
     "data": {
      "text/plain": [
       "(9344926, 19)"
      ]
     },
     "execution_count": 6,
     "metadata": {},
     "output_type": "execute_result"
    }
   ],
   "source": [
    "df.shape"
   ]
  },
  {
   "cell_type": "code",
   "execution_count": 7,
   "id": "a0cc52bf",
   "metadata": {},
   "outputs": [
    {
     "name": "stdout",
     "output_type": "stream",
     "text": [
      "<class 'pandas.core.frame.DataFrame'>\n",
      "Index: 9344926 entries, 0 to 2507108\n",
      "Data columns (total 19 columns):\n",
      " #   Column                Dtype         \n",
      "---  ------                -----         \n",
      " 0   VendorID              int64         \n",
      " 1   TpepPickupDatetime    datetime64[ns]\n",
      " 2   TpepDropoffDatetime   datetime64[ns]\n",
      " 3   PassengerCount        float64       \n",
      " 4   TripDistance          float64       \n",
      " 5   RatecodeID            float64       \n",
      " 6   StoreAndFwdFlag       object        \n",
      " 7   PULocationID          int64         \n",
      " 8   DOLocationID          int64         \n",
      " 9   PaymentType           int64         \n",
      " 10  FareAmount            float64       \n",
      " 11  Extra                 float64       \n",
      " 12  MtaTax                float64       \n",
      " 13  TipAmount             float64       \n",
      " 14  TollsAmount           float64       \n",
      " 15  ImprovementSurcharge  float64       \n",
      " 16  TotalAmount           float64       \n",
      " 17  CongestionSurcharge   float64       \n",
      " 18  AirportFee            float64       \n",
      "dtypes: datetime64[ns](2), float64(12), int64(4), object(1)\n",
      "memory usage: 1.4+ GB\n"
     ]
    }
   ],
   "source": [
    "df.info()"
   ]
  },
  {
   "cell_type": "code",
   "execution_count": 8,
   "id": "9af857de",
   "metadata": {},
   "outputs": [
    {
     "data": {
      "text/html": [
       "<div>\n",
       "<style scoped>\n",
       "    .dataframe tbody tr th:only-of-type {\n",
       "        vertical-align: middle;\n",
       "    }\n",
       "\n",
       "    .dataframe tbody tr th {\n",
       "        vertical-align: top;\n",
       "    }\n",
       "\n",
       "    .dataframe thead th {\n",
       "        text-align: right;\n",
       "    }\n",
       "</style>\n",
       "<table border=\"1\" class=\"dataframe\">\n",
       "  <thead>\n",
       "    <tr style=\"text-align: right;\">\n",
       "      <th></th>\n",
       "      <th>VendorID</th>\n",
       "      <th>TpepPickupDatetime</th>\n",
       "      <th>TpepDropoffDatetime</th>\n",
       "      <th>PassengerCount</th>\n",
       "      <th>TripDistance</th>\n",
       "      <th>RatecodeID</th>\n",
       "      <th>StoreAndFwdFlag</th>\n",
       "      <th>PULocationID</th>\n",
       "      <th>DOLocationID</th>\n",
       "      <th>PaymentType</th>\n",
       "      <th>FareAmount</th>\n",
       "      <th>Extra</th>\n",
       "      <th>MtaTax</th>\n",
       "      <th>TipAmount</th>\n",
       "      <th>TollsAmount</th>\n",
       "      <th>ImprovementSurcharge</th>\n",
       "      <th>TotalAmount</th>\n",
       "      <th>CongestionSurcharge</th>\n",
       "      <th>AirportFee</th>\n",
       "    </tr>\n",
       "  </thead>\n",
       "  <tbody>\n",
       "    <tr>\n",
       "      <th>0</th>\n",
       "      <td>1</td>\n",
       "      <td>2021-01-01 00:30:10</td>\n",
       "      <td>2021-01-01 00:36:12</td>\n",
       "      <td>1.0</td>\n",
       "      <td>2.10</td>\n",
       "      <td>1.0</td>\n",
       "      <td>N</td>\n",
       "      <td>142</td>\n",
       "      <td>43</td>\n",
       "      <td>2</td>\n",
       "      <td>8.0</td>\n",
       "      <td>3.0</td>\n",
       "      <td>0.5</td>\n",
       "      <td>0.00</td>\n",
       "      <td>0.0</td>\n",
       "      <td>0.3</td>\n",
       "      <td>11.80</td>\n",
       "      <td>2.5</td>\n",
       "      <td>NaN</td>\n",
       "    </tr>\n",
       "    <tr>\n",
       "      <th>1</th>\n",
       "      <td>1</td>\n",
       "      <td>2021-01-01 00:51:20</td>\n",
       "      <td>2021-01-01 00:52:19</td>\n",
       "      <td>1.0</td>\n",
       "      <td>0.20</td>\n",
       "      <td>1.0</td>\n",
       "      <td>N</td>\n",
       "      <td>238</td>\n",
       "      <td>151</td>\n",
       "      <td>2</td>\n",
       "      <td>3.0</td>\n",
       "      <td>0.5</td>\n",
       "      <td>0.5</td>\n",
       "      <td>0.00</td>\n",
       "      <td>0.0</td>\n",
       "      <td>0.3</td>\n",
       "      <td>4.30</td>\n",
       "      <td>0.0</td>\n",
       "      <td>NaN</td>\n",
       "    </tr>\n",
       "    <tr>\n",
       "      <th>2</th>\n",
       "      <td>1</td>\n",
       "      <td>2021-01-01 00:43:30</td>\n",
       "      <td>2021-01-01 01:11:06</td>\n",
       "      <td>1.0</td>\n",
       "      <td>14.70</td>\n",
       "      <td>1.0</td>\n",
       "      <td>N</td>\n",
       "      <td>132</td>\n",
       "      <td>165</td>\n",
       "      <td>1</td>\n",
       "      <td>42.0</td>\n",
       "      <td>0.5</td>\n",
       "      <td>0.5</td>\n",
       "      <td>8.65</td>\n",
       "      <td>0.0</td>\n",
       "      <td>0.3</td>\n",
       "      <td>51.95</td>\n",
       "      <td>0.0</td>\n",
       "      <td>NaN</td>\n",
       "    </tr>\n",
       "    <tr>\n",
       "      <th>3</th>\n",
       "      <td>1</td>\n",
       "      <td>2021-01-01 00:15:48</td>\n",
       "      <td>2021-01-01 00:31:01</td>\n",
       "      <td>0.0</td>\n",
       "      <td>10.60</td>\n",
       "      <td>1.0</td>\n",
       "      <td>N</td>\n",
       "      <td>138</td>\n",
       "      <td>132</td>\n",
       "      <td>1</td>\n",
       "      <td>29.0</td>\n",
       "      <td>0.5</td>\n",
       "      <td>0.5</td>\n",
       "      <td>6.05</td>\n",
       "      <td>0.0</td>\n",
       "      <td>0.3</td>\n",
       "      <td>36.35</td>\n",
       "      <td>0.0</td>\n",
       "      <td>NaN</td>\n",
       "    </tr>\n",
       "    <tr>\n",
       "      <th>4</th>\n",
       "      <td>2</td>\n",
       "      <td>2021-01-01 00:31:49</td>\n",
       "      <td>2021-01-01 00:48:21</td>\n",
       "      <td>1.0</td>\n",
       "      <td>4.94</td>\n",
       "      <td>1.0</td>\n",
       "      <td>N</td>\n",
       "      <td>68</td>\n",
       "      <td>33</td>\n",
       "      <td>1</td>\n",
       "      <td>16.5</td>\n",
       "      <td>0.5</td>\n",
       "      <td>0.5</td>\n",
       "      <td>4.06</td>\n",
       "      <td>0.0</td>\n",
       "      <td>0.3</td>\n",
       "      <td>24.36</td>\n",
       "      <td>2.5</td>\n",
       "      <td>NaN</td>\n",
       "    </tr>\n",
       "  </tbody>\n",
       "</table>\n",
       "</div>"
      ],
      "text/plain": [
       "   VendorID  TpepPickupDatetime TpepDropoffDatetime  PassengerCount  \\\n",
       "0         1 2021-01-01 00:30:10 2021-01-01 00:36:12             1.0   \n",
       "1         1 2021-01-01 00:51:20 2021-01-01 00:52:19             1.0   \n",
       "2         1 2021-01-01 00:43:30 2021-01-01 01:11:06             1.0   \n",
       "3         1 2021-01-01 00:15:48 2021-01-01 00:31:01             0.0   \n",
       "4         2 2021-01-01 00:31:49 2021-01-01 00:48:21             1.0   \n",
       "\n",
       "   TripDistance  RatecodeID StoreAndFwdFlag  PULocationID  DOLocationID  \\\n",
       "0          2.10         1.0               N           142            43   \n",
       "1          0.20         1.0               N           238           151   \n",
       "2         14.70         1.0               N           132           165   \n",
       "3         10.60         1.0               N           138           132   \n",
       "4          4.94         1.0               N            68            33   \n",
       "\n",
       "   PaymentType  FareAmount  Extra  MtaTax  TipAmount  TollsAmount  \\\n",
       "0            2         8.0    3.0     0.5       0.00          0.0   \n",
       "1            2         3.0    0.5     0.5       0.00          0.0   \n",
       "2            1        42.0    0.5     0.5       8.65          0.0   \n",
       "3            1        29.0    0.5     0.5       6.05          0.0   \n",
       "4            1        16.5    0.5     0.5       4.06          0.0   \n",
       "\n",
       "   ImprovementSurcharge  TotalAmount  CongestionSurcharge  AirportFee  \n",
       "0                   0.3        11.80                  2.5         NaN  \n",
       "1                   0.3         4.30                  0.0         NaN  \n",
       "2                   0.3        51.95                  0.0         NaN  \n",
       "3                   0.3        36.35                  0.0         NaN  \n",
       "4                   0.3        24.36                  2.5         NaN  "
      ]
     },
     "execution_count": 8,
     "metadata": {},
     "output_type": "execute_result"
    }
   ],
   "source": [
    "df.head()"
   ]
  },
  {
   "cell_type": "code",
   "execution_count": 9,
   "id": "31e2b531",
   "metadata": {},
   "outputs": [
    {
     "data": {
      "text/plain": [
       "0    1\n",
       "1    1\n",
       "2    1\n",
       "3    1\n",
       "4    1\n",
       "Name: TpepPickupDatetime, dtype: int32"
      ]
     },
     "execution_count": 9,
     "metadata": {},
     "output_type": "execute_result"
    }
   ],
   "source": [
    "df.head()[\"TpepPickupDatetime\"].dt.day"
   ]
  },
  {
   "cell_type": "code",
   "execution_count": 10,
   "id": "2e93160e",
   "metadata": {},
   "outputs": [],
   "source": [
    "# %%timeit\n",
    "\n",
    "# (\n",
    "#     df\n",
    "#     [[\"TpepPickupDatetime\", \"TripDistance\", \"TotalAmount\", \"PaymentType\"]]\n",
    "#     .assign(\n",
    "#         DateOfWeek = df[\"TpepPickupDatetime\"].dt.day\n",
    "#     )\n",
    "#     .set_index(\"TpepPickupDatetime\")\n",
    "#     .groupby([\"PaymentType\"])\n",
    "#     .resample(\"D\")\n",
    "#     [\"TripDistance\"]\n",
    "#     .mean()\n",
    "# )\n",
    "\n",
    "# ### 4.16 s ± 50.4 ms per loop (mean ± std. dev. of 7 runs, 1 loop each)\n"
   ]
  },
  {
   "cell_type": "code",
   "execution_count": 11,
   "id": "a11a0fcd",
   "metadata": {},
   "outputs": [
    {
     "data": {
      "text/plain": [
       "52.693333333333335"
      ]
     },
     "execution_count": 11,
     "metadata": {},
     "output_type": "execute_result"
    }
   ],
   "source": [
    "4.16 * 12.666666666666666"
   ]
  },
  {
   "cell_type": "code",
   "execution_count": 12,
   "id": "835dee41",
   "metadata": {},
   "outputs": [
    {
     "data": {
      "text/plain": [
       "12.666666666666666"
      ]
     },
     "execution_count": 12,
     "metadata": {},
     "output_type": "execute_result"
    }
   ],
   "source": [
    "114/9"
   ]
  },
  {
   "cell_type": "code",
   "execution_count": 13,
   "id": "835ec889",
   "metadata": {},
   "outputs": [
    {
     "data": {
      "text/plain": [
       "PaymentType  TpepPickupDatetime\n",
       "0            2021-01-01             7.251882\n",
       "             2021-01-02             6.544945\n",
       "             2021-01-03            91.774073\n",
       "             2021-01-04            14.980734\n",
       "             2021-01-05            19.919565\n",
       "                                     ...    \n",
       "4            2021-05-27             2.680473\n",
       "             2021-05-28             2.632170\n",
       "             2021-05-29             2.373442\n",
       "             2021-05-30             2.950102\n",
       "             2021-05-31             3.019135\n",
       "Name: TripDistance, Length: 14024, dtype: float64"
      ]
     },
     "execution_count": 13,
     "metadata": {},
     "output_type": "execute_result"
    }
   ],
   "source": [
    "(\n",
    "    df\n",
    "    [[\"TpepPickupDatetime\", \"TripDistance\", \"TotalAmount\", \"PaymentType\"]]\n",
    "    .assign(\n",
    "        DateOfWeek = df[\"TpepPickupDatetime\"].dt.day\n",
    "    )\n",
    "    .set_index(\"TpepPickupDatetime\")\n",
    "    .groupby([\"PaymentType\"])\n",
    "    .resample(\"D\")\n",
    "    [\"TripDistance\"]\n",
    "    .mean()\n",
    ")"
   ]
  },
  {
   "cell_type": "code",
   "execution_count": 14,
   "id": "48a37523",
   "metadata": {},
   "outputs": [
    {
     "data": {
      "text/plain": [
       "'/Users/nicolaepopescul/Desktop/code/streams/20240512_polars/input/yellow*.parquet'"
      ]
     },
     "execution_count": 14,
     "metadata": {},
     "output_type": "execute_result"
    }
   ],
   "source": [
    "os.path.join(PATH_INPUT_FOLDER, f\"yellow*.parquet\")"
   ]
  },
  {
   "cell_type": "code",
   "execution_count": 15,
   "id": "ddd25b98",
   "metadata": {},
   "outputs": [],
   "source": [
    "pldf = pl.scan_parquet(source = os.path.join(PATH_INPUT_FOLDER, f\"yellow*.parquet\"))"
   ]
  },
  {
   "cell_type": "code",
   "execution_count": null,
   "id": "6294f37e",
   "metadata": {},
   "outputs": [],
   "source": [
    "# pandas: 9_344_926   --> 4.16 s --> Todo en Memoria\n",
    "# polars: 114_842_782 --> 7.99 s --> Leyendo del disco -> procesando en dataset"
   ]
  },
  {
   "cell_type": "code",
   "execution_count": 18,
   "id": "2acb70bd",
   "metadata": {},
   "outputs": [
    {
     "data": {
      "text/html": [
       "<div><style>\n",
       ".dataframe > thead > tr,\n",
       ".dataframe > tbody > tr {\n",
       "  text-align: right;\n",
       "  white-space: pre-wrap;\n",
       "}\n",
       "</style>\n",
       "<small>shape: (5, 19)</small><table border=\"1\" class=\"dataframe\"><thead><tr><th>VendorID</th><th>TpepPickupDatetime</th><th>TpepDropoffDatetime</th><th>PassengerCount</th><th>TripDistance</th><th>RatecodeID</th><th>StoreAndFwdFlag</th><th>PULocationID</th><th>DOLocationID</th><th>PaymentType</th><th>FareAmount</th><th>Extra</th><th>MtaTax</th><th>TipAmount</th><th>TollsAmount</th><th>ImprovementSurcharge</th><th>TotalAmount</th><th>CongestionSurcharge</th><th>AirportFee</th></tr><tr><td>i64</td><td>datetime[ns]</td><td>datetime[ns]</td><td>f64</td><td>f64</td><td>f64</td><td>str</td><td>i64</td><td>i64</td><td>i64</td><td>f64</td><td>f64</td><td>f64</td><td>f64</td><td>f64</td><td>f64</td><td>f64</td><td>f64</td><td>f64</td></tr></thead><tbody><tr><td>1</td><td>2021-01-01 00:30:10</td><td>2021-01-01 00:36:12</td><td>1.0</td><td>2.1</td><td>1.0</td><td>&quot;N&quot;</td><td>142</td><td>43</td><td>2</td><td>8.0</td><td>3.0</td><td>0.5</td><td>0.0</td><td>0.0</td><td>0.3</td><td>11.8</td><td>2.5</td><td>null</td></tr><tr><td>1</td><td>2021-01-01 00:51:20</td><td>2021-01-01 00:52:19</td><td>1.0</td><td>0.2</td><td>1.0</td><td>&quot;N&quot;</td><td>238</td><td>151</td><td>2</td><td>3.0</td><td>0.5</td><td>0.5</td><td>0.0</td><td>0.0</td><td>0.3</td><td>4.3</td><td>0.0</td><td>null</td></tr><tr><td>1</td><td>2021-01-01 00:43:30</td><td>2021-01-01 01:11:06</td><td>1.0</td><td>14.7</td><td>1.0</td><td>&quot;N&quot;</td><td>132</td><td>165</td><td>1</td><td>42.0</td><td>0.5</td><td>0.5</td><td>8.65</td><td>0.0</td><td>0.3</td><td>51.95</td><td>0.0</td><td>null</td></tr><tr><td>1</td><td>2021-01-01 00:15:48</td><td>2021-01-01 00:31:01</td><td>0.0</td><td>10.6</td><td>1.0</td><td>&quot;N&quot;</td><td>138</td><td>132</td><td>1</td><td>29.0</td><td>0.5</td><td>0.5</td><td>6.05</td><td>0.0</td><td>0.3</td><td>36.35</td><td>0.0</td><td>null</td></tr><tr><td>2</td><td>2021-01-01 00:31:49</td><td>2021-01-01 00:48:21</td><td>1.0</td><td>4.94</td><td>1.0</td><td>&quot;N&quot;</td><td>68</td><td>33</td><td>1</td><td>16.5</td><td>0.5</td><td>0.5</td><td>4.06</td><td>0.0</td><td>0.3</td><td>24.36</td><td>2.5</td><td>null</td></tr></tbody></table></div>"
      ],
      "text/plain": [
       "shape: (5, 19)\n",
       "┌──────────┬───────────┬───────────┬───────────┬───┬───────────┬───────────┬───────────┬───────────┐\n",
       "│ VendorID ┆ TpepPicku ┆ TpepDropo ┆ Passenger ┆ … ┆ Improveme ┆ TotalAmou ┆ Congestio ┆ AirportFe │\n",
       "│ ---      ┆ pDatetime ┆ ffDatetim ┆ Count     ┆   ┆ ntSurchar ┆ nt        ┆ nSurcharg ┆ e         │\n",
       "│ i64      ┆ ---       ┆ e         ┆ ---       ┆   ┆ ge        ┆ ---       ┆ e         ┆ ---       │\n",
       "│          ┆ datetime[ ┆ ---       ┆ f64       ┆   ┆ ---       ┆ f64       ┆ ---       ┆ f64       │\n",
       "│          ┆ ns]       ┆ datetime[ ┆           ┆   ┆ f64       ┆           ┆ f64       ┆           │\n",
       "│          ┆           ┆ ns]       ┆           ┆   ┆           ┆           ┆           ┆           │\n",
       "╞══════════╪═══════════╪═══════════╪═══════════╪═══╪═══════════╪═══════════╪═══════════╪═══════════╡\n",
       "│ 1        ┆ 2021-01-0 ┆ 2021-01-0 ┆ 1.0       ┆ … ┆ 0.3       ┆ 11.8      ┆ 2.5       ┆ null      │\n",
       "│          ┆ 1         ┆ 1         ┆           ┆   ┆           ┆           ┆           ┆           │\n",
       "│          ┆ 00:30:10  ┆ 00:36:12  ┆           ┆   ┆           ┆           ┆           ┆           │\n",
       "│ 1        ┆ 2021-01-0 ┆ 2021-01-0 ┆ 1.0       ┆ … ┆ 0.3       ┆ 4.3       ┆ 0.0       ┆ null      │\n",
       "│          ┆ 1         ┆ 1         ┆           ┆   ┆           ┆           ┆           ┆           │\n",
       "│          ┆ 00:51:20  ┆ 00:52:19  ┆           ┆   ┆           ┆           ┆           ┆           │\n",
       "│ 1        ┆ 2021-01-0 ┆ 2021-01-0 ┆ 1.0       ┆ … ┆ 0.3       ┆ 51.95     ┆ 0.0       ┆ null      │\n",
       "│          ┆ 1         ┆ 1         ┆           ┆   ┆           ┆           ┆           ┆           │\n",
       "│          ┆ 00:43:30  ┆ 01:11:06  ┆           ┆   ┆           ┆           ┆           ┆           │\n",
       "│ 1        ┆ 2021-01-0 ┆ 2021-01-0 ┆ 0.0       ┆ … ┆ 0.3       ┆ 36.35     ┆ 0.0       ┆ null      │\n",
       "│          ┆ 1         ┆ 1         ┆           ┆   ┆           ┆           ┆           ┆           │\n",
       "│          ┆ 00:15:48  ┆ 00:31:01  ┆           ┆   ┆           ┆           ┆           ┆           │\n",
       "│ 2        ┆ 2021-01-0 ┆ 2021-01-0 ┆ 1.0       ┆ … ┆ 0.3       ┆ 24.36     ┆ 2.5       ┆ null      │\n",
       "│          ┆ 1         ┆ 1         ┆           ┆   ┆           ┆           ┆           ┆           │\n",
       "│          ┆ 00:31:49  ┆ 00:48:21  ┆           ┆   ┆           ┆           ┆           ┆           │\n",
       "└──────────┴───────────┴───────────┴───────────┴───┴───────────┴───────────┴───────────┴───────────┘"
      ]
     },
     "execution_count": 18,
     "metadata": {},
     "output_type": "execute_result"
    }
   ],
   "source": [
    "pldf.head().collect()"
   ]
  },
  {
   "cell_type": "code",
   "execution_count": 20,
   "id": "3be4e077",
   "metadata": {},
   "outputs": [
    {
     "data": {
      "text/html": [
       "<div><style>\n",
       ".dataframe > thead > tr,\n",
       ".dataframe > tbody > tr {\n",
       "  text-align: right;\n",
       "  white-space: pre-wrap;\n",
       "}\n",
       "</style>\n",
       "<small>shape: (1, 1)</small><table border=\"1\" class=\"dataframe\"><thead><tr><th>PassengerCount</th></tr><tr><td>u32</td></tr></thead><tbody><tr><td>4482126</td></tr></tbody></table></div>"
      ],
      "text/plain": [
       "shape: (1, 1)\n",
       "┌────────────────┐\n",
       "│ PassengerCount │\n",
       "│ ---            │\n",
       "│ u32            │\n",
       "╞════════════════╡\n",
       "│ 4482126        │\n",
       "└────────────────┘"
      ]
     },
     "execution_count": 20,
     "metadata": {},
     "output_type": "execute_result"
    }
   ],
   "source": [
    "pldf.select(pl.col(\"PassengerCount\").is_null()).collect().sum()"
   ]
  },
  {
   "cell_type": "code",
   "execution_count": 22,
   "id": "e5c85f08",
   "metadata": {},
   "outputs": [],
   "source": [
    "plan = (\n",
    "    pldf\n",
    "    .with_columns(\n",
    "        DayOfWeek = pl.col(\"TpepPickupDatetime\").dt.weekday()\n",
    "    )\n",
    "    .filter(\n",
    "        ~pl.col(\"PassengerCount\").is_null()        \n",
    "    )\n",
    "    .select(pl.col([\"TpepPickupDatetime\", \"TripDistance\", \"TotalAmount\", \"PaymentType\"]))\n",
    "    .sort(\"TpepPickupDatetime\")\n",
    "    .group_by_dynamic(\n",
    "        index_column = \"TpepPickupDatetime\",\n",
    "        every = \"1h\",\n",
    "        group_by = \"PaymentType\"\n",
    "    )\n",
    "    .agg(\n",
    "        MeanTripDistance = pl.col(\"TripDistance\").mean()\n",
    "    )\n",
    ")"
   ]
  },
  {
   "cell_type": "code",
   "execution_count": 30,
   "id": "84e738d8",
   "metadata": {},
   "outputs": [],
   "source": [
    "# Polars: Query Engine con API DataFrame"
   ]
  },
  {
   "cell_type": "code",
   "execution_count": 29,
   "id": "16422e68",
   "metadata": {},
   "outputs": [
    {
     "data": {
      "text/html": [
       "<div><style>\n",
       ".dataframe > thead > tr,\n",
       ".dataframe > tbody > tr {\n",
       "  text-align: right;\n",
       "  white-space: pre-wrap;\n",
       "}\n",
       "</style>\n",
       "<small>shape: (5, 3)</small><table border=\"1\" class=\"dataframe\"><thead><tr><th>PaymentType</th><th>TpepPickupDatetime</th><th>MeanTripDistance</th></tr><tr><td>i64</td><td>datetime[ns]</td><td>f64</td></tr></thead><tbody><tr><td>2</td><td>2001-01-01 00:00:00</td><td>10.248</td></tr><tr><td>2</td><td>2001-01-01 01:00:00</td><td>4.68</td></tr><tr><td>2</td><td>2001-08-23 05:00:00</td><td>7.08</td></tr><tr><td>2</td><td>2002-10-21 00:00:00</td><td>3.27</td></tr><tr><td>2</td><td>2002-10-21 05:00:00</td><td>2.72</td></tr></tbody></table></div>"
      ],
      "text/plain": [
       "shape: (5, 3)\n",
       "┌─────────────┬─────────────────────┬──────────────────┐\n",
       "│ PaymentType ┆ TpepPickupDatetime  ┆ MeanTripDistance │\n",
       "│ ---         ┆ ---                 ┆ ---              │\n",
       "│ i64         ┆ datetime[ns]        ┆ f64              │\n",
       "╞═════════════╪═════════════════════╪══════════════════╡\n",
       "│ 2           ┆ 2001-01-01 00:00:00 ┆ 10.248           │\n",
       "│ 2           ┆ 2001-01-01 01:00:00 ┆ 4.68             │\n",
       "│ 2           ┆ 2001-08-23 05:00:00 ┆ 7.08             │\n",
       "│ 2           ┆ 2002-10-21 00:00:00 ┆ 3.27             │\n",
       "│ 2           ┆ 2002-10-21 05:00:00 ┆ 2.72             │\n",
       "└─────────────┴─────────────────────┴──────────────────┘"
      ]
     },
     "execution_count": 29,
     "metadata": {},
     "output_type": "execute_result"
    }
   ],
   "source": [
    "(\n",
    "    plan\n",
    "    .collect()\n",
    "    .head()\n",
    ")"
   ]
  },
  {
   "cell_type": "code",
   "execution_count": 24,
   "id": "fec2c84f",
   "metadata": {},
   "outputs": [
    {
     "data": {
      "text/html": [
       "<h4>NAIVE QUERY PLAN</h4><p>run <b>LazyFrame.show_graph()</b> to see the optimized version</p><?xml version=\"1.0\" encoding=\"UTF-8\" standalone=\"no\"?>\n",
       "<!DOCTYPE svg PUBLIC \"-//W3C//DTD SVG 1.1//EN\"\n",
       " \"http://www.w3.org/Graphics/SVG/1.1/DTD/svg11.dtd\">\n",
       "<!-- Generated by graphviz version 10.0.1 (20240210.2158)\n",
       " -->\n",
       "<!-- Title: polars_query Pages: 1 -->\n",
       "<svg width=\"774pt\" height=\"447pt\"\n",
       " viewBox=\"0.00 0.00 774.00 447.00\" xmlns=\"http://www.w3.org/2000/svg\" xmlns:xlink=\"http://www.w3.org/1999/xlink\">\n",
       "<g id=\"graph0\" class=\"graph\" transform=\"scale(1 1) rotate(0) translate(4 443)\">\n",
       "<title>polars_query</title>\n",
       "<polygon fill=\"white\" stroke=\"none\" points=\"-4,4 -4,-443 770,-443 770,4 -4,4\"/>\n",
       "<!-- AGG [col(&quot;TripDistance&quot;).mean().alias(&quot;MeanTripDistance&quot;)]\n",
       "BY\n",
       "[col(&quot;PaymentType&quot;)] [(0, 0)] [(0, 0)] -->\n",
       "<g id=\"node1\" class=\"node\">\n",
       "<title>AGG [col(&quot;TripDistance&quot;).mean().alias(&quot;MeanTripDistance&quot;)]\n",
       "BY\n",
       "[col(&quot;PaymentType&quot;)] [(0, 0)] [(0, 0)]</title>\n",
       "<polygon fill=\"none\" stroke=\"black\" points=\"563.12,-439 202.88,-439 202.88,-381.5 563.12,-381.5 563.12,-439\"/>\n",
       "<text text-anchor=\"middle\" x=\"383\" y=\"-421.7\" font-family=\"Times,serif\" font-size=\"14.00\">AGG [col(&quot;TripDistance&quot;).mean().alias(&quot;MeanTripDistance&quot;)]</text>\n",
       "<text text-anchor=\"middle\" x=\"383\" y=\"-405.2\" font-family=\"Times,serif\" font-size=\"14.00\">BY</text>\n",
       "<text text-anchor=\"middle\" x=\"383\" y=\"-388.7\" font-family=\"Times,serif\" font-size=\"14.00\">[col(&quot;PaymentType&quot;)] [(0, 0)]</text>\n",
       "</g>\n",
       "<!-- SORT BY [col(&quot;TpepPickupDatetime&quot;)] [(0, 1)] -->\n",
       "<g id=\"node2\" class=\"node\">\n",
       "<title>SORT BY [col(&quot;TpepPickupDatetime&quot;)] [(0, 1)]</title>\n",
       "<polygon fill=\"none\" stroke=\"black\" points=\"501.62,-345.5 264.38,-345.5 264.38,-309.5 501.62,-309.5 501.62,-345.5\"/>\n",
       "<text text-anchor=\"middle\" x=\"383\" y=\"-322.45\" font-family=\"Times,serif\" font-size=\"14.00\">SORT BY [col(&quot;TpepPickupDatetime&quot;)]</text>\n",
       "</g>\n",
       "<!-- AGG [col(&quot;TripDistance&quot;).mean().alias(&quot;MeanTripDistance&quot;)]\n",
       "BY\n",
       "[col(&quot;PaymentType&quot;)] [(0, 0)] [(0, 0)]&#45;&#45;SORT BY [col(&quot;TpepPickupDatetime&quot;)] [(0, 1)] -->\n",
       "<g id=\"edge1\" class=\"edge\">\n",
       "<title>AGG [col(&quot;TripDistance&quot;).mean().alias(&quot;MeanTripDistance&quot;)]\n",
       "BY\n",
       "[col(&quot;PaymentType&quot;)] [(0, 0)] [(0, 0)]&#45;&#45;SORT BY [col(&quot;TpepPickupDatetime&quot;)] [(0, 1)]</title>\n",
       "<path fill=\"none\" stroke=\"black\" d=\"M383,-381.01C383,-369.18 383,-355.83 383,-345.54\"/>\n",
       "</g>\n",
       "<!-- π 1/20 [(0, 2)] -->\n",
       "<g id=\"node3\" class=\"node\">\n",
       "<title>π 1/20 [(0, 2)]</title>\n",
       "<polygon fill=\"none\" stroke=\"black\" points=\"410,-273.5 356,-273.5 356,-237.5 410,-237.5 410,-273.5\"/>\n",
       "<text text-anchor=\"middle\" x=\"383\" y=\"-250.45\" font-family=\"Times,serif\" font-size=\"14.00\">π 1/20</text>\n",
       "</g>\n",
       "<!-- SORT BY [col(&quot;TpepPickupDatetime&quot;)] [(0, 1)]&#45;&#45;π 1/20 [(0, 2)] -->\n",
       "<g id=\"edge2\" class=\"edge\">\n",
       "<title>SORT BY [col(&quot;TpepPickupDatetime&quot;)] [(0, 1)]&#45;&#45;π 1/20 [(0, 2)]</title>\n",
       "<path fill=\"none\" stroke=\"black\" d=\"M383,-309.2C383,-298.35 383,-284.42 383,-273.6\"/>\n",
       "</g>\n",
       "<!-- FILTER BY col(&quot;PassengerCount&quot;).is_... [(0, 3)] -->\n",
       "<g id=\"node4\" class=\"node\">\n",
       "<title>FILTER BY col(&quot;PassengerCount&quot;).is_... [(0, 3)]</title>\n",
       "<polygon fill=\"none\" stroke=\"black\" points=\"504.25,-201.5 261.75,-201.5 261.75,-165.5 504.25,-165.5 504.25,-201.5\"/>\n",
       "<text text-anchor=\"middle\" x=\"383\" y=\"-178.45\" font-family=\"Times,serif\" font-size=\"14.00\">FILTER BY col(&quot;PassengerCount&quot;).is_...</text>\n",
       "</g>\n",
       "<!-- π 1/20 [(0, 2)]&#45;&#45;FILTER BY col(&quot;PassengerCount&quot;).is_... [(0, 3)] -->\n",
       "<g id=\"edge3\" class=\"edge\">\n",
       "<title>π 1/20 [(0, 2)]&#45;&#45;FILTER BY col(&quot;PassengerCount&quot;).is_... [(0, 3)]</title>\n",
       "<path fill=\"none\" stroke=\"black\" d=\"M383,-237.2C383,-226.35 383,-212.42 383,-201.6\"/>\n",
       "</g>\n",
       "<!-- WITH COLUMNS [&quot;DayOfWeek&quot;] [(0, 4)] -->\n",
       "<g id=\"node5\" class=\"node\">\n",
       "<title>WITH COLUMNS [&quot;DayOfWeek&quot;] [(0, 4)]</title>\n",
       "<polygon fill=\"none\" stroke=\"black\" points=\"490.75,-129.5 275.25,-129.5 275.25,-93.5 490.75,-93.5 490.75,-129.5\"/>\n",
       "<text text-anchor=\"middle\" x=\"383\" y=\"-106.45\" font-family=\"Times,serif\" font-size=\"14.00\">WITH COLUMNS [&quot;DayOfWeek&quot;]</text>\n",
       "</g>\n",
       "<!-- FILTER BY col(&quot;PassengerCount&quot;).is_... [(0, 3)]&#45;&#45;WITH COLUMNS [&quot;DayOfWeek&quot;] [(0, 4)] -->\n",
       "<g id=\"edge4\" class=\"edge\">\n",
       "<title>FILTER BY col(&quot;PassengerCount&quot;).is_... [(0, 3)]&#45;&#45;WITH COLUMNS [&quot;DayOfWeek&quot;] [(0, 4)]</title>\n",
       "<path fill=\"none\" stroke=\"black\" d=\"M383,-165.2C383,-154.35 383,-140.42 383,-129.6\"/>\n",
       "</g>\n",
       "<!-- Parquet SCAN 38 files: first file: /Users/nicolaepopescul/Desktop/code/streams/20240512_polars/input/yellow_tripdata_2021&#45;01.parquet;\n",
       "π */?;\n",
       "σ &#45; [(0, 5)] -->\n",
       "<g id=\"node6\" class=\"node\">\n",
       "<title>Parquet SCAN 38 files: first file: /Users/nicolaepopescul/Desktop/code/streams/20240512_polars/input/yellow_tripdata_2021&#45;01.parquet;\n",
       "π */?;\n",
       "σ &#45; [(0, 5)]</title>\n",
       "<polygon fill=\"none\" stroke=\"black\" points=\"766,-57.5 0,-57.5 0,0 766,0 766,-57.5\"/>\n",
       "<text text-anchor=\"middle\" x=\"383\" y=\"-40.2\" font-family=\"Times,serif\" font-size=\"14.00\">Parquet SCAN 38 files: first file: /Users/nicolaepopescul/Desktop/code/streams/20240512_polars/input/yellow_tripdata_2021&#45;01.parquet;</text>\n",
       "<text text-anchor=\"middle\" x=\"383\" y=\"-23.7\" font-family=\"Times,serif\" font-size=\"14.00\">π */?;</text>\n",
       "<text text-anchor=\"middle\" x=\"383\" y=\"-7.2\" font-family=\"Times,serif\" font-size=\"14.00\">σ &#45;</text>\n",
       "</g>\n",
       "<!-- WITH COLUMNS [&quot;DayOfWeek&quot;] [(0, 4)]&#45;&#45;Parquet SCAN 38 files: first file: /Users/nicolaepopescul/Desktop/code/streams/20240512_polars/input/yellow_tripdata_2021&#45;01.parquet;\n",
       "π */?;\n",
       "σ &#45; [(0, 5)] -->\n",
       "<g id=\"edge5\" class=\"edge\">\n",
       "<title>WITH COLUMNS [&quot;DayOfWeek&quot;] [(0, 4)]&#45;&#45;Parquet SCAN 38 files: first file: /Users/nicolaepopescul/Desktop/code/streams/20240512_polars/input/yellow_tripdata_2021&#45;01.parquet;\n",
       "π */?;\n",
       "σ &#45; [(0, 5)]</title>\n",
       "<path fill=\"none\" stroke=\"black\" d=\"M383,-93.38C383,-83.1 383,-69.77 383,-57.97\"/>\n",
       "</g>\n",
       "</g>\n",
       "</svg>\n"
      ],
      "text/plain": [
       "<LazyFrame at 0x11E62AB60>"
      ]
     },
     "execution_count": 24,
     "metadata": {},
     "output_type": "execute_result"
    }
   ],
   "source": [
    "plan"
   ]
  },
  {
   "cell_type": "code",
   "execution_count": 28,
   "id": "914f3e82",
   "metadata": {},
   "outputs": [
    {
     "data": {
      "image/svg+xml": [
       "<svg xmlns=\"http://www.w3.org/2000/svg\" xmlns:xlink=\"http://www.w3.org/1999/xlink\" width=\"774pt\" height=\"303pt\" viewBox=\"0.00 0.00 774.00 303.00\">\n",
       "<g id=\"graph0\" class=\"graph\" transform=\"scale(1 1) rotate(0) translate(4 299)\">\n",
       "<title>polars_query</title>\n",
       "<polygon fill=\"white\" stroke=\"none\" points=\"-4,4 -4,-299 770,-299 770,4 -4,4\"/>\n",
       "<!-- AGG [col(&quot;TripDistance&quot;).mean().alias(&quot;MeanTripDistance&quot;)]\n",
       "BY\n",
       "[col(&quot;PaymentType&quot;)] [(0, 0)] [(0, 0)] -->\n",
       "<g id=\"node1\" class=\"node\">\n",
       "<title>AGG [col(&quot;TripDistance&quot;).mean().alias(&quot;MeanTripDistance&quot;)]\n",
       "BY\n",
       "[col(&quot;PaymentType&quot;)] [(0, 0)] [(0, 0)]</title>\n",
       "<polygon fill=\"none\" stroke=\"black\" points=\"563.12,-295 202.88,-295 202.88,-237.5 563.12,-237.5 563.12,-295\"/>\n",
       "<text text-anchor=\"middle\" x=\"383\" y=\"-277.7\" font-family=\"Times,serif\" font-size=\"14.00\">AGG [col(&quot;TripDistance&quot;).mean().alias(&quot;MeanTripDistance&quot;)]</text>\n",
       "<text text-anchor=\"middle\" x=\"383\" y=\"-261.2\" font-family=\"Times,serif\" font-size=\"14.00\">BY</text>\n",
       "<text text-anchor=\"middle\" x=\"383\" y=\"-244.7\" font-family=\"Times,serif\" font-size=\"14.00\">[col(&quot;PaymentType&quot;)] [(0, 0)]</text>\n",
       "</g>\n",
       "<!-- SORT BY [col(&quot;TpepPickupDatetime&quot;)] [(0, 1)] -->\n",
       "<g id=\"node2\" class=\"node\">\n",
       "<title>SORT BY [col(&quot;TpepPickupDatetime&quot;)] [(0, 1)]</title>\n",
       "<polygon fill=\"none\" stroke=\"black\" points=\"501.62,-201.5 264.38,-201.5 264.38,-165.5 501.62,-165.5 501.62,-201.5\"/>\n",
       "<text text-anchor=\"middle\" x=\"383\" y=\"-178.45\" font-family=\"Times,serif\" font-size=\"14.00\">SORT BY [col(&quot;TpepPickupDatetime&quot;)]</text>\n",
       "</g>\n",
       "<!-- AGG [col(&quot;TripDistance&quot;).mean().alias(&quot;MeanTripDistance&quot;)]\n",
       "BY\n",
       "[col(&quot;PaymentType&quot;)] [(0, 0)] [(0, 0)]&#45;&#45;SORT BY [col(&quot;TpepPickupDatetime&quot;)] [(0, 1)] -->\n",
       "<g id=\"edge1\" class=\"edge\">\n",
       "<title>AGG [col(&quot;TripDistance&quot;).mean().alias(&quot;MeanTripDistance&quot;)]\n",
       "BY\n",
       "[col(&quot;PaymentType&quot;)] [(0, 0)] [(0, 0)]--SORT BY [col(&quot;TpepPickupDatetime&quot;)] [(0, 1)]</title>\n",
       "<path fill=\"none\" stroke=\"black\" d=\"M383,-237.01C383,-225.18 383,-211.83 383,-201.54\"/>\n",
       "</g>\n",
       "<!-- π 3/19 [(0, 2)] -->\n",
       "<g id=\"node3\" class=\"node\">\n",
       "<title>π 3/19 [(0, 2)]</title>\n",
       "<polygon fill=\"none\" stroke=\"black\" points=\"410,-129.5 356,-129.5 356,-93.5 410,-93.5 410,-129.5\"/>\n",
       "<text text-anchor=\"middle\" x=\"383\" y=\"-106.45\" font-family=\"Times,serif\" font-size=\"14.00\">π 3/19</text>\n",
       "</g>\n",
       "<!-- SORT BY [col(&quot;TpepPickupDatetime&quot;)] [(0, 1)]&#45;&#45;π 3/19 [(0, 2)] -->\n",
       "<g id=\"edge2\" class=\"edge\">\n",
       "<title>SORT BY [col(&quot;TpepPickupDatetime&quot;)] [(0, 1)]--π 3/19 [(0, 2)]</title>\n",
       "<path fill=\"none\" stroke=\"black\" d=\"M383,-165.2C383,-154.35 383,-140.42 383,-129.6\"/>\n",
       "</g>\n",
       "<!-- Parquet SCAN 38 files: first file: /Users/nicolaepopescul/Desktop/code/streams/20240512_polars/input/yellow_tripdata_2021&#45;01.parquet;\n",
       "π 4/19;\n",
       "σ col(&quot;PassengerCount&quot;).is_... [(0, 3)] -->\n",
       "<g id=\"node4\" class=\"node\">\n",
       "<title>Parquet SCAN 38 files: first file: /Users/nicolaepopescul/Desktop/code/streams/20240512_polars/input/yellow_tripdata_2021-01.parquet;\n",
       "π 4/19;\n",
       "σ col(&quot;PassengerCount&quot;).is_... [(0, 3)]</title>\n",
       "<polygon fill=\"none\" stroke=\"black\" points=\"766,-57.5 0,-57.5 0,0 766,0 766,-57.5\"/>\n",
       "<text text-anchor=\"middle\" x=\"383\" y=\"-40.2\" font-family=\"Times,serif\" font-size=\"14.00\">Parquet SCAN 38 files: first file: /Users/nicolaepopescul/Desktop/code/streams/20240512_polars/input/yellow_tripdata_2021-01.parquet;</text>\n",
       "<text text-anchor=\"middle\" x=\"383\" y=\"-23.7\" font-family=\"Times,serif\" font-size=\"14.00\">π 4/19;</text>\n",
       "<text text-anchor=\"middle\" x=\"383\" y=\"-7.2\" font-family=\"Times,serif\" font-size=\"14.00\">σ col(&quot;PassengerCount&quot;).is_...</text>\n",
       "</g>\n",
       "<!-- π 3/19 [(0, 2)]&#45;&#45;Parquet SCAN 38 files: first file: /Users/nicolaepopescul/Desktop/code/streams/20240512_polars/input/yellow_tripdata_2021&#45;01.parquet;\n",
       "π 4/19;\n",
       "σ col(&quot;PassengerCount&quot;).is_... [(0, 3)] -->\n",
       "<g id=\"edge3\" class=\"edge\">\n",
       "<title>π 3/19 [(0, 2)]--Parquet SCAN 38 files: first file: /Users/nicolaepopescul/Desktop/code/streams/20240512_polars/input/yellow_tripdata_2021-01.parquet;\n",
       "π 4/19;\n",
       "σ col(&quot;PassengerCount&quot;).is_... [(0, 3)]</title>\n",
       "<path fill=\"none\" stroke=\"black\" d=\"M383,-93.38C383,-83.1 383,-69.77 383,-57.97\"/>\n",
       "</g>\n",
       "</g>\n",
       "</svg>"
      ],
      "text/plain": [
       "<IPython.core.display.SVG object>"
      ]
     },
     "metadata": {},
     "output_type": "display_data"
    }
   ],
   "source": [
    "plan.show_graph(optimized = True)"
   ]
  },
  {
   "cell_type": "code",
   "execution_count": null,
   "id": "919fc3c8",
   "metadata": {},
   "outputs": [],
   "source": [
    "# pl.scan_parquet?? # Lazy"
   ]
  },
  {
   "cell_type": "code",
   "execution_count": null,
   "id": "b9a7f546",
   "metadata": {},
   "outputs": [],
   "source": []
  },
  {
   "cell_type": "code",
   "execution_count": null,
   "id": "327e2cca",
   "metadata": {},
   "outputs": [],
   "source": [
    "# %%timeit\n",
    "\n",
    "# (\n",
    "#     pldf\n",
    "#     .select(pl.col([\"TpepPickupDatetime\", \"TripDistance\", \"TotalAmount\", \"PaymentType\"]))\n",
    "#     .with_columns(\n",
    "#         DateOfWeek = pl.col(\"TpepPickupDatetime\").dt.weekday()\n",
    "#     )\n",
    "#     .sort(\"TpepPickupDatetime\")\n",
    "#     .group_by_dynamic(\n",
    "#         index_column = \"TpepPickupDatetime\",\n",
    "#         every = \"1h\",\n",
    "#         group_by = \"PaymentType\"\n",
    "#     )\n",
    "#     .agg(\n",
    "#         MeanTripDistance = pl.col(\"TripDistance\").mean()\n",
    "#     )\n",
    "#     .collect()\n",
    "# )\n",
    "\n",
    "# ### 7.81 s ± 1.44 s per loop (mean ± std. dev. of 7 runs, 1 loop each)\n"
   ]
  },
  {
   "cell_type": "code",
   "execution_count": null,
   "id": "dab608b7",
   "metadata": {},
   "outputs": [],
   "source": []
  }
 ],
 "metadata": {
  "kernelspec": {
   "display_name": "env_main",
   "language": "python",
   "name": "env_main"
  },
  "language_info": {
   "codemirror_mode": {
    "name": "ipython",
    "version": 3
   },
   "file_extension": ".py",
   "mimetype": "text/x-python",
   "name": "python",
   "nbconvert_exporter": "python",
   "pygments_lexer": "ipython3",
   "version": "3.10.14"
  }
 },
 "nbformat": 4,
 "nbformat_minor": 5
}
