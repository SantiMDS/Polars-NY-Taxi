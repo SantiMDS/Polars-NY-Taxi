{
 "cells": [
  {
   "cell_type": "code",
   "execution_count": 1,
   "id": "f78dd34d",
   "metadata": {},
   "outputs": [],
   "source": [
    "import os\n",
    "\n",
    "import pandas as pd\n",
    "import polars as pl"
   ]
  },
  {
   "cell_type": "code",
   "execution_count": 2,
   "id": "7083357c",
   "metadata": {},
   "outputs": [],
   "source": [
    "CWD = os.getcwd()\n",
    "PATH_INPUT_FOLDER = os.path.join(CWD, \"input\")"
   ]
  },
  {
   "cell_type": "code",
   "execution_count": 3,
   "id": "91c63e53",
   "metadata": {},
   "outputs": [],
   "source": [
    "fs = sorted([os.path.join(PATH_INPUT_FOLDER, f) for f in os.listdir(PATH_INPUT_FOLDER)])"
   ]
  },
  {
   "cell_type": "code",
   "execution_count": 4,
   "id": "2dc86731",
   "metadata": {},
   "outputs": [],
   "source": [
    "pddf = pd.concat([pd.read_parquet(path = path) for path in fs[:5]])"
   ]
  },
  {
   "cell_type": "code",
   "execution_count": 5,
   "id": "dbc02148",
   "metadata": {},
   "outputs": [
    {
     "data": {
      "text/plain": [
       "(9344926, 19)"
      ]
     },
     "execution_count": 5,
     "metadata": {},
     "output_type": "execute_result"
    }
   ],
   "source": [
    "pddf.shape"
   ]
  },
  {
   "cell_type": "code",
   "execution_count": 6,
   "id": "a0cc52bf",
   "metadata": {},
   "outputs": [
    {
     "name": "stdout",
     "output_type": "stream",
     "text": [
      "<class 'pandas.core.frame.DataFrame'>\n",
      "Index: 9344926 entries, 0 to 2507108\n",
      "Data columns (total 19 columns):\n",
      " #   Column                Dtype         \n",
      "---  ------                -----         \n",
      " 0   VendorID              int64         \n",
      " 1   TpepPickupDatetime    datetime64[ns]\n",
      " 2   TpepDropoffDatetime   datetime64[ns]\n",
      " 3   PassengerCount        float64       \n",
      " 4   TripDistance          float64       \n",
      " 5   RatecodeID            float64       \n",
      " 6   StoreAndFwdFlag       object        \n",
      " 7   PULocationID          int64         \n",
      " 8   DOLocationID          int64         \n",
      " 9   PaymentType           int64         \n",
      " 10  FareAmount            float64       \n",
      " 11  Extra                 float64       \n",
      " 12  MtaTax                float64       \n",
      " 13  TipAmount             float64       \n",
      " 14  TollsAmount           float64       \n",
      " 15  ImprovementSurcharge  float64       \n",
      " 16  TotalAmount           float64       \n",
      " 17  CongestionSurcharge   float64       \n",
      " 18  AirportFee            float64       \n",
      "dtypes: datetime64[ns](2), float64(12), int64(4), object(1)\n",
      "memory usage: 1.4+ GB\n"
     ]
    }
   ],
   "source": [
    "pddf.info()"
   ]
  },
  {
   "cell_type": "code",
   "execution_count": 7,
   "id": "9af857de",
   "metadata": {},
   "outputs": [
    {
     "data": {
      "text/html": [
       "<div>\n",
       "<style scoped>\n",
       "    .dataframe tbody tr th:only-of-type {\n",
       "        vertical-align: middle;\n",
       "    }\n",
       "\n",
       "    .dataframe tbody tr th {\n",
       "        vertical-align: top;\n",
       "    }\n",
       "\n",
       "    .dataframe thead th {\n",
       "        text-align: right;\n",
       "    }\n",
       "</style>\n",
       "<table border=\"1\" class=\"dataframe\">\n",
       "  <thead>\n",
       "    <tr style=\"text-align: right;\">\n",
       "      <th></th>\n",
       "      <th>VendorID</th>\n",
       "      <th>TpepPickupDatetime</th>\n",
       "      <th>TpepDropoffDatetime</th>\n",
       "      <th>PassengerCount</th>\n",
       "      <th>TripDistance</th>\n",
       "      <th>RatecodeID</th>\n",
       "      <th>StoreAndFwdFlag</th>\n",
       "      <th>PULocationID</th>\n",
       "      <th>DOLocationID</th>\n",
       "      <th>PaymentType</th>\n",
       "      <th>FareAmount</th>\n",
       "      <th>Extra</th>\n",
       "      <th>MtaTax</th>\n",
       "      <th>TipAmount</th>\n",
       "      <th>TollsAmount</th>\n",
       "      <th>ImprovementSurcharge</th>\n",
       "      <th>TotalAmount</th>\n",
       "      <th>CongestionSurcharge</th>\n",
       "      <th>AirportFee</th>\n",
       "    </tr>\n",
       "  </thead>\n",
       "  <tbody>\n",
       "    <tr>\n",
       "      <th>0</th>\n",
       "      <td>1</td>\n",
       "      <td>2021-01-01 00:30:10</td>\n",
       "      <td>2021-01-01 00:36:12</td>\n",
       "      <td>1.0</td>\n",
       "      <td>2.10</td>\n",
       "      <td>1.0</td>\n",
       "      <td>N</td>\n",
       "      <td>142</td>\n",
       "      <td>43</td>\n",
       "      <td>2</td>\n",
       "      <td>8.0</td>\n",
       "      <td>3.0</td>\n",
       "      <td>0.5</td>\n",
       "      <td>0.00</td>\n",
       "      <td>0.0</td>\n",
       "      <td>0.3</td>\n",
       "      <td>11.80</td>\n",
       "      <td>2.5</td>\n",
       "      <td>NaN</td>\n",
       "    </tr>\n",
       "    <tr>\n",
       "      <th>1</th>\n",
       "      <td>1</td>\n",
       "      <td>2021-01-01 00:51:20</td>\n",
       "      <td>2021-01-01 00:52:19</td>\n",
       "      <td>1.0</td>\n",
       "      <td>0.20</td>\n",
       "      <td>1.0</td>\n",
       "      <td>N</td>\n",
       "      <td>238</td>\n",
       "      <td>151</td>\n",
       "      <td>2</td>\n",
       "      <td>3.0</td>\n",
       "      <td>0.5</td>\n",
       "      <td>0.5</td>\n",
       "      <td>0.00</td>\n",
       "      <td>0.0</td>\n",
       "      <td>0.3</td>\n",
       "      <td>4.30</td>\n",
       "      <td>0.0</td>\n",
       "      <td>NaN</td>\n",
       "    </tr>\n",
       "    <tr>\n",
       "      <th>2</th>\n",
       "      <td>1</td>\n",
       "      <td>2021-01-01 00:43:30</td>\n",
       "      <td>2021-01-01 01:11:06</td>\n",
       "      <td>1.0</td>\n",
       "      <td>14.70</td>\n",
       "      <td>1.0</td>\n",
       "      <td>N</td>\n",
       "      <td>132</td>\n",
       "      <td>165</td>\n",
       "      <td>1</td>\n",
       "      <td>42.0</td>\n",
       "      <td>0.5</td>\n",
       "      <td>0.5</td>\n",
       "      <td>8.65</td>\n",
       "      <td>0.0</td>\n",
       "      <td>0.3</td>\n",
       "      <td>51.95</td>\n",
       "      <td>0.0</td>\n",
       "      <td>NaN</td>\n",
       "    </tr>\n",
       "    <tr>\n",
       "      <th>3</th>\n",
       "      <td>1</td>\n",
       "      <td>2021-01-01 00:15:48</td>\n",
       "      <td>2021-01-01 00:31:01</td>\n",
       "      <td>0.0</td>\n",
       "      <td>10.60</td>\n",
       "      <td>1.0</td>\n",
       "      <td>N</td>\n",
       "      <td>138</td>\n",
       "      <td>132</td>\n",
       "      <td>1</td>\n",
       "      <td>29.0</td>\n",
       "      <td>0.5</td>\n",
       "      <td>0.5</td>\n",
       "      <td>6.05</td>\n",
       "      <td>0.0</td>\n",
       "      <td>0.3</td>\n",
       "      <td>36.35</td>\n",
       "      <td>0.0</td>\n",
       "      <td>NaN</td>\n",
       "    </tr>\n",
       "    <tr>\n",
       "      <th>4</th>\n",
       "      <td>2</td>\n",
       "      <td>2021-01-01 00:31:49</td>\n",
       "      <td>2021-01-01 00:48:21</td>\n",
       "      <td>1.0</td>\n",
       "      <td>4.94</td>\n",
       "      <td>1.0</td>\n",
       "      <td>N</td>\n",
       "      <td>68</td>\n",
       "      <td>33</td>\n",
       "      <td>1</td>\n",
       "      <td>16.5</td>\n",
       "      <td>0.5</td>\n",
       "      <td>0.5</td>\n",
       "      <td>4.06</td>\n",
       "      <td>0.0</td>\n",
       "      <td>0.3</td>\n",
       "      <td>24.36</td>\n",
       "      <td>2.5</td>\n",
       "      <td>NaN</td>\n",
       "    </tr>\n",
       "  </tbody>\n",
       "</table>\n",
       "</div>"
      ],
      "text/plain": [
       "   VendorID  TpepPickupDatetime TpepDropoffDatetime  PassengerCount  \\\n",
       "0         1 2021-01-01 00:30:10 2021-01-01 00:36:12             1.0   \n",
       "1         1 2021-01-01 00:51:20 2021-01-01 00:52:19             1.0   \n",
       "2         1 2021-01-01 00:43:30 2021-01-01 01:11:06             1.0   \n",
       "3         1 2021-01-01 00:15:48 2021-01-01 00:31:01             0.0   \n",
       "4         2 2021-01-01 00:31:49 2021-01-01 00:48:21             1.0   \n",
       "\n",
       "   TripDistance  RatecodeID StoreAndFwdFlag  PULocationID  DOLocationID  \\\n",
       "0          2.10         1.0               N           142            43   \n",
       "1          0.20         1.0               N           238           151   \n",
       "2         14.70         1.0               N           132           165   \n",
       "3         10.60         1.0               N           138           132   \n",
       "4          4.94         1.0               N            68            33   \n",
       "\n",
       "   PaymentType  FareAmount  Extra  MtaTax  TipAmount  TollsAmount  \\\n",
       "0            2         8.0    3.0     0.5       0.00          0.0   \n",
       "1            2         3.0    0.5     0.5       0.00          0.0   \n",
       "2            1        42.0    0.5     0.5       8.65          0.0   \n",
       "3            1        29.0    0.5     0.5       6.05          0.0   \n",
       "4            1        16.5    0.5     0.5       4.06          0.0   \n",
       "\n",
       "   ImprovementSurcharge  TotalAmount  CongestionSurcharge  AirportFee  \n",
       "0                   0.3        11.80                  2.5         NaN  \n",
       "1                   0.3         4.30                  0.0         NaN  \n",
       "2                   0.3        51.95                  0.0         NaN  \n",
       "3                   0.3        36.35                  0.0         NaN  \n",
       "4                   0.3        24.36                  2.5         NaN  "
      ]
     },
     "execution_count": 7,
     "metadata": {},
     "output_type": "execute_result"
    }
   ],
   "source": [
    "pddf.head()"
   ]
  },
  {
   "cell_type": "code",
   "execution_count": 8,
   "id": "31e2b531",
   "metadata": {},
   "outputs": [
    {
     "data": {
      "text/plain": [
       "0    1\n",
       "1    1\n",
       "2    1\n",
       "3    1\n",
       "4    1\n",
       "Name: TpepPickupDatetime, dtype: int32"
      ]
     },
     "execution_count": 8,
     "metadata": {},
     "output_type": "execute_result"
    }
   ],
   "source": [
    "pddf.head()[\"TpepPickupDatetime\"].dt.day"
   ]
  },
  {
   "cell_type": "code",
   "execution_count": 9,
   "id": "2e93160e",
   "metadata": {},
   "outputs": [],
   "source": [
    "# %%timeit\n",
    "\n",
    "# (\n",
    "#     df\n",
    "#     [[\"TpepPickupDatetime\", \"TripDistance\", \"TotalAmount\", \"PaymentType\"]]\n",
    "#     .assign(\n",
    "#         DateOfWeek = df[\"TpepPickupDatetime\"].dt.day\n",
    "#     )\n",
    "#     .set_index(\"TpepPickupDatetime\")\n",
    "#     .groupby([\"PaymentType\"])\n",
    "#     .resample(\"D\")\n",
    "#     [\"TripDistance\"]\n",
    "#     .mean()\n",
    "# )\n",
    "\n",
    "# ### 4.16 s ± 50.4 ms per loop (mean ± std. dev. of 7 runs, 1 loop each)"
   ]
  },
  {
   "cell_type": "code",
   "execution_count": 10,
   "id": "835ec889",
   "metadata": {},
   "outputs": [
    {
     "data": {
      "text/plain": [
       "PaymentType  TpepPickupDatetime\n",
       "0            2021-01-01             7.251882\n",
       "             2021-01-02             6.544945\n",
       "             2021-01-03            91.774073\n",
       "             2021-01-04            14.980734\n",
       "             2021-01-05            19.919565\n",
       "                                     ...    \n",
       "4            2021-05-27             2.680473\n",
       "             2021-05-28             2.632170\n",
       "             2021-05-29             2.373442\n",
       "             2021-05-30             2.950102\n",
       "             2021-05-31             3.019135\n",
       "Name: TripDistance, Length: 14024, dtype: float64"
      ]
     },
     "execution_count": 10,
     "metadata": {},
     "output_type": "execute_result"
    }
   ],
   "source": [
    "(\n",
    "    pddf\n",
    "    [[\"TpepPickupDatetime\", \"TripDistance\", \"TotalAmount\", \"PaymentType\"]]\n",
    "    .assign(\n",
    "        DateOfWeek = pddf[\"TpepPickupDatetime\"].dt.day\n",
    "    )\n",
    "    .set_index(\"TpepPickupDatetime\")\n",
    "    .groupby([\"PaymentType\"])\n",
    "    .resample(\"D\")\n",
    "    [\"TripDistance\"]\n",
    "    .mean()\n",
    ")"
   ]
  },
  {
   "cell_type": "code",
   "execution_count": 11,
   "id": "ddd25b98",
   "metadata": {},
   "outputs": [],
   "source": [
    "# lazy dataframe\n",
    "plldf = pl.scan_parquet(source = os.path.join(PATH_INPUT_FOLDER, f\"yellow*.parquet\"))"
   ]
  },
  {
   "cell_type": "code",
   "execution_count": 12,
   "id": "c4baa115",
   "metadata": {},
   "outputs": [],
   "source": [
    "# eager mode\n",
    "pldf = pl.read_parquet(source = fs[:5]) "
   ]
  },
  {
   "cell_type": "code",
   "execution_count": 13,
   "id": "1d3cd20c",
   "metadata": {},
   "outputs": [],
   "source": [
    "# pandas: 9_344_926   --> 4.16 s --> Todo en Memoria\n",
    "# polars: 114_842_782 --> 7.99 s --> Leyendo del disco -> procesando en dataset\n",
    "\n",
    "# %%timeit\n",
    "\n",
    "# (\n",
    "#     plldf\n",
    "#     .select(pl.col([\"TpepPickupDatetime\", \"TripDistance\", \"TotalAmount\", \"PaymentType\"]))\n",
    "#     .with_columns(\n",
    "#         DateOfWeek = pl.col(\"TpepPickupDatetime\").dt.weekday()\n",
    "#     )\n",
    "#     .sort(\"TpepPickupDatetime\")\n",
    "#     .group_by_dynamic(\n",
    "#         index_column = \"TpepPickupDatetime\",\n",
    "#         every = \"1h\",\n",
    "#         group_by = \"PaymentType\"\n",
    "#     )\n",
    "#     .agg(\n",
    "#         MeanTripDistance = pl.col(\"TripDistance\").mean()\n",
    "#     )\n",
    "#     .collect()\n",
    "# )\n",
    "\n",
    "# ### 7.81 s ± 1.44 s per loop (mean ± std. dev. of 7 runs, 1 loop each)"
   ]
  },
  {
   "cell_type": "code",
   "execution_count": 14,
   "id": "2acb70bd",
   "metadata": {},
   "outputs": [
    {
     "data": {
      "text/html": [
       "<div><style>\n",
       ".dataframe > thead > tr,\n",
       ".dataframe > tbody > tr {\n",
       "  text-align: right;\n",
       "  white-space: pre-wrap;\n",
       "}\n",
       "</style>\n",
       "<small>shape: (5, 19)</small><table border=\"1\" class=\"dataframe\"><thead><tr><th>VendorID</th><th>TpepPickupDatetime</th><th>TpepDropoffDatetime</th><th>PassengerCount</th><th>TripDistance</th><th>RatecodeID</th><th>StoreAndFwdFlag</th><th>PULocationID</th><th>DOLocationID</th><th>PaymentType</th><th>FareAmount</th><th>Extra</th><th>MtaTax</th><th>TipAmount</th><th>TollsAmount</th><th>ImprovementSurcharge</th><th>TotalAmount</th><th>CongestionSurcharge</th><th>AirportFee</th></tr><tr><td>i64</td><td>datetime[ns]</td><td>datetime[ns]</td><td>f64</td><td>f64</td><td>f64</td><td>str</td><td>i64</td><td>i64</td><td>i64</td><td>f64</td><td>f64</td><td>f64</td><td>f64</td><td>f64</td><td>f64</td><td>f64</td><td>f64</td><td>f64</td></tr></thead><tbody><tr><td>1</td><td>2021-01-01 00:30:10</td><td>2021-01-01 00:36:12</td><td>1.0</td><td>2.1</td><td>1.0</td><td>&quot;N&quot;</td><td>142</td><td>43</td><td>2</td><td>8.0</td><td>3.0</td><td>0.5</td><td>0.0</td><td>0.0</td><td>0.3</td><td>11.8</td><td>2.5</td><td>null</td></tr><tr><td>1</td><td>2021-01-01 00:51:20</td><td>2021-01-01 00:52:19</td><td>1.0</td><td>0.2</td><td>1.0</td><td>&quot;N&quot;</td><td>238</td><td>151</td><td>2</td><td>3.0</td><td>0.5</td><td>0.5</td><td>0.0</td><td>0.0</td><td>0.3</td><td>4.3</td><td>0.0</td><td>null</td></tr><tr><td>1</td><td>2021-01-01 00:43:30</td><td>2021-01-01 01:11:06</td><td>1.0</td><td>14.7</td><td>1.0</td><td>&quot;N&quot;</td><td>132</td><td>165</td><td>1</td><td>42.0</td><td>0.5</td><td>0.5</td><td>8.65</td><td>0.0</td><td>0.3</td><td>51.95</td><td>0.0</td><td>null</td></tr><tr><td>1</td><td>2021-01-01 00:15:48</td><td>2021-01-01 00:31:01</td><td>0.0</td><td>10.6</td><td>1.0</td><td>&quot;N&quot;</td><td>138</td><td>132</td><td>1</td><td>29.0</td><td>0.5</td><td>0.5</td><td>6.05</td><td>0.0</td><td>0.3</td><td>36.35</td><td>0.0</td><td>null</td></tr><tr><td>2</td><td>2021-01-01 00:31:49</td><td>2021-01-01 00:48:21</td><td>1.0</td><td>4.94</td><td>1.0</td><td>&quot;N&quot;</td><td>68</td><td>33</td><td>1</td><td>16.5</td><td>0.5</td><td>0.5</td><td>4.06</td><td>0.0</td><td>0.3</td><td>24.36</td><td>2.5</td><td>null</td></tr></tbody></table></div>"
      ],
      "text/plain": [
       "shape: (5, 19)\n",
       "┌──────────┬───────────┬───────────┬───────────┬───┬───────────┬───────────┬───────────┬───────────┐\n",
       "│ VendorID ┆ TpepPicku ┆ TpepDropo ┆ Passenger ┆ … ┆ Improveme ┆ TotalAmou ┆ Congestio ┆ AirportFe │\n",
       "│ ---      ┆ pDatetime ┆ ffDatetim ┆ Count     ┆   ┆ ntSurchar ┆ nt        ┆ nSurcharg ┆ e         │\n",
       "│ i64      ┆ ---       ┆ e         ┆ ---       ┆   ┆ ge        ┆ ---       ┆ e         ┆ ---       │\n",
       "│          ┆ datetime[ ┆ ---       ┆ f64       ┆   ┆ ---       ┆ f64       ┆ ---       ┆ f64       │\n",
       "│          ┆ ns]       ┆ datetime[ ┆           ┆   ┆ f64       ┆           ┆ f64       ┆           │\n",
       "│          ┆           ┆ ns]       ┆           ┆   ┆           ┆           ┆           ┆           │\n",
       "╞══════════╪═══════════╪═══════════╪═══════════╪═══╪═══════════╪═══════════╪═══════════╪═══════════╡\n",
       "│ 1        ┆ 2021-01-0 ┆ 2021-01-0 ┆ 1.0       ┆ … ┆ 0.3       ┆ 11.8      ┆ 2.5       ┆ null      │\n",
       "│          ┆ 1         ┆ 1         ┆           ┆   ┆           ┆           ┆           ┆           │\n",
       "│          ┆ 00:30:10  ┆ 00:36:12  ┆           ┆   ┆           ┆           ┆           ┆           │\n",
       "│ 1        ┆ 2021-01-0 ┆ 2021-01-0 ┆ 1.0       ┆ … ┆ 0.3       ┆ 4.3       ┆ 0.0       ┆ null      │\n",
       "│          ┆ 1         ┆ 1         ┆           ┆   ┆           ┆           ┆           ┆           │\n",
       "│          ┆ 00:51:20  ┆ 00:52:19  ┆           ┆   ┆           ┆           ┆           ┆           │\n",
       "│ 1        ┆ 2021-01-0 ┆ 2021-01-0 ┆ 1.0       ┆ … ┆ 0.3       ┆ 51.95     ┆ 0.0       ┆ null      │\n",
       "│          ┆ 1         ┆ 1         ┆           ┆   ┆           ┆           ┆           ┆           │\n",
       "│          ┆ 00:43:30  ┆ 01:11:06  ┆           ┆   ┆           ┆           ┆           ┆           │\n",
       "│ 1        ┆ 2021-01-0 ┆ 2021-01-0 ┆ 0.0       ┆ … ┆ 0.3       ┆ 36.35     ┆ 0.0       ┆ null      │\n",
       "│          ┆ 1         ┆ 1         ┆           ┆   ┆           ┆           ┆           ┆           │\n",
       "│          ┆ 00:15:48  ┆ 00:31:01  ┆           ┆   ┆           ┆           ┆           ┆           │\n",
       "│ 2        ┆ 2021-01-0 ┆ 2021-01-0 ┆ 1.0       ┆ … ┆ 0.3       ┆ 24.36     ┆ 2.5       ┆ null      │\n",
       "│          ┆ 1         ┆ 1         ┆           ┆   ┆           ┆           ┆           ┆           │\n",
       "│          ┆ 00:31:49  ┆ 00:48:21  ┆           ┆   ┆           ┆           ┆           ┆           │\n",
       "└──────────┴───────────┴───────────┴───────────┴───┴───────────┴───────────┴───────────┴───────────┘"
      ]
     },
     "execution_count": 14,
     "metadata": {},
     "output_type": "execute_result"
    }
   ],
   "source": [
    "plldf.head().collect()"
   ]
  },
  {
   "cell_type": "code",
   "execution_count": 15,
   "id": "3be4e077",
   "metadata": {},
   "outputs": [
    {
     "data": {
      "text/html": [
       "<div><style>\n",
       ".dataframe > thead > tr,\n",
       ".dataframe > tbody > tr {\n",
       "  text-align: right;\n",
       "  white-space: pre-wrap;\n",
       "}\n",
       "</style>\n",
       "<small>shape: (1, 1)</small><table border=\"1\" class=\"dataframe\"><thead><tr><th>PassengerCount</th></tr><tr><td>u32</td></tr></thead><tbody><tr><td>4482126</td></tr></tbody></table></div>"
      ],
      "text/plain": [
       "shape: (1, 1)\n",
       "┌────────────────┐\n",
       "│ PassengerCount │\n",
       "│ ---            │\n",
       "│ u32            │\n",
       "╞════════════════╡\n",
       "│ 4482126        │\n",
       "└────────────────┘"
      ]
     },
     "execution_count": 15,
     "metadata": {},
     "output_type": "execute_result"
    }
   ],
   "source": [
    "plldf.select(pl.col(\"PassengerCount\").is_null()).collect().sum()"
   ]
  },
  {
   "cell_type": "markdown",
   "id": "cb5b02de",
   "metadata": {},
   "source": [
    "# ¿Dónde están los nulos?"
   ]
  },
  {
   "cell_type": "code",
   "execution_count": 16,
   "id": "e2d7c79f",
   "metadata": {},
   "outputs": [
    {
     "data": {
      "text/html": [
       "<div><style>\n",
       ".dataframe > thead > tr,\n",
       ".dataframe > tbody > tr {\n",
       "  text-align: right;\n",
       "  white-space: pre-wrap;\n",
       "}\n",
       "</style>\n",
       "<small>shape: (5, 2)</small><table border=\"1\" class=\"dataframe\"><thead><tr><th>column</th><th>nulls</th></tr><tr><td>str</td><td>u32</td></tr></thead><tbody><tr><td>&quot;PassengerCount&quot;</td><td>579834</td></tr><tr><td>&quot;RatecodeID&quot;</td><td>579834</td></tr><tr><td>&quot;StoreAndFwdFlag&quot;</td><td>579834</td></tr><tr><td>&quot;CongestionSurcharge&quot;</td><td>579834</td></tr><tr><td>&quot;AirportFee&quot;</td><td>4742536</td></tr></tbody></table></div>"
      ],
      "text/plain": [
       "shape: (5, 2)\n",
       "┌─────────────────────┬─────────┐\n",
       "│ column              ┆ nulls   │\n",
       "│ ---                 ┆ ---     │\n",
       "│ str                 ┆ u32     │\n",
       "╞═════════════════════╪═════════╡\n",
       "│ PassengerCount      ┆ 579834  │\n",
       "│ RatecodeID          ┆ 579834  │\n",
       "│ StoreAndFwdFlag     ┆ 579834  │\n",
       "│ CongestionSurcharge ┆ 579834  │\n",
       "│ AirportFee          ┆ 4742536 │\n",
       "└─────────────────────┴─────────┘"
      ]
     },
     "execution_count": 16,
     "metadata": {},
     "output_type": "execute_result"
    }
   ],
   "source": [
    "# eager mode df\n",
    "(\n",
    "    pldf\n",
    "    .select(pl.all().is_null())\n",
    "    .sum()\n",
    "    .melt()\n",
    "    .rename({\"variable\":\"column\", \"value\":\"nulls\"})\n",
    "    .filter(pl.col(\"nulls\") > 0)\n",
    ")"
   ]
  },
  {
   "cell_type": "code",
   "execution_count": 17,
   "id": "94e3d5da",
   "metadata": {},
   "outputs": [
    {
     "data": {
      "text/html": [
       "<div><style>\n",
       ".dataframe > thead > tr,\n",
       ".dataframe > tbody > tr {\n",
       "  text-align: right;\n",
       "  white-space: pre-wrap;\n",
       "}\n",
       "</style>\n",
       "<small>shape: (5, 2)</small><table border=\"1\" class=\"dataframe\"><thead><tr><th>column</th><th>nulls</th></tr><tr><td>str</td><td>u32</td></tr></thead><tbody><tr><td>&quot;PassengerCount&quot;</td><td>4482126</td></tr><tr><td>&quot;RatecodeID&quot;</td><td>4482126</td></tr><tr><td>&quot;StoreAndFwdFlag&quot;</td><td>4482126</td></tr><tr><td>&quot;CongestionSurcharge&quot;</td><td>4482126</td></tr><tr><td>&quot;AirportFee&quot;</td><td>8644849</td></tr></tbody></table></div>"
      ],
      "text/plain": [
       "shape: (5, 2)\n",
       "┌─────────────────────┬─────────┐\n",
       "│ column              ┆ nulls   │\n",
       "│ ---                 ┆ ---     │\n",
       "│ str                 ┆ u32     │\n",
       "╞═════════════════════╪═════════╡\n",
       "│ PassengerCount      ┆ 4482126 │\n",
       "│ RatecodeID          ┆ 4482126 │\n",
       "│ StoreAndFwdFlag     ┆ 4482126 │\n",
       "│ CongestionSurcharge ┆ 4482126 │\n",
       "│ AirportFee          ┆ 8644849 │\n",
       "└─────────────────────┴─────────┘"
      ]
     },
     "execution_count": 17,
     "metadata": {},
     "output_type": "execute_result"
    }
   ],
   "source": [
    "# lazy df\n",
    "(\n",
    "    plldf\n",
    "    .select(pl.all().is_null())\n",
    "    .sum()\n",
    "    .melt()\n",
    "    .rename({\"variable\":\"column\", \"value\":\"nulls\"})\n",
    "    .filter(pl.col(\"nulls\") > 0)\n",
    "    .collect()\n",
    ")"
   ]
  },
  {
   "cell_type": "markdown",
   "id": "a00aea40",
   "metadata": {},
   "source": [
    "# ¿Castear las columnas a un tipo más eficiente?"
   ]
  },
  {
   "cell_type": "code",
   "execution_count": 27,
   "id": "e168c596",
   "metadata": {},
   "outputs": [],
   "source": [
    "# https://www.nyc.gov/assets/tlc/downloads/pdf/data_dictionary_trip_records_yellow.pdf\n",
    "\n",
    "MILE_TO_KM_CONVERTER = 1.60934\n",
    "\n",
    "# RatecodeID\n",
    "# 1= Standard rate\n",
    "# 2=JFK\n",
    "# 3=Newark\n",
    "# 4=Nassau or Westchester\n",
    "# 5=Negotiated fare\n",
    "# 6=Group ride\n",
    "\n",
    "\n",
    "# StoreAndFwdFlag\n",
    "# Yes -> 1, No -> 0\n",
    "\n",
    "# PaymentType\n",
    "# 1= Credit card\n",
    "# 2= Cash\n",
    "# 3= No charge\n",
    "# 4= Dispute\n",
    "# 5= Unknown\n",
    "# 6= Voided trip\n",
    "\n",
    "english_to_spanish_dictionary = {\n",
    "    'VendorID':'La empresa que nos ha suministrado información del viaje',\n",
    "    'TpepPickupDatetime':'Fecha y hora cuando se ha activado el contador',\n",
    "    'TpepDropoffDatetime':'Fecha y hora cuando se ha desactivado el contador',\n",
    "    'PassengerCount':'Nr de viajers (introducido por el conductor)',\n",
    "    'TripDistance':'La distancia del viaje en Milas según el taximétro',\n",
    "    'RatecodeID':'El código del tipo de trayecto que se ha realizado',\n",
    "    'StoreAndFwdFlag':'El viaje no se ha enviado enseguida al server porque no había conexión',\n",
    "    'PULocationID':'La zona donde se había activado el contador',\n",
    "    'DOLocationID':'La zona donde se había desactivado el contador',\n",
    "    'PaymentType':'Tipo de pago',\n",
    "    'FareAmount':'Importe del viaje según el recorrido',\n",
    "    'Extra':'Puede ser 0.50$ o bien 1$ por hora punta o bien guardia de noche',\n",
    "    'MtaTax':'0.50$ de impuesto',\n",
    "    'TipAmount':'Propina pagada con tarjeta',\n",
    "    'TollsAmount':'Peajes',\n",
    "    'ImprovementSurcharge':'Bajada de bandera',\n",
    "    'TotalAmount':'Importe total cargado',\n",
    "    'CongestionSurcharge':'Cobro por congestión',\n",
    "    'AirportFee':'1.25$ cobrados en LaGuardia o aeropuerto de JFK'\n",
    "}"
   ]
  },
  {
   "cell_type": "code",
   "execution_count": 19,
   "id": "d5d5a719",
   "metadata": {},
   "outputs": [
    {
     "data": {
      "text/plain": [
       "['VendorID',\n",
       " 'TpepPickupDatetime',\n",
       " 'TpepDropoffDatetime',\n",
       " 'PassengerCount',\n",
       " 'TripDistance',\n",
       " 'RatecodeID',\n",
       " 'StoreAndFwdFlag',\n",
       " 'PULocationID',\n",
       " 'DOLocationID',\n",
       " 'PaymentType',\n",
       " 'FareAmount',\n",
       " 'Extra',\n",
       " 'MtaTax',\n",
       " 'TipAmount',\n",
       " 'TollsAmount',\n",
       " 'ImprovementSurcharge',\n",
       " 'TotalAmount',\n",
       " 'CongestionSurcharge',\n",
       " 'AirportFee']"
      ]
     },
     "execution_count": 19,
     "metadata": {},
     "output_type": "execute_result"
    }
   ],
   "source": [
    "pldf.columns"
   ]
  },
  {
   "cell_type": "code",
   "execution_count": 20,
   "id": "462cfdeb",
   "metadata": {},
   "outputs": [
    {
     "data": {
      "text/html": [
       "<div><style>\n",
       ".dataframe > thead > tr,\n",
       ".dataframe > tbody > tr {\n",
       "  text-align: right;\n",
       "  white-space: pre-wrap;\n",
       "}\n",
       "</style>\n",
       "<small>shape: (5, 19)</small><table border=\"1\" class=\"dataframe\"><thead><tr><th>VendorID</th><th>TpepPickupDatetime</th><th>TpepDropoffDatetime</th><th>PassengerCount</th><th>TripDistance</th><th>RatecodeID</th><th>StoreAndFwdFlag</th><th>PULocationID</th><th>DOLocationID</th><th>PaymentType</th><th>FareAmount</th><th>Extra</th><th>MtaTax</th><th>TipAmount</th><th>TollsAmount</th><th>ImprovementSurcharge</th><th>TotalAmount</th><th>CongestionSurcharge</th><th>AirportFee</th></tr><tr><td>i64</td><td>datetime[ns]</td><td>datetime[ns]</td><td>f64</td><td>f64</td><td>f64</td><td>str</td><td>i64</td><td>i64</td><td>i64</td><td>f64</td><td>f64</td><td>f64</td><td>f64</td><td>f64</td><td>f64</td><td>f64</td><td>f64</td><td>f64</td></tr></thead><tbody><tr><td>1</td><td>2021-01-01 00:30:10</td><td>2021-01-01 00:36:12</td><td>1.0</td><td>2.1</td><td>1.0</td><td>&quot;N&quot;</td><td>142</td><td>43</td><td>2</td><td>8.0</td><td>3.0</td><td>0.5</td><td>0.0</td><td>0.0</td><td>0.3</td><td>11.8</td><td>2.5</td><td>null</td></tr><tr><td>1</td><td>2021-01-01 00:51:20</td><td>2021-01-01 00:52:19</td><td>1.0</td><td>0.2</td><td>1.0</td><td>&quot;N&quot;</td><td>238</td><td>151</td><td>2</td><td>3.0</td><td>0.5</td><td>0.5</td><td>0.0</td><td>0.0</td><td>0.3</td><td>4.3</td><td>0.0</td><td>null</td></tr><tr><td>1</td><td>2021-01-01 00:43:30</td><td>2021-01-01 01:11:06</td><td>1.0</td><td>14.7</td><td>1.0</td><td>&quot;N&quot;</td><td>132</td><td>165</td><td>1</td><td>42.0</td><td>0.5</td><td>0.5</td><td>8.65</td><td>0.0</td><td>0.3</td><td>51.95</td><td>0.0</td><td>null</td></tr><tr><td>1</td><td>2021-01-01 00:15:48</td><td>2021-01-01 00:31:01</td><td>0.0</td><td>10.6</td><td>1.0</td><td>&quot;N&quot;</td><td>138</td><td>132</td><td>1</td><td>29.0</td><td>0.5</td><td>0.5</td><td>6.05</td><td>0.0</td><td>0.3</td><td>36.35</td><td>0.0</td><td>null</td></tr><tr><td>2</td><td>2021-01-01 00:31:49</td><td>2021-01-01 00:48:21</td><td>1.0</td><td>4.94</td><td>1.0</td><td>&quot;N&quot;</td><td>68</td><td>33</td><td>1</td><td>16.5</td><td>0.5</td><td>0.5</td><td>4.06</td><td>0.0</td><td>0.3</td><td>24.36</td><td>2.5</td><td>null</td></tr></tbody></table></div>"
      ],
      "text/plain": [
       "shape: (5, 19)\n",
       "┌──────────┬───────────┬───────────┬───────────┬───┬───────────┬───────────┬───────────┬───────────┐\n",
       "│ VendorID ┆ TpepPicku ┆ TpepDropo ┆ Passenger ┆ … ┆ Improveme ┆ TotalAmou ┆ Congestio ┆ AirportFe │\n",
       "│ ---      ┆ pDatetime ┆ ffDatetim ┆ Count     ┆   ┆ ntSurchar ┆ nt        ┆ nSurcharg ┆ e         │\n",
       "│ i64      ┆ ---       ┆ e         ┆ ---       ┆   ┆ ge        ┆ ---       ┆ e         ┆ ---       │\n",
       "│          ┆ datetime[ ┆ ---       ┆ f64       ┆   ┆ ---       ┆ f64       ┆ ---       ┆ f64       │\n",
       "│          ┆ ns]       ┆ datetime[ ┆           ┆   ┆ f64       ┆           ┆ f64       ┆           │\n",
       "│          ┆           ┆ ns]       ┆           ┆   ┆           ┆           ┆           ┆           │\n",
       "╞══════════╪═══════════╪═══════════╪═══════════╪═══╪═══════════╪═══════════╪═══════════╪═══════════╡\n",
       "│ 1        ┆ 2021-01-0 ┆ 2021-01-0 ┆ 1.0       ┆ … ┆ 0.3       ┆ 11.8      ┆ 2.5       ┆ null      │\n",
       "│          ┆ 1         ┆ 1         ┆           ┆   ┆           ┆           ┆           ┆           │\n",
       "│          ┆ 00:30:10  ┆ 00:36:12  ┆           ┆   ┆           ┆           ┆           ┆           │\n",
       "│ 1        ┆ 2021-01-0 ┆ 2021-01-0 ┆ 1.0       ┆ … ┆ 0.3       ┆ 4.3       ┆ 0.0       ┆ null      │\n",
       "│          ┆ 1         ┆ 1         ┆           ┆   ┆           ┆           ┆           ┆           │\n",
       "│          ┆ 00:51:20  ┆ 00:52:19  ┆           ┆   ┆           ┆           ┆           ┆           │\n",
       "│ 1        ┆ 2021-01-0 ┆ 2021-01-0 ┆ 1.0       ┆ … ┆ 0.3       ┆ 51.95     ┆ 0.0       ┆ null      │\n",
       "│          ┆ 1         ┆ 1         ┆           ┆   ┆           ┆           ┆           ┆           │\n",
       "│          ┆ 00:43:30  ┆ 01:11:06  ┆           ┆   ┆           ┆           ┆           ┆           │\n",
       "│ 1        ┆ 2021-01-0 ┆ 2021-01-0 ┆ 0.0       ┆ … ┆ 0.3       ┆ 36.35     ┆ 0.0       ┆ null      │\n",
       "│          ┆ 1         ┆ 1         ┆           ┆   ┆           ┆           ┆           ┆           │\n",
       "│          ┆ 00:15:48  ┆ 00:31:01  ┆           ┆   ┆           ┆           ┆           ┆           │\n",
       "│ 2        ┆ 2021-01-0 ┆ 2021-01-0 ┆ 1.0       ┆ … ┆ 0.3       ┆ 24.36     ┆ 2.5       ┆ null      │\n",
       "│          ┆ 1         ┆ 1         ┆           ┆   ┆           ┆           ┆           ┆           │\n",
       "│          ┆ 00:31:49  ┆ 00:48:21  ┆           ┆   ┆           ┆           ┆           ┆           │\n",
       "└──────────┴───────────┴───────────┴───────────┴───┴───────────┴───────────┴───────────┴───────────┘"
      ]
     },
     "execution_count": 20,
     "metadata": {},
     "output_type": "execute_result"
    }
   ],
   "source": [
    "pldf.head()"
   ]
  },
  {
   "cell_type": "code",
   "execution_count": 21,
   "id": "e12df699",
   "metadata": {},
   "outputs": [
    {
     "data": {
      "text/html": [
       "<div><style>\n",
       ".dataframe > thead > tr,\n",
       ".dataframe > tbody > tr {\n",
       "  text-align: right;\n",
       "  white-space: pre-wrap;\n",
       "}\n",
       "</style>\n",
       "<small>shape: (9, 17)</small><table border=\"1\" class=\"dataframe\"><thead><tr><th>statistic</th><th>VendorID</th><th>PassengerCount</th><th>TripDistance</th><th>RatecodeID</th><th>PULocationID</th><th>DOLocationID</th><th>PaymentType</th><th>FareAmount</th><th>Extra</th><th>MtaTax</th><th>TipAmount</th><th>TollsAmount</th><th>ImprovementSurcharge</th><th>TotalAmount</th><th>CongestionSurcharge</th><th>AirportFee</th></tr><tr><td>str</td><td>f64</td><td>f64</td><td>f64</td><td>f64</td><td>f64</td><td>f64</td><td>f64</td><td>f64</td><td>f64</td><td>f64</td><td>f64</td><td>f64</td><td>f64</td><td>f64</td><td>f64</td><td>f64</td></tr></thead><tbody><tr><td>&quot;count&quot;</td><td>9.344926e6</td><td>8.765092e6</td><td>9.344926e6</td><td>8.765092e6</td><td>9.344926e6</td><td>9.344926e6</td><td>9.344926e6</td><td>9.344926e6</td><td>9.344926e6</td><td>9.344926e6</td><td>9.344926e6</td><td>9.344926e6</td><td>9.344926e6</td><td>9.344926e6</td><td>8.765092e6</td><td>4.60239e6</td></tr><tr><td>&quot;null_count&quot;</td><td>0.0</td><td>579834.0</td><td>0.0</td><td>579834.0</td><td>0.0</td><td>0.0</td><td>0.0</td><td>0.0</td><td>0.0</td><td>0.0</td><td>0.0</td><td>0.0</td><td>0.0</td><td>0.0</td><td>579834.0</td><td>4.742536e6</td></tr><tr><td>&quot;mean&quot;</td><td>1.718218</td><td>1.41081</td><td>6.186446</td><td>1.036471</td><td>166.003286</td><td>162.576939</td><td>1.182149</td><td>12.553366</td><td>1.049816</td><td>0.493277</td><td>2.031992</td><td>0.275359</td><td>0.297105</td><td>18.217332</td><td>2.267508</td><td>0.044023</td></tr><tr><td>&quot;std&quot;</td><td>0.576921</td><td>1.034232</td><td>642.342603</td><td>0.617817</td><td>67.48774</td><td>71.522646</td><td>0.555135</td><td>184.14719</td><td>1.255063</td><td>0.074794</td><td>2.480929</td><td>1.52281</td><td>0.0411</td><td>184.272592</td><td>0.760103</td><td>0.231375</td></tr><tr><td>&quot;min&quot;</td><td>1.0</td><td>0.0</td><td>0.0</td><td>1.0</td><td>1.0</td><td>1.0</td><td>0.0</td><td>-643.5</td><td>-5.5</td><td>-0.5</td><td>-333.32</td><td>-38.02</td><td>-0.3</td><td>-647.8</td><td>-2.5</td><td>-1.25</td></tr><tr><td>&quot;25%&quot;</td><td>1.0</td><td>1.0</td><td>1.03</td><td>1.0</td><td>125.0</td><td>107.0</td><td>1.0</td><td>6.5</td><td>0.0</td><td>0.5</td><td>0.0</td><td>0.0</td><td>0.3</td><td>11.16</td><td>2.5</td><td>0.0</td></tr><tr><td>&quot;50%&quot;</td><td>2.0</td><td>1.0</td><td>1.73</td><td>1.0</td><td>162.0</td><td>162.0</td><td>1.0</td><td>9.0</td><td>0.5</td><td>0.5</td><td>1.95</td><td>0.0</td><td>0.3</td><td>14.3</td><td>2.5</td><td>0.0</td></tr><tr><td>&quot;75%&quot;</td><td>2.0</td><td>1.0</td><td>3.1</td><td>1.0</td><td>236.0</td><td>236.0</td><td>1.0</td><td>14.0</td><td>2.5</td><td>0.5</td><td>2.8</td><td>0.0</td><td>0.3</td><td>19.8</td><td>2.5</td><td>0.0</td></tr><tr><td>&quot;max&quot;</td><td>6.0</td><td>9.0</td><td>332541.19</td><td>99.0</td><td>265.0</td><td>265.0</td><td>4.0</td><td>398466.38</td><td>90.06</td><td>3.85</td><td>1140.44</td><td>823.4</td><td>0.3</td><td>398469.2</td><td>3.0</td><td>1.25</td></tr></tbody></table></div>"
      ],
      "text/plain": [
       "shape: (9, 17)\n",
       "┌───────────┬───────────┬───────────┬───────────┬───┬───────────┬───────────┬───────────┬──────────┐\n",
       "│ statistic ┆ VendorID  ┆ Passenger ┆ TripDista ┆ … ┆ Improveme ┆ TotalAmou ┆ Congestio ┆ AirportF │\n",
       "│ ---       ┆ ---       ┆ Count     ┆ nce       ┆   ┆ ntSurchar ┆ nt        ┆ nSurcharg ┆ ee       │\n",
       "│ str       ┆ f64       ┆ ---       ┆ ---       ┆   ┆ ge        ┆ ---       ┆ e         ┆ ---      │\n",
       "│           ┆           ┆ f64       ┆ f64       ┆   ┆ ---       ┆ f64       ┆ ---       ┆ f64      │\n",
       "│           ┆           ┆           ┆           ┆   ┆ f64       ┆           ┆ f64       ┆          │\n",
       "╞═══════════╪═══════════╪═══════════╪═══════════╪═══╪═══════════╪═══════════╪═══════════╪══════════╡\n",
       "│ count     ┆ 9.344926e ┆ 8.765092e ┆ 9.344926e ┆ … ┆ 9.344926e ┆ 9.344926e ┆ 8.765092e ┆ 4.60239e │\n",
       "│           ┆ 6         ┆ 6         ┆ 6         ┆   ┆ 6         ┆ 6         ┆ 6         ┆ 6        │\n",
       "│ null_coun ┆ 0.0       ┆ 579834.0  ┆ 0.0       ┆ … ┆ 0.0       ┆ 0.0       ┆ 579834.0  ┆ 4.742536 │\n",
       "│ t         ┆           ┆           ┆           ┆   ┆           ┆           ┆           ┆ e6       │\n",
       "│ mean      ┆ 1.718218  ┆ 1.41081   ┆ 6.186446  ┆ … ┆ 0.297105  ┆ 18.217332 ┆ 2.267508  ┆ 0.044023 │\n",
       "│ std       ┆ 0.576921  ┆ 1.034232  ┆ 642.34260 ┆ … ┆ 0.0411    ┆ 184.27259 ┆ 0.760103  ┆ 0.231375 │\n",
       "│           ┆           ┆           ┆ 3         ┆   ┆           ┆ 2         ┆           ┆          │\n",
       "│ min       ┆ 1.0       ┆ 0.0       ┆ 0.0       ┆ … ┆ -0.3      ┆ -647.8    ┆ -2.5      ┆ -1.25    │\n",
       "│ 25%       ┆ 1.0       ┆ 1.0       ┆ 1.03      ┆ … ┆ 0.3       ┆ 11.16     ┆ 2.5       ┆ 0.0      │\n",
       "│ 50%       ┆ 2.0       ┆ 1.0       ┆ 1.73      ┆ … ┆ 0.3       ┆ 14.3      ┆ 2.5       ┆ 0.0      │\n",
       "│ 75%       ┆ 2.0       ┆ 1.0       ┆ 3.1       ┆ … ┆ 0.3       ┆ 19.8      ┆ 2.5       ┆ 0.0      │\n",
       "│ max       ┆ 6.0       ┆ 9.0       ┆ 332541.19 ┆ … ┆ 0.3       ┆ 398469.2  ┆ 3.0       ┆ 1.25     │\n",
       "└───────────┴───────────┴───────────┴───────────┴───┴───────────┴───────────┴───────────┴──────────┘"
      ]
     },
     "execution_count": 21,
     "metadata": {},
     "output_type": "execute_result"
    }
   ],
   "source": [
    "(\n",
    "    pldf\n",
    "    .select(pl.selectors.numeric())\n",
    "    .describe()\n",
    ")"
   ]
  },
  {
   "cell_type": "code",
   "execution_count": 22,
   "id": "71233d85",
   "metadata": {},
   "outputs": [
    {
     "data": {
      "text/html": [
       "<div><style>\n",
       ".dataframe > thead > tr,\n",
       ".dataframe > tbody > tr {\n",
       "  text-align: right;\n",
       "  white-space: pre-wrap;\n",
       "}\n",
       "</style>\n",
       "<small>shape: (4, 1)</small><table border=\"1\" class=\"dataframe\"><thead><tr><th>VendorID</th></tr><tr><td>i64</td></tr></thead><tbody><tr><td>1</td></tr><tr><td>2</td></tr><tr><td>5</td></tr><tr><td>6</td></tr></tbody></table></div>"
      ],
      "text/plain": [
       "shape: (4, 1)\n",
       "┌──────────┐\n",
       "│ VendorID │\n",
       "│ ---      │\n",
       "│ i64      │\n",
       "╞══════════╡\n",
       "│ 1        │\n",
       "│ 2        │\n",
       "│ 5        │\n",
       "│ 6        │\n",
       "└──────────┘"
      ]
     },
     "execution_count": 22,
     "metadata": {},
     "output_type": "execute_result"
    }
   ],
   "source": [
    "pldf.select(pl.col(\"VendorID\").unique())"
   ]
  },
  {
   "cell_type": "code",
   "execution_count": 23,
   "id": "ae41feaa",
   "metadata": {},
   "outputs": [
    {
     "data": {
      "text/html": [
       "<div><style>\n",
       ".dataframe > thead > tr,\n",
       ".dataframe > tbody > tr {\n",
       "  text-align: right;\n",
       "  white-space: pre-wrap;\n",
       "}\n",
       "</style>\n",
       "<small>shape: (1, 2)</small><table border=\"1\" class=\"dataframe\"><thead><tr><th>NrUniqueValuesPULocationID</th><th>NrUniqueValuesDOLocationID</th></tr><tr><td>u32</td><td>u32</td></tr></thead><tbody><tr><td>263</td><td>260</td></tr></tbody></table></div>"
      ],
      "text/plain": [
       "shape: (1, 2)\n",
       "┌────────────────────────────┬────────────────────────────┐\n",
       "│ NrUniqueValuesPULocationID ┆ NrUniqueValuesDOLocationID │\n",
       "│ ---                        ┆ ---                        │\n",
       "│ u32                        ┆ u32                        │\n",
       "╞════════════════════════════╪════════════════════════════╡\n",
       "│ 263                        ┆ 260                        │\n",
       "└────────────────────────────┴────────────────────────────┘"
      ]
     },
     "execution_count": 23,
     "metadata": {},
     "output_type": "execute_result"
    }
   ],
   "source": [
    "# eager\n",
    "(\n",
    "    pldf\n",
    "    .select(\n",
    "        pl.col([\"PULocationID\"]).unique().len().alias(\"NrUniqueValuesPULocationID\"),\n",
    "        NrUniqueValuesDOLocationID = pl.col([\"DOLocationID\"]).unique().len() # named expressions\n",
    "    )\n",
    ")"
   ]
  },
  {
   "cell_type": "code",
   "execution_count": 24,
   "id": "49bc7d3b",
   "metadata": {},
   "outputs": [
    {
     "data": {
      "text/html": [
       "<div><style>\n",
       ".dataframe > thead > tr,\n",
       ".dataframe > tbody > tr {\n",
       "  text-align: right;\n",
       "  white-space: pre-wrap;\n",
       "}\n",
       "</style>\n",
       "<small>shape: (1, 2)</small><table border=\"1\" class=\"dataframe\"><thead><tr><th>NrUniqueValuesPULocationID</th><th>NrUniqueValuesDOLocationID</th></tr><tr><td>u32</td><td>u32</td></tr></thead><tbody><tr><td>263</td><td>262</td></tr></tbody></table></div>"
      ],
      "text/plain": [
       "shape: (1, 2)\n",
       "┌────────────────────────────┬────────────────────────────┐\n",
       "│ NrUniqueValuesPULocationID ┆ NrUniqueValuesDOLocationID │\n",
       "│ ---                        ┆ ---                        │\n",
       "│ u32                        ┆ u32                        │\n",
       "╞════════════════════════════╪════════════════════════════╡\n",
       "│ 263                        ┆ 262                        │\n",
       "└────────────────────────────┴────────────────────────────┘"
      ]
     },
     "execution_count": 24,
     "metadata": {},
     "output_type": "execute_result"
    }
   ],
   "source": [
    "# lazy df\n",
    "(\n",
    "    plldf\n",
    "    .select(\n",
    "        pl.col([\"PULocationID\"]).unique().len().alias(\"NrUniqueValuesPULocationID\"),\n",
    "        NrUniqueValuesDOLocationID = pl.col([\"DOLocationID\"]).unique().len() # named expressions\n",
    "    )\n",
    "    .collect()\n",
    ")"
   ]
  },
  {
   "cell_type": "code",
   "execution_count": 25,
   "id": "8248724d",
   "metadata": {},
   "outputs": [],
   "source": [
    "def series_to_list(series):\n",
    "    return \",\".join(list(map(str, list(series))))"
   ]
  },
  {
   "cell_type": "code",
   "execution_count": 26,
   "id": "935db37a",
   "metadata": {},
   "outputs": [
    {
     "data": {
      "text/html": [
       "<div><style>\n",
       ".dataframe > thead > tr,\n",
       ".dataframe > tbody > tr {\n",
       "  text-align: right;\n",
       "  white-space: pre-wrap;\n",
       "}\n",
       "</style>\n",
       "<small>shape: (1, 2)</small><table border=\"1\" class=\"dataframe\"><thead><tr><th>UniquePULocationIDNotInDOLocationID</th><th>UniqueDOLocationIDNotInPULocationID</th></tr><tr><td>str</td><td>str</td></tr></thead><tbody><tr><td>&quot;105,110,199&quot;</td><td>&quot;107,178,228,264&quot;</td></tr></tbody></table></div>"
      ],
      "text/plain": [
       "shape: (1, 2)\n",
       "┌─────────────────────────────────┬─────────────────────────────────┐\n",
       "│ UniquePULocationIDNotInDOLocat… ┆ UniqueDOLocationIDNotInPULocat… │\n",
       "│ ---                             ┆ ---                             │\n",
       "│ str                             ┆ str                             │\n",
       "╞═════════════════════════════════╪═════════════════════════════════╡\n",
       "│ 105,110,199                     ┆ 107,178,228,264                 │\n",
       "└─────────────────────────────────┴─────────────────────────────────┘"
      ]
     },
     "execution_count": 26,
     "metadata": {},
     "output_type": "execute_result"
    }
   ],
   "source": [
    "(\n",
    "    pldf\n",
    "    .filter(\n",
    "        (~pl.col(\"PULocationID\").is_in(pl.col(\"DOLocationID\").unique())) |\n",
    "        (~pl.col(\"DOLocationID\").is_in(pl.col(\"PULocationID\").unique()))\n",
    "    )\n",
    "    .select(\n",
    "        UniquePULocationIDNotInDOLocationID = pl.col(\"PULocationID\").unique().map_batches(series_to_list),\n",
    "        UniqueDOLocationIDNotInPULocationID = pl.col(\"DOLocationID\").unique().map_batches(series_to_list)\n",
    "    )\n",
    ")"
   ]
  },
  {
   "cell_type": "code",
   "execution_count": 29,
   "id": "bb0eae18",
   "metadata": {},
   "outputs": [
    {
     "name": "stdout",
     "output_type": "stream",
     "text": [
      "1.49 s ± 60.9 ms per loop (mean ± std. dev. of 7 runs, 1 loop each)\n"
     ]
    }
   ],
   "source": [
    "# %%timeit\n",
    "\n",
    "# (\n",
    "#     plldf\n",
    "#     .filter(\n",
    "#         (~pl.col(\"PULocationID\").is_in(pl.col(\"DOLocationID\").unique())) |\n",
    "#         (~pl.col(\"DOLocationID\").is_in(pl.col(\"PULocationID\").unique()))\n",
    "#     )\n",
    "#     .select(\n",
    "#         UniquePULocationIDNotInDOLocationID = pl.col(\"PULocationID\").unique().map_batches(series_to_list),\n",
    "#         UniqueDOLocationIDNotInPULocationID = pl.col(\"DOLocationID\").unique().map_batches(series_to_list)\n",
    "#     )\n",
    "#     .collect()\n",
    "# )\n",
    "\n",
    "# 1.49 s ± 60.9 ms per loop (mean ± std. dev. of 7 runs, 1 loop each)\n"
   ]
  },
  {
   "cell_type": "code",
   "execution_count": 30,
   "id": "21eceb2f",
   "metadata": {},
   "outputs": [
    {
     "data": {
      "text/html": [
       "<div><style>\n",
       ".dataframe > thead > tr,\n",
       ".dataframe > tbody > tr {\n",
       "  text-align: right;\n",
       "  white-space: pre-wrap;\n",
       "}\n",
       "</style>\n",
       "<small>shape: (1, 2)</small><table border=\"1\" class=\"dataframe\"><thead><tr><th>UniquePULocationIDNotInDOLocationID</th><th>UniqueDOLocationIDNotInPULocationID</th></tr><tr><td>str</td><td>str</td></tr></thead><tbody><tr><td>&quot;199&quot;</td><td>&quot;7,17,41,42,43,48,50,70,79,107,…</td></tr></tbody></table></div>"
      ],
      "text/plain": [
       "shape: (1, 2)\n",
       "┌─────────────────────────────────┬─────────────────────────────────┐\n",
       "│ UniquePULocationIDNotInDOLocat… ┆ UniqueDOLocationIDNotInPULocat… │\n",
       "│ ---                             ┆ ---                             │\n",
       "│ str                             ┆ str                             │\n",
       "╞═════════════════════════════════╪═════════════════════════════════╡\n",
       "│ 199                             ┆ 7,17,41,42,43,48,50,70,79,107,… │\n",
       "└─────────────────────────────────┴─────────────────────────────────┘"
      ]
     },
     "execution_count": 30,
     "metadata": {},
     "output_type": "execute_result"
    }
   ],
   "source": [
    "(\n",
    "    plldf\n",
    "    .filter(\n",
    "        (~pl.col(\"PULocationID\").is_in(pl.col(\"DOLocationID\").unique())) |\n",
    "        (~pl.col(\"DOLocationID\").is_in(pl.col(\"PULocationID\").unique()))\n",
    "    )\n",
    "    .select(\n",
    "        UniquePULocationIDNotInDOLocationID = pl.col(\"PULocationID\").unique().map_batches(series_to_list),\n",
    "        UniqueDOLocationIDNotInPULocationID = pl.col(\"DOLocationID\").unique().map_batches(series_to_list)\n",
    "    )\n",
    "    .collect()\n",
    ")"
   ]
  },
  {
   "cell_type": "code",
   "execution_count": null,
   "id": "fdf6a164",
   "metadata": {},
   "outputs": [],
   "source": []
  },
  {
   "cell_type": "code",
   "execution_count": null,
   "id": "41172f99",
   "metadata": {},
   "outputs": [],
   "source": []
  },
  {
   "cell_type": "code",
   "execution_count": null,
   "id": "5285c009",
   "metadata": {},
   "outputs": [],
   "source": []
  },
  {
   "cell_type": "code",
   "execution_count": null,
   "id": "b4dedbcd",
   "metadata": {},
   "outputs": [],
   "source": []
  },
  {
   "cell_type": "code",
   "execution_count": null,
   "id": "2b777a55",
   "metadata": {},
   "outputs": [],
   "source": []
  },
  {
   "cell_type": "code",
   "execution_count": null,
   "id": "9e6ed998",
   "metadata": {},
   "outputs": [],
   "source": []
  },
  {
   "cell_type": "code",
   "execution_count": null,
   "id": "7188a6b0",
   "metadata": {},
   "outputs": [],
   "source": []
  },
  {
   "cell_type": "code",
   "execution_count": null,
   "id": "8771ee6b",
   "metadata": {},
   "outputs": [],
   "source": []
  },
  {
   "cell_type": "code",
   "execution_count": null,
   "id": "6e96fea0",
   "metadata": {},
   "outputs": [],
   "source": []
  },
  {
   "cell_type": "code",
   "execution_count": null,
   "id": "83932947",
   "metadata": {},
   "outputs": [],
   "source": []
  },
  {
   "cell_type": "code",
   "execution_count": null,
   "id": "1859bb66",
   "metadata": {},
   "outputs": [],
   "source": []
  },
  {
   "cell_type": "code",
   "execution_count": null,
   "id": "7c1262b4",
   "metadata": {},
   "outputs": [],
   "source": []
  },
  {
   "cell_type": "code",
   "execution_count": null,
   "id": "233fc774",
   "metadata": {},
   "outputs": [],
   "source": []
  },
  {
   "cell_type": "code",
   "execution_count": null,
   "id": "3048959e",
   "metadata": {},
   "outputs": [],
   "source": []
  },
  {
   "cell_type": "code",
   "execution_count": null,
   "id": "6d33eb81",
   "metadata": {},
   "outputs": [],
   "source": []
  },
  {
   "cell_type": "code",
   "execution_count": null,
   "id": "ecde6c7d",
   "metadata": {},
   "outputs": [],
   "source": []
  },
  {
   "cell_type": "code",
   "execution_count": null,
   "id": "08ba310a",
   "metadata": {},
   "outputs": [],
   "source": []
  },
  {
   "cell_type": "code",
   "execution_count": null,
   "id": "e5c85f08",
   "metadata": {},
   "outputs": [],
   "source": [
    "plan = (\n",
    "    plldf\n",
    "    .with_columns(\n",
    "        DayOfWeek = pl.col(\"TpepPickupDatetime\").dt.weekday()\n",
    "    )\n",
    "    .filter(\n",
    "        ~pl.col(\"PassengerCount\").is_null()        \n",
    "    )\n",
    "    .select(pl.col([\"TpepPickupDatetime\", \"TripDistance\", \"TotalAmount\", \"PaymentType\"]))\n",
    "    .sort(\"TpepPickupDatetime\")\n",
    "    .group_by_dynamic(\n",
    "        index_column = \"TpepPickupDatetime\",\n",
    "        every = \"1h\",\n",
    "        group_by = \"PaymentType\"\n",
    "    )\n",
    "    .agg(\n",
    "        MeanTripDistance = pl.col(\"TripDistance\").mean()\n",
    "    )\n",
    ")"
   ]
  },
  {
   "cell_type": "code",
   "execution_count": null,
   "id": "84e738d8",
   "metadata": {},
   "outputs": [],
   "source": [
    "# Polars: Query Engine con API DataFrame"
   ]
  },
  {
   "cell_type": "code",
   "execution_count": null,
   "id": "16422e68",
   "metadata": {},
   "outputs": [],
   "source": [
    "(\n",
    "    plan\n",
    "    .collect()\n",
    "    .head()\n",
    ")"
   ]
  },
  {
   "cell_type": "code",
   "execution_count": null,
   "id": "fec2c84f",
   "metadata": {},
   "outputs": [],
   "source": [
    "plan"
   ]
  },
  {
   "cell_type": "code",
   "execution_count": null,
   "id": "914f3e82",
   "metadata": {},
   "outputs": [],
   "source": [
    "plan.show_graph(optimized = True)"
   ]
  },
  {
   "cell_type": "code",
   "execution_count": null,
   "id": "9cbab2d3",
   "metadata": {},
   "outputs": [],
   "source": []
  }
 ],
 "metadata": {
  "kernelspec": {
   "display_name": "env_main",
   "language": "python",
   "name": "env_main"
  },
  "language_info": {
   "codemirror_mode": {
    "name": "ipython",
    "version": 3
   },
   "file_extension": ".py",
   "mimetype": "text/x-python",
   "name": "python",
   "nbconvert_exporter": "python",
   "pygments_lexer": "ipython3",
   "version": "3.10.14"
  }
 },
 "nbformat": 4,
 "nbformat_minor": 5
}
