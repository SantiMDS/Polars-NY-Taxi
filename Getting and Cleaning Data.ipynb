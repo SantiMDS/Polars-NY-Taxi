{
 "cells": [
  {
   "cell_type": "markdown",
   "id": "b92196d8",
   "metadata": {},
   "source": [
    "# About the data"
   ]
  },
  {
   "cell_type": "markdown",
   "id": "1ac01e36",
   "metadata": {},
   "source": [
    "Download Data from this Page: https://www.nyc.gov/site/tlc/about/tlc-trip-record-data.page<br>\n",
    "Data Dictionary: https://www.nyc.gov/assets/tlc/downloads/pdf/data_dictionary_trip_records_yellow.pdf"
   ]
  },
  {
   "cell_type": "markdown",
   "id": "08255e86",
   "metadata": {},
   "source": [
    "# Imports"
   ]
  },
  {
   "cell_type": "code",
   "execution_count": 1,
   "id": "60699863",
   "metadata": {},
   "outputs": [],
   "source": [
    "import os\n",
    "\n",
    "import pandas as pd\n",
    "import polars as pl"
   ]
  },
  {
   "cell_type": "markdown",
   "id": "ba5d4239",
   "metadata": {},
   "source": [
    "# GLOBA_VARS"
   ]
  },
  {
   "cell_type": "code",
   "execution_count": 6,
   "id": "88005cef",
   "metadata": {},
   "outputs": [],
   "source": [
    "CWD = os.getcwd()\n",
    "PATH_INPUT_FOLDER = os.path.join(CWD, \"input\")\n",
    "\n",
    "trip2401 = os.path.join(PATH_INPUT_FOLDER, \"yellow_tripdata_2024-01.parquet\")"
   ]
  },
  {
   "cell_type": "code",
   "execution_count": 8,
   "id": "5b9b8597",
   "metadata": {},
   "outputs": [
    {
     "data": {
      "text/plain": [
       "['yellow_tripdata_2022-01.parquet',\n",
       " 'yellow_tripdata_2022-02.parquet',\n",
       " 'yellow_tripdata_2022-03.parquet',\n",
       " 'yellow_tripdata_2022-04.parquet',\n",
       " 'yellow_tripdata_2022-05.parquet',\n",
       " 'yellow_tripdata_2022-06.parquet',\n",
       " 'yellow_tripdata_2022-07.parquet',\n",
       " 'yellow_tripdata_2022-08.parquet',\n",
       " 'yellow_tripdata_2022-09.parquet',\n",
       " 'yellow_tripdata_2022-10.parquet',\n",
       " 'yellow_tripdata_2022-11.parquet',\n",
       " 'yellow_tripdata_2022-12.parquet',\n",
       " 'yellow_tripdata_2023-01.parquet',\n",
       " 'yellow_tripdata_2023-02.parquet',\n",
       " 'yellow_tripdata_2023-03.parquet',\n",
       " 'yellow_tripdata_2023-04.parquet',\n",
       " 'yellow_tripdata_2023-05.parquet',\n",
       " 'yellow_tripdata_2023-06.parquet',\n",
       " 'yellow_tripdata_2023-07.parquet',\n",
       " 'yellow_tripdata_2023-08.parquet',\n",
       " 'yellow_tripdata_2023-09.parquet',\n",
       " 'yellow_tripdata_2023-10.parquet',\n",
       " 'yellow_tripdata_2023-11.parquet',\n",
       " 'yellow_tripdata_2023-12.parquet',\n",
       " 'yellow_tripdata_2024-01.parquet',\n",
       " 'yellow_tripdata_2024-02.parquet']"
      ]
     },
     "execution_count": 8,
     "metadata": {},
     "output_type": "execute_result"
    }
   ],
   "source": [
    "sorted(os.listdir(PATH_INPUT_FOLDER))"
   ]
  },
  {
   "cell_type": "markdown",
   "id": "571b342b",
   "metadata": {},
   "source": [
    "# Comparativa Polars vs Pandas"
   ]
  },
  {
   "cell_type": "code",
   "execution_count": 9,
   "id": "32f5de9e",
   "metadata": {},
   "outputs": [],
   "source": [
    "# %%timeit\n",
    "\n",
    "# pddf = pd.read_parquet(path = trip2401)"
   ]
  },
  {
   "cell_type": "code",
   "execution_count": 10,
   "id": "65d736a8",
   "metadata": {},
   "outputs": [],
   "source": [
    "pddf = pd.read_parquet(path = trip2401)"
   ]
  },
  {
   "cell_type": "code",
   "execution_count": 11,
   "id": "f0a46b9f",
   "metadata": {},
   "outputs": [
    {
     "data": {
      "text/plain": [
       "(2964624, 19)"
      ]
     },
     "execution_count": 11,
     "metadata": {},
     "output_type": "execute_result"
    }
   ],
   "source": [
    "pddf.shape"
   ]
  },
  {
   "cell_type": "code",
   "execution_count": 12,
   "id": "27eba4cf",
   "metadata": {},
   "outputs": [
    {
     "data": {
      "text/html": [
       "<div>\n",
       "<style scoped>\n",
       "    .dataframe tbody tr th:only-of-type {\n",
       "        vertical-align: middle;\n",
       "    }\n",
       "\n",
       "    .dataframe tbody tr th {\n",
       "        vertical-align: top;\n",
       "    }\n",
       "\n",
       "    .dataframe thead th {\n",
       "        text-align: right;\n",
       "    }\n",
       "</style>\n",
       "<table border=\"1\" class=\"dataframe\">\n",
       "  <thead>\n",
       "    <tr style=\"text-align: right;\">\n",
       "      <th></th>\n",
       "      <th>VendorID</th>\n",
       "      <th>TpepPickupDatetime</th>\n",
       "      <th>TpepDropoffDatetime</th>\n",
       "      <th>PassengerCount</th>\n",
       "      <th>TripDistance</th>\n",
       "      <th>RatecodeID</th>\n",
       "      <th>StoreAndFwdFlag</th>\n",
       "      <th>PULocationID</th>\n",
       "      <th>DOLocationID</th>\n",
       "      <th>PaymentType</th>\n",
       "      <th>FareAmount</th>\n",
       "      <th>Extra</th>\n",
       "      <th>MtaTax</th>\n",
       "      <th>TipAmount</th>\n",
       "      <th>TollsAmount</th>\n",
       "      <th>ImprovementSurcharge</th>\n",
       "      <th>TotalAmount</th>\n",
       "      <th>CongestionSurcharge</th>\n",
       "      <th>AirportFee</th>\n",
       "    </tr>\n",
       "  </thead>\n",
       "  <tbody>\n",
       "    <tr>\n",
       "      <th>0</th>\n",
       "      <td>2</td>\n",
       "      <td>2024-01-01 00:57:55</td>\n",
       "      <td>2024-01-01 01:17:43</td>\n",
       "      <td>1.0</td>\n",
       "      <td>1.72</td>\n",
       "      <td>1.0</td>\n",
       "      <td>N</td>\n",
       "      <td>186</td>\n",
       "      <td>79</td>\n",
       "      <td>2</td>\n",
       "      <td>17.7</td>\n",
       "      <td>1.0</td>\n",
       "      <td>0.5</td>\n",
       "      <td>0.00</td>\n",
       "      <td>0.0</td>\n",
       "      <td>1.0</td>\n",
       "      <td>22.70</td>\n",
       "      <td>2.5</td>\n",
       "      <td>0.0</td>\n",
       "    </tr>\n",
       "    <tr>\n",
       "      <th>1</th>\n",
       "      <td>1</td>\n",
       "      <td>2024-01-01 00:03:00</td>\n",
       "      <td>2024-01-01 00:09:36</td>\n",
       "      <td>1.0</td>\n",
       "      <td>1.80</td>\n",
       "      <td>1.0</td>\n",
       "      <td>N</td>\n",
       "      <td>140</td>\n",
       "      <td>236</td>\n",
       "      <td>1</td>\n",
       "      <td>10.0</td>\n",
       "      <td>3.5</td>\n",
       "      <td>0.5</td>\n",
       "      <td>3.75</td>\n",
       "      <td>0.0</td>\n",
       "      <td>1.0</td>\n",
       "      <td>18.75</td>\n",
       "      <td>2.5</td>\n",
       "      <td>0.0</td>\n",
       "    </tr>\n",
       "    <tr>\n",
       "      <th>2</th>\n",
       "      <td>1</td>\n",
       "      <td>2024-01-01 00:17:06</td>\n",
       "      <td>2024-01-01 00:35:01</td>\n",
       "      <td>1.0</td>\n",
       "      <td>4.70</td>\n",
       "      <td>1.0</td>\n",
       "      <td>N</td>\n",
       "      <td>236</td>\n",
       "      <td>79</td>\n",
       "      <td>1</td>\n",
       "      <td>23.3</td>\n",
       "      <td>3.5</td>\n",
       "      <td>0.5</td>\n",
       "      <td>3.00</td>\n",
       "      <td>0.0</td>\n",
       "      <td>1.0</td>\n",
       "      <td>31.30</td>\n",
       "      <td>2.5</td>\n",
       "      <td>0.0</td>\n",
       "    </tr>\n",
       "    <tr>\n",
       "      <th>3</th>\n",
       "      <td>1</td>\n",
       "      <td>2024-01-01 00:36:38</td>\n",
       "      <td>2024-01-01 00:44:56</td>\n",
       "      <td>1.0</td>\n",
       "      <td>1.40</td>\n",
       "      <td>1.0</td>\n",
       "      <td>N</td>\n",
       "      <td>79</td>\n",
       "      <td>211</td>\n",
       "      <td>1</td>\n",
       "      <td>10.0</td>\n",
       "      <td>3.5</td>\n",
       "      <td>0.5</td>\n",
       "      <td>2.00</td>\n",
       "      <td>0.0</td>\n",
       "      <td>1.0</td>\n",
       "      <td>17.00</td>\n",
       "      <td>2.5</td>\n",
       "      <td>0.0</td>\n",
       "    </tr>\n",
       "    <tr>\n",
       "      <th>4</th>\n",
       "      <td>1</td>\n",
       "      <td>2024-01-01 00:46:51</td>\n",
       "      <td>2024-01-01 00:52:57</td>\n",
       "      <td>1.0</td>\n",
       "      <td>0.80</td>\n",
       "      <td>1.0</td>\n",
       "      <td>N</td>\n",
       "      <td>211</td>\n",
       "      <td>148</td>\n",
       "      <td>1</td>\n",
       "      <td>7.9</td>\n",
       "      <td>3.5</td>\n",
       "      <td>0.5</td>\n",
       "      <td>3.20</td>\n",
       "      <td>0.0</td>\n",
       "      <td>1.0</td>\n",
       "      <td>16.10</td>\n",
       "      <td>2.5</td>\n",
       "      <td>0.0</td>\n",
       "    </tr>\n",
       "  </tbody>\n",
       "</table>\n",
       "</div>"
      ],
      "text/plain": [
       "   VendorID  TpepPickupDatetime TpepDropoffDatetime  PassengerCount  \\\n",
       "0         2 2024-01-01 00:57:55 2024-01-01 01:17:43             1.0   \n",
       "1         1 2024-01-01 00:03:00 2024-01-01 00:09:36             1.0   \n",
       "2         1 2024-01-01 00:17:06 2024-01-01 00:35:01             1.0   \n",
       "3         1 2024-01-01 00:36:38 2024-01-01 00:44:56             1.0   \n",
       "4         1 2024-01-01 00:46:51 2024-01-01 00:52:57             1.0   \n",
       "\n",
       "   TripDistance  RatecodeID StoreAndFwdFlag  PULocationID  DOLocationID  \\\n",
       "0          1.72         1.0               N           186            79   \n",
       "1          1.80         1.0               N           140           236   \n",
       "2          4.70         1.0               N           236            79   \n",
       "3          1.40         1.0               N            79           211   \n",
       "4          0.80         1.0               N           211           148   \n",
       "\n",
       "   PaymentType  FareAmount  Extra  MtaTax  TipAmount  TollsAmount  \\\n",
       "0            2        17.7    1.0     0.5       0.00          0.0   \n",
       "1            1        10.0    3.5     0.5       3.75          0.0   \n",
       "2            1        23.3    3.5     0.5       3.00          0.0   \n",
       "3            1        10.0    3.5     0.5       2.00          0.0   \n",
       "4            1         7.9    3.5     0.5       3.20          0.0   \n",
       "\n",
       "   ImprovementSurcharge  TotalAmount  CongestionSurcharge  AirportFee  \n",
       "0                   1.0        22.70                  2.5         0.0  \n",
       "1                   1.0        18.75                  2.5         0.0  \n",
       "2                   1.0        31.30                  2.5         0.0  \n",
       "3                   1.0        17.00                  2.5         0.0  \n",
       "4                   1.0        16.10                  2.5         0.0  "
      ]
     },
     "execution_count": 12,
     "metadata": {},
     "output_type": "execute_result"
    }
   ],
   "source": [
    "pddf.head()"
   ]
  },
  {
   "cell_type": "code",
   "execution_count": 13,
   "id": "abb0e44c",
   "metadata": {},
   "outputs": [],
   "source": [
    "# %%timeit\n",
    "\n",
    "# pldf = pl.read_parquet(source = trip2401)"
   ]
  },
  {
   "cell_type": "code",
   "execution_count": 14,
   "id": "cb0933e1",
   "metadata": {},
   "outputs": [],
   "source": [
    "pldf = pl.read_parquet(source = trip2401)"
   ]
  },
  {
   "cell_type": "code",
   "execution_count": 15,
   "id": "036fa3d4",
   "metadata": {},
   "outputs": [
    {
     "data": {
      "text/plain": [
       "(2964624, 19)"
      ]
     },
     "execution_count": 15,
     "metadata": {},
     "output_type": "execute_result"
    }
   ],
   "source": [
    "pldf.shape"
   ]
  },
  {
   "cell_type": "code",
   "execution_count": 16,
   "id": "2c0199a6",
   "metadata": {},
   "outputs": [
    {
     "data": {
      "text/html": [
       "<div><style>\n",
       ".dataframe > thead > tr,\n",
       ".dataframe > tbody > tr {\n",
       "  text-align: right;\n",
       "  white-space: pre-wrap;\n",
       "}\n",
       "</style>\n",
       "<small>shape: (5, 19)</small><table border=\"1\" class=\"dataframe\"><thead><tr><th>VendorID</th><th>TpepPickupDatetime</th><th>TpepDropoffDatetime</th><th>PassengerCount</th><th>TripDistance</th><th>RatecodeID</th><th>StoreAndFwdFlag</th><th>PULocationID</th><th>DOLocationID</th><th>PaymentType</th><th>FareAmount</th><th>Extra</th><th>MtaTax</th><th>TipAmount</th><th>TollsAmount</th><th>ImprovementSurcharge</th><th>TotalAmount</th><th>CongestionSurcharge</th><th>AirportFee</th></tr><tr><td>i32</td><td>datetime[ns]</td><td>datetime[ns]</td><td>f64</td><td>f64</td><td>f64</td><td>str</td><td>i64</td><td>i64</td><td>i64</td><td>f64</td><td>f64</td><td>f64</td><td>f64</td><td>f64</td><td>f64</td><td>f64</td><td>f64</td><td>f64</td></tr></thead><tbody><tr><td>2</td><td>2024-01-01 00:57:55</td><td>2024-01-01 01:17:43</td><td>1.0</td><td>1.72</td><td>1.0</td><td>&quot;N&quot;</td><td>186</td><td>79</td><td>2</td><td>17.7</td><td>1.0</td><td>0.5</td><td>0.0</td><td>0.0</td><td>1.0</td><td>22.7</td><td>2.5</td><td>0.0</td></tr><tr><td>1</td><td>2024-01-01 00:03:00</td><td>2024-01-01 00:09:36</td><td>1.0</td><td>1.8</td><td>1.0</td><td>&quot;N&quot;</td><td>140</td><td>236</td><td>1</td><td>10.0</td><td>3.5</td><td>0.5</td><td>3.75</td><td>0.0</td><td>1.0</td><td>18.75</td><td>2.5</td><td>0.0</td></tr><tr><td>1</td><td>2024-01-01 00:17:06</td><td>2024-01-01 00:35:01</td><td>1.0</td><td>4.7</td><td>1.0</td><td>&quot;N&quot;</td><td>236</td><td>79</td><td>1</td><td>23.3</td><td>3.5</td><td>0.5</td><td>3.0</td><td>0.0</td><td>1.0</td><td>31.3</td><td>2.5</td><td>0.0</td></tr><tr><td>1</td><td>2024-01-01 00:36:38</td><td>2024-01-01 00:44:56</td><td>1.0</td><td>1.4</td><td>1.0</td><td>&quot;N&quot;</td><td>79</td><td>211</td><td>1</td><td>10.0</td><td>3.5</td><td>0.5</td><td>2.0</td><td>0.0</td><td>1.0</td><td>17.0</td><td>2.5</td><td>0.0</td></tr><tr><td>1</td><td>2024-01-01 00:46:51</td><td>2024-01-01 00:52:57</td><td>1.0</td><td>0.8</td><td>1.0</td><td>&quot;N&quot;</td><td>211</td><td>148</td><td>1</td><td>7.9</td><td>3.5</td><td>0.5</td><td>3.2</td><td>0.0</td><td>1.0</td><td>16.1</td><td>2.5</td><td>0.0</td></tr></tbody></table></div>"
      ],
      "text/plain": [
       "shape: (5, 19)\n",
       "┌──────────┬───────────┬───────────┬───────────┬───┬───────────┬───────────┬───────────┬───────────┐\n",
       "│ VendorID ┆ TpepPicku ┆ TpepDropo ┆ Passenger ┆ … ┆ Improveme ┆ TotalAmou ┆ Congestio ┆ AirportFe │\n",
       "│ ---      ┆ pDatetime ┆ ffDatetim ┆ Count     ┆   ┆ ntSurchar ┆ nt        ┆ nSurcharg ┆ e         │\n",
       "│ i32      ┆ ---       ┆ e         ┆ ---       ┆   ┆ ge        ┆ ---       ┆ e         ┆ ---       │\n",
       "│          ┆ datetime[ ┆ ---       ┆ f64       ┆   ┆ ---       ┆ f64       ┆ ---       ┆ f64       │\n",
       "│          ┆ ns]       ┆ datetime[ ┆           ┆   ┆ f64       ┆           ┆ f64       ┆           │\n",
       "│          ┆           ┆ ns]       ┆           ┆   ┆           ┆           ┆           ┆           │\n",
       "╞══════════╪═══════════╪═══════════╪═══════════╪═══╪═══════════╪═══════════╪═══════════╪═══════════╡\n",
       "│ 2        ┆ 2024-01-0 ┆ 2024-01-0 ┆ 1.0       ┆ … ┆ 1.0       ┆ 22.7      ┆ 2.5       ┆ 0.0       │\n",
       "│          ┆ 1         ┆ 1         ┆           ┆   ┆           ┆           ┆           ┆           │\n",
       "│          ┆ 00:57:55  ┆ 01:17:43  ┆           ┆   ┆           ┆           ┆           ┆           │\n",
       "│ 1        ┆ 2024-01-0 ┆ 2024-01-0 ┆ 1.0       ┆ … ┆ 1.0       ┆ 18.75     ┆ 2.5       ┆ 0.0       │\n",
       "│          ┆ 1         ┆ 1         ┆           ┆   ┆           ┆           ┆           ┆           │\n",
       "│          ┆ 00:03:00  ┆ 00:09:36  ┆           ┆   ┆           ┆           ┆           ┆           │\n",
       "│ 1        ┆ 2024-01-0 ┆ 2024-01-0 ┆ 1.0       ┆ … ┆ 1.0       ┆ 31.3      ┆ 2.5       ┆ 0.0       │\n",
       "│          ┆ 1         ┆ 1         ┆           ┆   ┆           ┆           ┆           ┆           │\n",
       "│          ┆ 00:17:06  ┆ 00:35:01  ┆           ┆   ┆           ┆           ┆           ┆           │\n",
       "│ 1        ┆ 2024-01-0 ┆ 2024-01-0 ┆ 1.0       ┆ … ┆ 1.0       ┆ 17.0      ┆ 2.5       ┆ 0.0       │\n",
       "│          ┆ 1         ┆ 1         ┆           ┆   ┆           ┆           ┆           ┆           │\n",
       "│          ┆ 00:36:38  ┆ 00:44:56  ┆           ┆   ┆           ┆           ┆           ┆           │\n",
       "│ 1        ┆ 2024-01-0 ┆ 2024-01-0 ┆ 1.0       ┆ … ┆ 1.0       ┆ 16.1      ┆ 2.5       ┆ 0.0       │\n",
       "│          ┆ 1         ┆ 1         ┆           ┆   ┆           ┆           ┆           ┆           │\n",
       "│          ┆ 00:46:51  ┆ 00:52:57  ┆           ┆   ┆           ┆           ┆           ┆           │\n",
       "└──────────┴───────────┴───────────┴───────────┴───┴───────────┴───────────┴───────────┴───────────┘"
      ]
     },
     "execution_count": 16,
     "metadata": {},
     "output_type": "execute_result"
    }
   ],
   "source": [
    "pldf.head()"
   ]
  },
  {
   "cell_type": "code",
   "execution_count": 17,
   "id": "f0ea2ab3",
   "metadata": {},
   "outputs": [],
   "source": [
    "plldf = pl.scan_parquet(source = trip2401)"
   ]
  },
  {
   "cell_type": "code",
   "execution_count": 18,
   "id": "1a159f6b",
   "metadata": {},
   "outputs": [
    {
     "data": {
      "text/html": [
       "<h4>NAIVE QUERY PLAN</h4><p>run <b>LazyFrame.show_graph()</b> to see the optimized version</p><?xml version=\"1.0\" encoding=\"UTF-8\" standalone=\"no\"?>\n",
       "<!DOCTYPE svg PUBLIC \"-//W3C//DTD SVG 1.1//EN\"\n",
       " \"http://www.w3.org/Graphics/SVG/1.1/DTD/svg11.dtd\">\n",
       "<!-- Generated by graphviz version 10.0.1 (20240210.2158)\n",
       " -->\n",
       "<!-- Title: polars_query Pages: 1 -->\n",
       "<svg width=\"650pt\" height=\"66pt\"\n",
       " viewBox=\"0.00 0.00 650.25 65.50\" xmlns=\"http://www.w3.org/2000/svg\" xmlns:xlink=\"http://www.w3.org/1999/xlink\">\n",
       "<g id=\"graph0\" class=\"graph\" transform=\"scale(1 1) rotate(0) translate(4 61.5)\">\n",
       "<title>polars_query</title>\n",
       "<polygon fill=\"white\" stroke=\"none\" points=\"-4,4 -4,-61.5 646.25,-61.5 646.25,4 -4,4\"/>\n",
       "<!-- [Parquet SCAN /Users/nicolaepopescul/Desktop/streams/20240512_polars/input/yellow_tripdata_2024&#45;01.parquet;\n",
       "π */19;\n",
       "σ &#45;] -->\n",
       "<g id=\"node1\" class=\"node\">\n",
       "<title>[Parquet SCAN /Users/nicolaepopescul/Desktop/streams/20240512_polars/input/yellow_tripdata_2024&#45;01.parquet;\n",
       "π */19;\n",
       "σ &#45;]</title>\n",
       "<polygon fill=\"none\" stroke=\"black\" points=\"642.25,-57.5 0,-57.5 0,0 642.25,0 642.25,-57.5\"/>\n",
       "<text text-anchor=\"middle\" x=\"321.12\" y=\"-40.2\" font-family=\"Times,serif\" font-size=\"14.00\">[Parquet SCAN /Users/nicolaepopescul/Desktop/streams/20240512_polars/input/yellow_tripdata_2024&#45;01.parquet;</text>\n",
       "<text text-anchor=\"middle\" x=\"321.12\" y=\"-23.7\" font-family=\"Times,serif\" font-size=\"14.00\">π */19;</text>\n",
       "<text text-anchor=\"middle\" x=\"321.12\" y=\"-7.2\" font-family=\"Times,serif\" font-size=\"14.00\">σ &#45;]</text>\n",
       "</g>\n",
       "</g>\n",
       "</svg>\n"
      ],
      "text/plain": [
       "<LazyFrame [19 cols, {\"VendorID\": Int32 … \"AirportFee\": Float64}] at 0x104310D90>"
      ]
     },
     "execution_count": 18,
     "metadata": {},
     "output_type": "execute_result"
    }
   ],
   "source": [
    "plldf"
   ]
  },
  {
   "cell_type": "markdown",
   "id": "6aab4a71",
   "metadata": {},
   "source": [
    "# Fixing Data Types"
   ]
  },
  {
   "cell_type": "code",
   "execution_count": 19,
   "id": "4c881e02",
   "metadata": {},
   "outputs": [],
   "source": [
    "def get_file_types(input_folder):\n",
    "\n",
    "    file_schemas = []\n",
    "\n",
    "    for file_name in os.listdir(input_folder):\n",
    "\n",
    "        file_path = os.path.join(input_folder, file_name)\n",
    "\n",
    "        try:\n",
    "            pldf_ = pl.read_parquet(file_path)\n",
    "            schema_ = pldf_.schema\n",
    "\n",
    "            columns = list(schema_.keys())\n",
    "            types = list(schema_.values())\n",
    "            file_names = [file_name for i in range(len(columns))]\n",
    "            \n",
    "            for c, t, f in zip(columns, types, file_names):\n",
    "                file_schemas.append((c, t, f))\n",
    "\n",
    "        except:\n",
    "            print(file_path)\n",
    "\n",
    "    return file_schemas"
   ]
  },
  {
   "cell_type": "code",
   "execution_count": 20,
   "id": "56527752",
   "metadata": {},
   "outputs": [],
   "source": [
    "df = pd.DataFrame(\n",
    "    data = get_file_types(input_folder=PATH_INPUT_FOLDER),\n",
    "    columns = [\"Col\", \"Type\", \"File\"]\n",
    ")"
   ]
  },
  {
   "cell_type": "code",
   "execution_count": 21,
   "id": "4e6d195e",
   "metadata": {},
   "outputs": [
    {
     "data": {
      "text/html": [
       "<div>\n",
       "<style scoped>\n",
       "    .dataframe tbody tr th:only-of-type {\n",
       "        vertical-align: middle;\n",
       "    }\n",
       "\n",
       "    .dataframe tbody tr th {\n",
       "        vertical-align: top;\n",
       "    }\n",
       "\n",
       "    .dataframe thead th {\n",
       "        text-align: right;\n",
       "    }\n",
       "</style>\n",
       "<table border=\"1\" class=\"dataframe\">\n",
       "  <thead>\n",
       "    <tr style=\"text-align: right;\">\n",
       "      <th></th>\n",
       "      <th>Col</th>\n",
       "      <th>Type</th>\n",
       "      <th>File</th>\n",
       "    </tr>\n",
       "  </thead>\n",
       "  <tbody>\n",
       "    <tr>\n",
       "      <th>0</th>\n",
       "      <td>VendorID</td>\n",
       "      <td>Int32</td>\n",
       "      <td>yellow_tripdata_2023-06.parquet</td>\n",
       "    </tr>\n",
       "    <tr>\n",
       "      <th>1</th>\n",
       "      <td>TpepPickupDatetime</td>\n",
       "      <td>Datetime(time_unit='ns', time_zone=None)</td>\n",
       "      <td>yellow_tripdata_2023-06.parquet</td>\n",
       "    </tr>\n",
       "    <tr>\n",
       "      <th>2</th>\n",
       "      <td>TpepDropoffDatetime</td>\n",
       "      <td>Datetime(time_unit='ns', time_zone=None)</td>\n",
       "      <td>yellow_tripdata_2023-06.parquet</td>\n",
       "    </tr>\n",
       "    <tr>\n",
       "      <th>3</th>\n",
       "      <td>PassengerCount</td>\n",
       "      <td>Float64</td>\n",
       "      <td>yellow_tripdata_2023-06.parquet</td>\n",
       "    </tr>\n",
       "    <tr>\n",
       "      <th>4</th>\n",
       "      <td>TripDistance</td>\n",
       "      <td>Float64</td>\n",
       "      <td>yellow_tripdata_2023-06.parquet</td>\n",
       "    </tr>\n",
       "  </tbody>\n",
       "</table>\n",
       "</div>"
      ],
      "text/plain": [
       "                   Col                                      Type  \\\n",
       "0             VendorID                                     Int32   \n",
       "1   TpepPickupDatetime  Datetime(time_unit='ns', time_zone=None)   \n",
       "2  TpepDropoffDatetime  Datetime(time_unit='ns', time_zone=None)   \n",
       "3       PassengerCount                                   Float64   \n",
       "4         TripDistance                                   Float64   \n",
       "\n",
       "                              File  \n",
       "0  yellow_tripdata_2023-06.parquet  \n",
       "1  yellow_tripdata_2023-06.parquet  \n",
       "2  yellow_tripdata_2023-06.parquet  \n",
       "3  yellow_tripdata_2023-06.parquet  \n",
       "4  yellow_tripdata_2023-06.parquet  "
      ]
     },
     "execution_count": 21,
     "metadata": {},
     "output_type": "execute_result"
    }
   ],
   "source": [
    "df.head()"
   ]
  },
  {
   "cell_type": "code",
   "execution_count": 22,
   "id": "3eed8b72",
   "metadata": {},
   "outputs": [
    {
     "data": {
      "text/plain": [
       "Col\n",
       "VendorID                26\n",
       "FareAmount              26\n",
       "CongestionSurcharge     26\n",
       "TotalAmount             26\n",
       "ImprovementSurcharge    26\n",
       "TollsAmount             26\n",
       "TipAmount               26\n",
       "MtaTax                  26\n",
       "Extra                   26\n",
       "PaymentType             26\n",
       "TpepPickupDatetime      26\n",
       "DOLocationID            26\n",
       "PULocationID            26\n",
       "StoreAndFwdFlag         26\n",
       "RatecodeID              26\n",
       "TripDistance            26\n",
       "PassengerCount          26\n",
       "TpepDropoffDatetime     26\n",
       "AirportFee              26\n",
       "Name: count, dtype: int64"
      ]
     },
     "execution_count": 22,
     "metadata": {},
     "output_type": "execute_result"
    }
   ],
   "source": [
    "(\n",
    "    df[\"Col\"].value_counts()\n",
    ")"
   ]
  },
  {
   "cell_type": "code",
   "execution_count": 23,
   "id": "23a9adb3",
   "metadata": {},
   "outputs": [
    {
     "data": {
      "text/plain": [
       "19"
      ]
     },
     "execution_count": 23,
     "metadata": {},
     "output_type": "execute_result"
    }
   ],
   "source": [
    "df[\"Col\"].nunique()"
   ]
  },
  {
   "cell_type": "code",
   "execution_count": 24,
   "id": "b58eb517",
   "metadata": {},
   "outputs": [
    {
     "data": {
      "text/plain": [
       "File\n",
       "yellow_tripdata_2023-06.parquet    19\n",
       "yellow_tripdata_2022-10.parquet    19\n",
       "yellow_tripdata_2022-05.parquet    19\n",
       "yellow_tripdata_2024-01.parquet    19\n",
       "yellow_tripdata_2023-02.parquet    19\n",
       "yellow_tripdata_2023-12.parquet    19\n",
       "yellow_tripdata_2022-04.parquet    19\n",
       "yellow_tripdata_2023-09.parquet    19\n",
       "yellow_tripdata_2024-02.parquet    19\n",
       "yellow_tripdata_2023-10.parquet    19\n",
       "yellow_tripdata_2022-06.parquet    19\n",
       "yellow_tripdata_2023-01.parquet    19\n",
       "yellow_tripdata_2023-11.parquet    19\n",
       "yellow_tripdata_2022-07.parquet    19\n",
       "yellow_tripdata_2023-08.parquet    19\n",
       "yellow_tripdata_2022-12.parquet    19\n",
       "yellow_tripdata_2022-02.parquet    19\n",
       "yellow_tripdata_2023-04.parquet    19\n",
       "yellow_tripdata_2022-03.parquet    19\n",
       "yellow_tripdata_2023-05.parquet    19\n",
       "yellow_tripdata_2022-11.parquet    19\n",
       "yellow_tripdata_2022-01.parquet    19\n",
       "yellow_tripdata_2023-07.parquet    19\n",
       "yellow_tripdata_2022-08.parquet    19\n",
       "yellow_tripdata_2022-09.parquet    19\n",
       "yellow_tripdata_2023-03.parquet    19\n",
       "Name: count, dtype: int64"
      ]
     },
     "execution_count": 24,
     "metadata": {},
     "output_type": "execute_result"
    }
   ],
   "source": [
    "(\n",
    "    df[\"File\"].value_counts()\n",
    ")"
   ]
  },
  {
   "cell_type": "code",
   "execution_count": 25,
   "id": "23aa7356",
   "metadata": {},
   "outputs": [
    {
     "data": {
      "text/html": [
       "<div>\n",
       "<style scoped>\n",
       "    .dataframe tbody tr th:only-of-type {\n",
       "        vertical-align: middle;\n",
       "    }\n",
       "\n",
       "    .dataframe tbody tr th {\n",
       "        vertical-align: top;\n",
       "    }\n",
       "\n",
       "    .dataframe thead th {\n",
       "        text-align: right;\n",
       "    }\n",
       "</style>\n",
       "<table border=\"1\" class=\"dataframe\">\n",
       "  <thead>\n",
       "    <tr style=\"text-align: right;\">\n",
       "      <th></th>\n",
       "      <th>nr_unique_types</th>\n",
       "      <th>unique_types</th>\n",
       "    </tr>\n",
       "    <tr>\n",
       "      <th>Col</th>\n",
       "      <th></th>\n",
       "      <th></th>\n",
       "    </tr>\n",
       "  </thead>\n",
       "  <tbody>\n",
       "    <tr>\n",
       "      <th>VendorID</th>\n",
       "      <td>2</td>\n",
       "      <td>{Int32, Int64}</td>\n",
       "    </tr>\n",
       "  </tbody>\n",
       "</table>\n",
       "</div>"
      ],
      "text/plain": [
       "          nr_unique_types    unique_types\n",
       "Col                                      \n",
       "VendorID                2  {Int32, Int64}"
      ]
     },
     "execution_count": 25,
     "metadata": {},
     "output_type": "execute_result"
    }
   ],
   "source": [
    "(\n",
    "    df\n",
    "    .groupby([\"Col\"])\n",
    "    .agg(\n",
    "        nr_unique_types = (\"Type\", lambda series: len(set(series))),\n",
    "        unique_types = (\"Type\", lambda series: set(series))\n",
    "    )\n",
    "    .pipe(\n",
    "        lambda df: df[df[\"nr_unique_types\"] != 1]\n",
    "    )\n",
    ")"
   ]
  },
  {
   "cell_type": "code",
   "execution_count": 56,
   "id": "e6d99de5",
   "metadata": {},
   "outputs": [],
   "source": [
    "# lf = (\n",
    "#     df[\n",
    "#         (df[\"Col\"] == \"VendorID\") & (df[\"Type\"] == df[\"Type\"].iloc[0])\n",
    "#     ][\"File\"].values.tolist()\n",
    "# )"
   ]
  },
  {
   "cell_type": "code",
   "execution_count": 58,
   "id": "2300f3e4",
   "metadata": {},
   "outputs": [],
   "source": [
    "# for f in lf:\n",
    "#     fp = os.path.join(PATH_INPUT_FOLDER, f)\n",
    "#     (\n",
    "#         pl.read_parquet(fp)\n",
    "#         .with_columns(pl.col(\"VendorID\").cast(pl.Int64))\n",
    "#         .write_parquet(fp)\n",
    "#     )"
   ]
  },
  {
   "cell_type": "code",
   "execution_count": 59,
   "id": "85ecae5a",
   "metadata": {},
   "outputs": [],
   "source": [
    "def get_default_rename_dict():\n",
    "    \n",
    "    rename_dict = {\n",
    "        \n",
    "        \"VendorID\":\"VendorID\",\n",
    "        \"tpep_pickup_datetime\":\"TpepPickupDatetime\",\n",
    "        \"congestion_surcharge\":\"CongestionSurcharge\",\n",
    "        \"total_amount\":\"TotalAmount\",\n",
    "        \"improvement_surcharge\":\"ImprovementSurcharge\",\n",
    "        \"tolls_amount\":\"TollsAmount\",\n",
    "        \"tip_amount\":\"TipAmount\",\n",
    "        \"mta_tax\":\"MtaTax\",\n",
    "        \"extra\":\"Extra\",\n",
    "        \"fare_amount\":\"FareAmount\",\n",
    "        \"payment_type\":\"PaymentType\",\n",
    "        \"DOLocationID\":\"DOLocationID\",\n",
    "        \"PULocationID\":\"PULocationID\",\n",
    "        \"store_and_fwd_flag\":\"StoreAndFwdFlag\",\n",
    "        \"RatecodeID\":\"RatecodeID\",\n",
    "        \"trip_distance\":\"TripDistance\",\n",
    "        \"passenger_count\":\"PassengerCount\",\n",
    "        \"tpep_dropoff_datetime\":\"TpepDropoffDatetime\",\n",
    "        \"Airport_fee\":\"AirportFee\"\n",
    "    }\n",
    "    \n",
    "    return rename_dict"
   ]
  },
  {
   "cell_type": "code",
   "execution_count": 60,
   "id": "0b9d27cd",
   "metadata": {},
   "outputs": [],
   "source": [
    "def get_default_rename_dict_2022():\n",
    "    \n",
    "    rename_dict = {\n",
    "        \"VendorID\":\"VendorID\",\n",
    "        \"tpep_pickup_datetime\":\"TpepPickupDatetime\",\n",
    "        \"congestion_surcharge\":\"CongestionSurcharge\",\n",
    "        \"total_amount\":\"TotalAmount\",\n",
    "        \"improvement_surcharge\":\"ImprovementSurcharge\", # cambia\n",
    "        \"tolls_amount\":\"TollsAmount\", # peaje\n",
    "        \"tip_amount\":\"TipAmount\",\n",
    "        \"mta_tax\":\"MtaTax\",\n",
    "        \"extra\":\"Extra\",\n",
    "        \"fare_amount\":\"FareAmount\",\n",
    "        \"payment_type\":\"PaymentType\",\n",
    "        \"DOLocationID\":\"DOLocationID\",\n",
    "        \"PULocationID\":\"PULocationID\",\n",
    "        \"store_and_fwd_flag\":\"StoreAndFwdFlag\",\n",
    "        \"RatecodeID\":\"RatecodeID\",\n",
    "        \"trip_distance\":\"TripDistance\",\n",
    "        \"passenger_count\":\"PassengerCount\",\n",
    "        \"tpep_dropoff_datetime\":\"TpepDropoffDatetime\",\n",
    "        \"airport_fee\":\"AirportFee\",\n",
    "    }\n",
    "    \n",
    "    return rename_dict"
   ]
  },
  {
   "cell_type": "code",
   "execution_count": 61,
   "id": "2e738699",
   "metadata": {},
   "outputs": [],
   "source": [
    "def standarize_files(input_folder, year):\n",
    "    \n",
    "    for file_name in os.listdir(input_folder):\n",
    "\n",
    "        file_path = os.path.join(input_folder, file_name)\n",
    "        \n",
    "        rename_dict = get_default_rename_dict() if year != 2022 else get_default_rename_dict_2022()\n",
    "        pldf = pl.read_parquet(file_path)\n",
    "        columns = pldf.columns\n",
    "        \n",
    "        if \"airport_fee\" in columns and year != 2022:\n",
    "            _ = rename_dict.pop(\"Airport_fee\")\n",
    "            rename_dict[\"airport_fee\"] = \"AirportFee\"\n",
    "            \n",
    "        pldf = (\n",
    "            pldf\n",
    "            .rename(rename_dict)\n",
    "            .with_columns(\n",
    "                pl.col(\"DOLocationID\").cast(pl.Int64),\n",
    "                pl.col(\"PULocationID\").cast(pl.Int64),\n",
    "                pl.col(\"RatecodeID\").cast(pl.Float64),\n",
    "                pl.col(\"PassengerCount\").cast(pl.Float64)\n",
    "            )\n",
    "        )\n",
    "        \n",
    "        pldf.write_parquet(file = os.path.join(input_folder, file_name))"
   ]
  },
  {
   "cell_type": "code",
   "execution_count": 62,
   "id": "6c6d7f8e",
   "metadata": {},
   "outputs": [],
   "source": [
    "# standarize_files(input_folder=PATH_INPUT_FOLDER)"
   ]
  },
  {
   "cell_type": "code",
   "execution_count": 63,
   "id": "82c260c0",
   "metadata": {},
   "outputs": [],
   "source": [
    "# standarize_files(input_folder=PATH_INPUT_FOLDER, year=2022)"
   ]
  },
  {
   "cell_type": "code",
   "execution_count": 64,
   "id": "d42d9696",
   "metadata": {},
   "outputs": [],
   "source": [
    "# (\n",
    "#     pl.read_parquet(os.path.join(PATH_INPUT_FOLDER, \"yellow_tripdata_2023-01.parquet\"))\n",
    "#     .rename({\"Airport_fee\":\"AirportFee\"})\n",
    "#     .write_parquet(os.path.join(PATH_INPUT_FOLDER, \"yellow_tripdata_2023-01.parquet\"))\n",
    "# )"
   ]
  },
  {
   "cell_type": "code",
   "execution_count": 65,
   "id": "300ee851",
   "metadata": {},
   "outputs": [],
   "source": [
    "# (\n",
    "#     pl.read_parquet(source=os.path.join(PATH_INPUT_FOLDER, \"yellow_tripdata_2023-01.parquet\"))\n",
    "#     .with_columns(pl.col(\"VendorID\").cast(pl.Int32))\n",
    "#     .write_parquet(os.path.join(PATH_INPUT_FOLDER, \"yellow_tripdata_2023-01.parquet\"))\n",
    "# )"
   ]
  },
  {
   "cell_type": "code",
   "execution_count": 66,
   "id": "8b826d22",
   "metadata": {},
   "outputs": [],
   "source": [
    "pldf = pl.read_parquet(source = f\"{PATH_INPUT_FOLDER}/yellow_tripdata_*.parquet\")"
   ]
  },
  {
   "cell_type": "code",
   "execution_count": 67,
   "id": "daa7c2ad",
   "metadata": {},
   "outputs": [
    {
     "data": {
      "text/html": [
       "<div><style>\n",
       ".dataframe > thead > tr,\n",
       ".dataframe > tbody > tr {\n",
       "  text-align: right;\n",
       "  white-space: pre-wrap;\n",
       "}\n",
       "</style>\n",
       "<small>shape: (5, 19)</small><table border=\"1\" class=\"dataframe\"><thead><tr><th>VendorID</th><th>TpepPickupDatetime</th><th>TpepDropoffDatetime</th><th>PassengerCount</th><th>TripDistance</th><th>RatecodeID</th><th>StoreAndFwdFlag</th><th>PULocationID</th><th>DOLocationID</th><th>PaymentType</th><th>FareAmount</th><th>Extra</th><th>MtaTax</th><th>TipAmount</th><th>TollsAmount</th><th>ImprovementSurcharge</th><th>TotalAmount</th><th>CongestionSurcharge</th><th>AirportFee</th></tr><tr><td>i64</td><td>datetime[ns]</td><td>datetime[ns]</td><td>f64</td><td>f64</td><td>f64</td><td>str</td><td>i64</td><td>i64</td><td>i64</td><td>f64</td><td>f64</td><td>f64</td><td>f64</td><td>f64</td><td>f64</td><td>f64</td><td>f64</td><td>f64</td></tr></thead><tbody><tr><td>1</td><td>2022-01-01 00:35:40</td><td>2022-01-01 00:53:29</td><td>2.0</td><td>3.8</td><td>1.0</td><td>&quot;N&quot;</td><td>142</td><td>236</td><td>1</td><td>14.5</td><td>3.0</td><td>0.5</td><td>3.65</td><td>0.0</td><td>0.3</td><td>21.95</td><td>2.5</td><td>0.0</td></tr><tr><td>1</td><td>2022-01-01 00:33:43</td><td>2022-01-01 00:42:07</td><td>1.0</td><td>2.1</td><td>1.0</td><td>&quot;N&quot;</td><td>236</td><td>42</td><td>1</td><td>8.0</td><td>0.5</td><td>0.5</td><td>4.0</td><td>0.0</td><td>0.3</td><td>13.3</td><td>0.0</td><td>0.0</td></tr><tr><td>2</td><td>2022-01-01 00:53:21</td><td>2022-01-01 01:02:19</td><td>1.0</td><td>0.97</td><td>1.0</td><td>&quot;N&quot;</td><td>166</td><td>166</td><td>1</td><td>7.5</td><td>0.5</td><td>0.5</td><td>1.76</td><td>0.0</td><td>0.3</td><td>10.56</td><td>0.0</td><td>0.0</td></tr><tr><td>2</td><td>2022-01-01 00:25:21</td><td>2022-01-01 00:35:23</td><td>1.0</td><td>1.09</td><td>1.0</td><td>&quot;N&quot;</td><td>114</td><td>68</td><td>2</td><td>8.0</td><td>0.5</td><td>0.5</td><td>0.0</td><td>0.0</td><td>0.3</td><td>11.8</td><td>2.5</td><td>0.0</td></tr><tr><td>2</td><td>2022-01-01 00:36:48</td><td>2022-01-01 01:14:20</td><td>1.0</td><td>4.3</td><td>1.0</td><td>&quot;N&quot;</td><td>68</td><td>163</td><td>1</td><td>23.5</td><td>0.5</td><td>0.5</td><td>3.0</td><td>0.0</td><td>0.3</td><td>30.3</td><td>2.5</td><td>0.0</td></tr></tbody></table></div>"
      ],
      "text/plain": [
       "shape: (5, 19)\n",
       "┌──────────┬───────────┬───────────┬───────────┬───┬───────────┬───────────┬───────────┬───────────┐\n",
       "│ VendorID ┆ TpepPicku ┆ TpepDropo ┆ Passenger ┆ … ┆ Improveme ┆ TotalAmou ┆ Congestio ┆ AirportFe │\n",
       "│ ---      ┆ pDatetime ┆ ffDatetim ┆ Count     ┆   ┆ ntSurchar ┆ nt        ┆ nSurcharg ┆ e         │\n",
       "│ i64      ┆ ---       ┆ e         ┆ ---       ┆   ┆ ge        ┆ ---       ┆ e         ┆ ---       │\n",
       "│          ┆ datetime[ ┆ ---       ┆ f64       ┆   ┆ ---       ┆ f64       ┆ ---       ┆ f64       │\n",
       "│          ┆ ns]       ┆ datetime[ ┆           ┆   ┆ f64       ┆           ┆ f64       ┆           │\n",
       "│          ┆           ┆ ns]       ┆           ┆   ┆           ┆           ┆           ┆           │\n",
       "╞══════════╪═══════════╪═══════════╪═══════════╪═══╪═══════════╪═══════════╪═══════════╪═══════════╡\n",
       "│ 1        ┆ 2022-01-0 ┆ 2022-01-0 ┆ 2.0       ┆ … ┆ 0.3       ┆ 21.95     ┆ 2.5       ┆ 0.0       │\n",
       "│          ┆ 1         ┆ 1         ┆           ┆   ┆           ┆           ┆           ┆           │\n",
       "│          ┆ 00:35:40  ┆ 00:53:29  ┆           ┆   ┆           ┆           ┆           ┆           │\n",
       "│ 1        ┆ 2022-01-0 ┆ 2022-01-0 ┆ 1.0       ┆ … ┆ 0.3       ┆ 13.3      ┆ 0.0       ┆ 0.0       │\n",
       "│          ┆ 1         ┆ 1         ┆           ┆   ┆           ┆           ┆           ┆           │\n",
       "│          ┆ 00:33:43  ┆ 00:42:07  ┆           ┆   ┆           ┆           ┆           ┆           │\n",
       "│ 2        ┆ 2022-01-0 ┆ 2022-01-0 ┆ 1.0       ┆ … ┆ 0.3       ┆ 10.56     ┆ 0.0       ┆ 0.0       │\n",
       "│          ┆ 1         ┆ 1         ┆           ┆   ┆           ┆           ┆           ┆           │\n",
       "│          ┆ 00:53:21  ┆ 01:02:19  ┆           ┆   ┆           ┆           ┆           ┆           │\n",
       "│ 2        ┆ 2022-01-0 ┆ 2022-01-0 ┆ 1.0       ┆ … ┆ 0.3       ┆ 11.8      ┆ 2.5       ┆ 0.0       │\n",
       "│          ┆ 1         ┆ 1         ┆           ┆   ┆           ┆           ┆           ┆           │\n",
       "│          ┆ 00:25:21  ┆ 00:35:23  ┆           ┆   ┆           ┆           ┆           ┆           │\n",
       "│ 2        ┆ 2022-01-0 ┆ 2022-01-0 ┆ 1.0       ┆ … ┆ 0.3       ┆ 30.3      ┆ 2.5       ┆ 0.0       │\n",
       "│          ┆ 1         ┆ 1         ┆           ┆   ┆           ┆           ┆           ┆           │\n",
       "│          ┆ 00:36:48  ┆ 01:14:20  ┆           ┆   ┆           ┆           ┆           ┆           │\n",
       "└──────────┴───────────┴───────────┴───────────┴───┴───────────┴───────────┴───────────┴───────────┘"
      ]
     },
     "execution_count": 67,
     "metadata": {},
     "output_type": "execute_result"
    }
   ],
   "source": [
    "pldf.head()"
   ]
  },
  {
   "cell_type": "code",
   "execution_count": 68,
   "id": "9ed03a94",
   "metadata": {},
   "outputs": [
    {
     "data": {
      "text/plain": [
       "(83938474, 19)"
      ]
     },
     "execution_count": 68,
     "metadata": {},
     "output_type": "execute_result"
    }
   ],
   "source": [
    "pldf.shape"
   ]
  },
  {
   "cell_type": "code",
   "execution_count": null,
   "id": "52f0bfd3",
   "metadata": {},
   "outputs": [],
   "source": []
  },
  {
   "cell_type": "code",
   "execution_count": null,
   "id": "eb2754e3",
   "metadata": {},
   "outputs": [],
   "source": [
    "# EAGER Mode -> pandas"
   ]
  },
  {
   "cell_type": "code",
   "execution_count": null,
   "id": "4ca12eee",
   "metadata": {},
   "outputs": [],
   "source": [
    "pldf.head()"
   ]
  },
  {
   "cell_type": "code",
   "execution_count": null,
   "id": "82c4edbd",
   "metadata": {},
   "outputs": [],
   "source": [
    "os.listdir(PATH_INPUT_FOLDER)"
   ]
  },
  {
   "cell_type": "code",
   "execution_count": null,
   "id": "76fa22ae",
   "metadata": {},
   "outputs": [],
   "source": [
    "PATH_INPUT_FOLDER"
   ]
  },
  {
   "cell_type": "code",
   "execution_count": null,
   "id": "f8dd5925",
   "metadata": {},
   "outputs": [],
   "source": [
    "fs = [os.path.join(os.path.join(CWD, \"input\"), f) for f in os.listdir(os.path.join(CWD, \"input\"))] +\\\n",
    "[os.path.join(os.path.join(CWD, \"input2\"), f) for f in os.listdir(os.path.join(CWD, \"input2\"))]"
   ]
  },
  {
   "cell_type": "code",
   "execution_count": null,
   "id": "ee33723f",
   "metadata": {},
   "outputs": [],
   "source": [
    "plldf = pl.scan_parquet(\n",
    "    source = fs\n",
    ")"
   ]
  },
  {
   "cell_type": "code",
   "execution_count": null,
   "id": "1f3f956a",
   "metadata": {},
   "outputs": [],
   "source": [
    "plldf"
   ]
  },
  {
   "cell_type": "code",
   "execution_count": null,
   "id": "d9c12cf2",
   "metadata": {},
   "outputs": [],
   "source": [
    "plldf.schema"
   ]
  },
  {
   "cell_type": "code",
   "execution_count": null,
   "id": "ce4ce57d",
   "metadata": {},
   "outputs": [],
   "source": [
    "(\n",
    "    plldf\n",
    "    \n",
    ")"
   ]
  },
  {
   "cell_type": "code",
   "execution_count": null,
   "id": "8a7e58b2",
   "metadata": {},
   "outputs": [],
   "source": [
    "(\n",
    "    plldf\n",
    "    .describe()\n",
    ")"
   ]
  },
  {
   "cell_type": "code",
   "execution_count": null,
   "id": "13c5b503",
   "metadata": {},
   "outputs": [],
   "source": [
    "# %%timeit\n",
    "\n",
    "# (\n",
    "#     plldf\n",
    "#     .describe()\n",
    "# )\n",
    "\n",
    "### 12.5 s ± 628 ms per loop (mean ± std. dev. of 7 runs, 1 loop each)"
   ]
  },
  {
   "cell_type": "code",
   "execution_count": null,
   "id": "5ecbad5a",
   "metadata": {},
   "outputs": [],
   "source": [
    "# pddf = pd.concat(\n",
    "#     [\n",
    "#         pd.read_parquet(os.path.join(PATH_INPUT_FOLDER, f)) for f in os.listdir(PATH_INPUT_FOLDER)\n",
    "#     ]\n",
    "# )"
   ]
  },
  {
   "cell_type": "code",
   "execution_count": null,
   "id": "40ac94ae",
   "metadata": {},
   "outputs": [],
   "source": [
    "# pddf.shape"
   ]
  },
  {
   "cell_type": "code",
   "execution_count": null,
   "id": "bcb448f3",
   "metadata": {},
   "outputs": [],
   "source": [
    "# %%timeit\n",
    "\n",
    "# pddf.describe()\n",
    "\n",
    "### 25.2 s ± 813 ms per loop (mean ± std. dev. of 7 runs, 1 loop each)"
   ]
  },
  {
   "cell_type": "code",
   "execution_count": null,
   "id": "23955183",
   "metadata": {},
   "outputs": [],
   "source": [
    "# pddf.describe()"
   ]
  },
  {
   "cell_type": "code",
   "execution_count": null,
   "id": "79ce3b23",
   "metadata": {},
   "outputs": [],
   "source": [
    "# pddf.head()"
   ]
  },
  {
   "cell_type": "code",
   "execution_count": null,
   "id": "e7889134",
   "metadata": {},
   "outputs": [],
   "source": []
  },
  {
   "cell_type": "code",
   "execution_count": null,
   "id": "563e2c62",
   "metadata": {},
   "outputs": [],
   "source": []
  },
  {
   "cell_type": "code",
   "execution_count": null,
   "id": "95e2cef9",
   "metadata": {},
   "outputs": [],
   "source": []
  },
  {
   "cell_type": "code",
   "execution_count": null,
   "id": "11bc81b8",
   "metadata": {},
   "outputs": [],
   "source": []
  },
  {
   "cell_type": "code",
   "execution_count": null,
   "id": "c6a9822d",
   "metadata": {},
   "outputs": [],
   "source": []
  },
  {
   "cell_type": "code",
   "execution_count": null,
   "id": "c02ec4db",
   "metadata": {},
   "outputs": [],
   "source": []
  },
  {
   "cell_type": "code",
   "execution_count": null,
   "id": "8241efd7",
   "metadata": {},
   "outputs": [],
   "source": []
  },
  {
   "cell_type": "code",
   "execution_count": null,
   "id": "1d49514e",
   "metadata": {},
   "outputs": [],
   "source": []
  },
  {
   "cell_type": "code",
   "execution_count": null,
   "id": "9ff43d78",
   "metadata": {},
   "outputs": [],
   "source": []
  }
 ],
 "metadata": {
  "kernelspec": {
   "display_name": "env_polars",
   "language": "python",
   "name": "env_polars"
  },
  "language_info": {
   "codemirror_mode": {
    "name": "ipython",
    "version": 3
   },
   "file_extension": ".py",
   "mimetype": "text/x-python",
   "name": "python",
   "nbconvert_exporter": "python",
   "pygments_lexer": "ipython3",
   "version": "3.10.14"
  }
 },
 "nbformat": 4,
 "nbformat_minor": 5
}
